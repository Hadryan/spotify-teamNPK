{
 "cells": [
  {
   "cell_type": "code",
   "execution_count": 1,
   "metadata": {},
   "outputs": [],
   "source": [
    "import pickle\n",
    "from collections import defaultdict\n",
    "import pandas as pd\n",
    "import sqlite3\n",
    "import os\n",
    "import numpy as np\n",
    "import csv"
   ]
  },
  {
   "cell_type": "code",
   "execution_count": 2,
   "metadata": {},
   "outputs": [],
   "source": [
    "#connect to database\n",
    "db = sqlite3.connect('../raw_data/spotify.db')\n",
    "cursor = db.cursor()\n",
    "cursor.execute(\"DROP TABLE IF EXISTS artist_info\")\n",
    "\n",
    "def viz_tables(cols, query):\n",
    "    q = cursor.execute(query).fetchall()\n",
    "    framelist = dict()\n",
    "    for i, col_name in enumerate(cols):\n",
    "        framelist[col_name] = [col[i] for col in q]\n",
    "    return pd.DataFrame.from_dict(framelist)"
   ]
  },
  {
   "cell_type": "code",
   "execution_count": 3,
   "metadata": {},
   "outputs": [
    {
     "data": {
      "text/plain": [
       "<sqlite3.Cursor at 0x1070801f0>"
      ]
     },
     "execution_count": 3,
     "metadata": {},
     "output_type": "execute_result"
    }
   ],
   "source": [
    "# #prep new table\n",
    "# sqlite3.register_adapter(np.int64, lambda val: int(val))\n",
    "# sqlite3.register_adapter(np.int32, lambda val: int(val))\n",
    "#create a new table for artist information\n",
    "cursor.execute('''CREATE TABLE IF NOT EXISTS artist_info\n",
    "               (Artist_uri TEXT, genres TEXT, popularity INTEGER, artist_followers INTEGER)''')"
   ]
  },
  {
   "cell_type": "code",
   "execution_count": 5,
   "metadata": {},
   "outputs": [],
   "source": [
    "directory = '../raw_data/artists/' #get directory of artist data\n",
    "extract = defaultdict(list)   \n",
    "for file in os.listdir(directory): #for each txt file in folder\n",
    "    openFile = open('../raw_data/artists/'+file, 'rb') #open txt file\n",
    "    loadFile = pickle.load(openFile) #load pickle object\n",
    "    for artist in loadFile:\n",
    "        uri = artist['uri'] #get artist uri\n",
    "        genres = artist['genres'] #get genres\n",
    "        pop = artist['popularity'] #get popularity (on a scale of 1-100)\n",
    "        fan = artist['followers']['total'] #get total number of followers  \n",
    "        \n",
    "        #append to dictionary\n",
    "        extract['Artist_uri'].append(uri)\n",
    "        if len(genres) == 0:\n",
    "            extract['genres'].append(NULL)\n",
    "        else:\n",
    "            extract['genres'].append(genres)\n",
    "        extract['popularity'].append(pop)\n",
    "        extract['artist_followers'].append(fan)"
   ]
  },
  {
   "cell_type": "code",
   "execution_count": 6,
   "metadata": {},
   "outputs": [],
   "source": [
    "df_artist = pd.DataFrame.from_dict(extract)\n",
    "df_artist.to_csv('../raw_data/artist_info.csv')"
   ]
  },
  {
   "cell_type": "code",
   "execution_count": 7,
   "metadata": {},
   "outputs": [],
   "source": [
    "#write information from artist_info.csv into database\n",
    "with open('../raw_data/artist_info.csv') as file:\n",
    "    info = csv.reader(file, delimiter = ',')\n",
    "    next(info, None)\n",
    "    for row in info:\n",
    "        index, uri, genres, pop, fan = row\n",
    "        insert_into_db = (uri, genres, pop, fan)\n",
    "        cursor.execute('''INSERT INTO artist_info\n",
    "                         (Artist_uri, genres, popularity, artist_followers) \n",
    "                          VALUES (?,?,?,?)''', insert_into_db)"
   ]
  },
  {
   "cell_type": "code",
   "execution_count": 8,
   "metadata": {},
   "outputs": [],
   "source": [
    "artist_cols = [col[1] for col in cursor.execute(\"PRAGMA table_info(artist_info)\")]"
   ]
  },
  {
   "cell_type": "code",
   "execution_count": 12,
   "metadata": {},
   "outputs": [
    {
     "data": {
      "text/html": [
       "<div>\n",
       "<style scoped>\n",
       "    .dataframe tbody tr th:only-of-type {\n",
       "        vertical-align: middle;\n",
       "    }\n",
       "\n",
       "    .dataframe tbody tr th {\n",
       "        vertical-align: top;\n",
       "    }\n",
       "\n",
       "    .dataframe thead th {\n",
       "        text-align: right;\n",
       "    }\n",
       "</style>\n",
       "<table border=\"1\" class=\"dataframe\">\n",
       "  <thead>\n",
       "    <tr style=\"text-align: right;\">\n",
       "      <th></th>\n",
       "      <th>Artist_uri</th>\n",
       "      <th>genres</th>\n",
       "      <th>popularity</th>\n",
       "      <th>artist_followers</th>\n",
       "    </tr>\n",
       "  </thead>\n",
       "  <tbody>\n",
       "    <tr>\n",
       "      <th>0</th>\n",
       "      <td>spotify:artist:6A6v2KBuvVYBygLdyxDbXV</td>\n",
       "      <td>NULL</td>\n",
       "      <td>5</td>\n",
       "      <td>242</td>\n",
       "    </tr>\n",
       "    <tr>\n",
       "      <th>1</th>\n",
       "      <td>spotify:artist:397MkfYKFROVhksmvcf2nP</td>\n",
       "      <td>NULL</td>\n",
       "      <td>37</td>\n",
       "      <td>1218</td>\n",
       "    </tr>\n",
       "    <tr>\n",
       "      <th>2</th>\n",
       "      <td>spotify:artist:2ophM2hp2Y293Py2fhIrMw</td>\n",
       "      <td>NULL</td>\n",
       "      <td>2</td>\n",
       "      <td>184</td>\n",
       "    </tr>\n",
       "    <tr>\n",
       "      <th>3</th>\n",
       "      <td>spotify:artist:2ky8DpKY4vckr9Y2lci9tL</td>\n",
       "      <td>NULL</td>\n",
       "      <td>2</td>\n",
       "      <td>23</td>\n",
       "    </tr>\n",
       "    <tr>\n",
       "      <th>4</th>\n",
       "      <td>spotify:artist:1eyXYj1ubGcQYMFakHiPOM</td>\n",
       "      <td>NULL</td>\n",
       "      <td>2</td>\n",
       "      <td>12</td>\n",
       "    </tr>\n",
       "    <tr>\n",
       "      <th>5</th>\n",
       "      <td>spotify:artist:5MF6vg57YBVZvn8Mjrjes4</td>\n",
       "      <td>NULL</td>\n",
       "      <td>4</td>\n",
       "      <td>49</td>\n",
       "    </tr>\n",
       "    <tr>\n",
       "      <th>6</th>\n",
       "      <td>spotify:artist:2Fxjyl5l05sZ3tZggUzteZ</td>\n",
       "      <td>NULL</td>\n",
       "      <td>2</td>\n",
       "      <td>63</td>\n",
       "    </tr>\n",
       "    <tr>\n",
       "      <th>7</th>\n",
       "      <td>spotify:artist:0KPLDt4FvOoQ9ce9uph93k</td>\n",
       "      <td>NULL</td>\n",
       "      <td>5</td>\n",
       "      <td>87</td>\n",
       "    </tr>\n",
       "    <tr>\n",
       "      <th>8</th>\n",
       "      <td>spotify:artist:6A5tzCjyCuxulB7FDhSo8A</td>\n",
       "      <td>NULL</td>\n",
       "      <td>0</td>\n",
       "      <td>142</td>\n",
       "    </tr>\n",
       "    <tr>\n",
       "      <th>9</th>\n",
       "      <td>spotify:artist:3zmPeG94Y72IBB4XVqb9dM</td>\n",
       "      <td>NULL</td>\n",
       "      <td>0</td>\n",
       "      <td>19</td>\n",
       "    </tr>\n",
       "  </tbody>\n",
       "</table>\n",
       "</div>"
      ],
      "text/plain": [
       "                              Artist_uri genres  popularity  artist_followers\n",
       "0  spotify:artist:6A6v2KBuvVYBygLdyxDbXV   NULL           5               242\n",
       "1  spotify:artist:397MkfYKFROVhksmvcf2nP   NULL          37              1218\n",
       "2  spotify:artist:2ophM2hp2Y293Py2fhIrMw   NULL           2               184\n",
       "3  spotify:artist:2ky8DpKY4vckr9Y2lci9tL   NULL           2                23\n",
       "4  spotify:artist:1eyXYj1ubGcQYMFakHiPOM   NULL           2                12\n",
       "5  spotify:artist:5MF6vg57YBVZvn8Mjrjes4   NULL           4                49\n",
       "6  spotify:artist:2Fxjyl5l05sZ3tZggUzteZ   NULL           2                63\n",
       "7  spotify:artist:0KPLDt4FvOoQ9ce9uph93k   NULL           5                87\n",
       "8  spotify:artist:6A5tzCjyCuxulB7FDhSo8A   NULL           0               142\n",
       "9  spotify:artist:3zmPeG94Y72IBB4XVqb9dM   NULL           0                19"
      ]
     },
     "execution_count": 12,
     "metadata": {},
     "output_type": "execute_result"
    }
   ],
   "source": [
    "query = '''SELECT * FROM artist_info WHERE genres LIKE 'NULL' LIMIT 10'''\n",
    "viz_tables(artist_cols, query)"
   ]
  },
  {
   "cell_type": "code",
   "execution_count": 13,
   "metadata": {},
   "outputs": [],
   "source": [
    "db.commit()\n",
    "db.close()"
   ]
  }
 ],
 "metadata": {
  "kernelspec": {
   "display_name": "Python 3",
   "language": "python",
   "name": "python3"
  },
  "language_info": {
   "codemirror_mode": {
    "name": "ipython",
    "version": 3
   },
   "file_extension": ".py",
   "mimetype": "text/x-python",
   "name": "python",
   "nbconvert_exporter": "python",
   "pygments_lexer": "ipython3",
   "version": "3.6.5"
  }
 },
 "nbformat": 4,
 "nbformat_minor": 2
}
