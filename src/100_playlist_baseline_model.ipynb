{
 "cells": [
  {
   "cell_type": "markdown",
   "metadata": {},
   "source": [
    "# k-NN Collaborative Filtering (Baseline)\n",
    "The following notebook illustrates our k-NN collaborative filtering approach (uses as our baseline model) that uses track co-occurrence in playlists to recommend tracks to playlists."
   ]
  },
  {
   "cell_type": "markdown",
   "metadata": {},
   "source": [
    "## 0. Motivation\n",
    "In order to recommend relevant songs to playlists, it is natural to think about songs that are in a similar playlist but not currently in our target playlist. \n",
    "\n",
    "Our k-NN collaborative filtering modeling approach looks at playlists that share similar tracks (i.e., if the two playlists have a high number of overlapping tracks) and recommend songs that are in the similar playlists but not in the target playlist."
   ]
  },
  {
   "cell_type": "markdown",
   "metadata": {},
   "source": [
    "## 0.1 Strategy\n",
    "To compute prediction set per playlist, our model does the following:,\n",
    "1. The model finds k nearest neighbor playlists of our target playlist (measured by cosine distance between playlists).\n",
    "\n",
    "2. From the k-NN playlists, the model then build the recommendation by recommending tracks that are in the neighbor playlists but not in the target playlist, starting from the most similar playlist. It will stop building the recommendation list until it reaches the pre-determined length (test set size * 15 for each playlist)\n",
    "   "
   ]
  },
  {
   "cell_type": "markdown",
   "metadata": {},
   "source": [
    "## 1. Data Processing"
   ]
  },
  {
   "cell_type": "markdown",
   "metadata": {},
   "source": [
    "### 1.1 Train-test split\n",
    "\n",
    "We did a stratified splitting of the data (by Playlistid) into training and test set by 80-20. Stratified splitting ensures that we have the right proportion of train and test for playlists of different lengths."
   ]
  },
  {
   "cell_type": "code",
   "execution_count": 4,
   "metadata": {},
   "outputs": [
    {
     "data": {
      "text/plain": [
       "((1970, 28), (616, 28))"
      ]
     },
     "execution_count": 4,
     "metadata": {},
     "output_type": "execute_result"
    }
   ],
   "source": [
    "train.shape, test.shape"
   ]
  },
  {
   "cell_type": "markdown",
   "metadata": {},
   "source": [
    "### 1.2 Binary Sparse Matrix\n",
    "\n",
    "We used the training set to create a binary sparse matrix with 100 playlists and 1534 unique songs. Each row represents tracks that are in the playlist (1) or not (0). As you can imagine, it is a sparse matrix, because one playlist only has maximum of 350 songs in our dataset, while we have 1534 unqiue songs in the matrix.\n",
    "\n",
    "We then transformed the matrix to a Compressed Sparse Row matrix from scipy and fit a 5-nearest-neighbor model (using cosine as distance metric and brute-force search)."
   ]
  },
  {
   "cell_type": "code",
   "execution_count": 8,
   "metadata": {},
   "outputs": [
    {
     "data": {
      "text/plain": [
       "(100, 1534)"
      ]
     },
     "execution_count": 8,
     "metadata": {},
     "output_type": "execute_result"
    }
   ],
   "source": [
    "co_mat.shape"
   ]
  },
  {
   "cell_type": "markdown",
   "metadata": {},
   "source": [
    "Below shows the few rows of the matrix."
   ]
  },
  {
   "cell_type": "code",
   "execution_count": 6,
   "metadata": {},
   "outputs": [
    {
     "data": {
      "text/html": [
       "<div>\n",
       "<style scoped>\n",
       "    .dataframe tbody tr th:only-of-type {\n",
       "        vertical-align: middle;\n",
       "    }\n",
       "\n",
       "    .dataframe tbody tr th {\n",
       "        vertical-align: top;\n",
       "    }\n",
       "\n",
       "    .dataframe thead th {\n",
       "        text-align: right;\n",
       "    }\n",
       "</style>\n",
       "<table border=\"1\" class=\"dataframe\">\n",
       "  <thead>\n",
       "    <tr style=\"text-align: right;\">\n",
       "      <th>Track_uri</th>\n",
       "      <th>spotify:track:00LfFm08VWeZwB0Zlm24AT</th>\n",
       "      <th>spotify:track:00qOE7OjRl0BpYiCiweZB2</th>\n",
       "      <th>spotify:track:01a0J96fRD91VnjQQUCqMK</th>\n",
       "      <th>spotify:track:01iyCAUm8EvOFqVWYJ3dVX</th>\n",
       "      <th>spotify:track:027h5P3kCyktHv9dpHUBBS</th>\n",
       "      <th>spotify:track:02M6vucOvmRfMxTXDUwRXu</th>\n",
       "      <th>spotify:track:03L2AoiRbWhvt7BDMx1jUB</th>\n",
       "      <th>spotify:track:03LpkqucyYKcYclDs8HuxO</th>\n",
       "      <th>spotify:track:03fT3OHB9KyMtGMt2zwqCT</th>\n",
       "      <th>spotify:track:03tqyYWC9Um2ZqU0ZN849H</th>\n",
       "      <th>...</th>\n",
       "      <th>spotify:track:7yFMhCJOsH7khgpdnyrZAZ</th>\n",
       "      <th>spotify:track:7yHEDfrJNd0zWOfXwydNH0</th>\n",
       "      <th>spotify:track:7ySUcLPVX7KudhnmNcgY2D</th>\n",
       "      <th>spotify:track:7yfg0Eer6UZZt5tZ1XdsWz</th>\n",
       "      <th>spotify:track:7yq4Qj7cqayVTp3FF9CWbm</th>\n",
       "      <th>spotify:track:7yyRTcZmCiyzzJlNzGC9Ol</th>\n",
       "      <th>spotify:track:7zBPzAjKAqQpcv8F8GCq5s</th>\n",
       "      <th>spotify:track:7zWj09xkFgA9tcV6YhfU6q</th>\n",
       "      <th>spotify:track:7zbq8RT5Kd3ExOGVTiUQbR</th>\n",
       "      <th>spotify:track:7zxRMhXxJMQCeDDg0rKAVo</th>\n",
       "    </tr>\n",
       "    <tr>\n",
       "      <th>Playlistid</th>\n",
       "      <th></th>\n",
       "      <th></th>\n",
       "      <th></th>\n",
       "      <th></th>\n",
       "      <th></th>\n",
       "      <th></th>\n",
       "      <th></th>\n",
       "      <th></th>\n",
       "      <th></th>\n",
       "      <th></th>\n",
       "      <th></th>\n",
       "      <th></th>\n",
       "      <th></th>\n",
       "      <th></th>\n",
       "      <th></th>\n",
       "      <th></th>\n",
       "      <th></th>\n",
       "      <th></th>\n",
       "      <th></th>\n",
       "      <th></th>\n",
       "      <th></th>\n",
       "    </tr>\n",
       "  </thead>\n",
       "  <tbody>\n",
       "    <tr>\n",
       "      <th>430</th>\n",
       "      <td>0</td>\n",
       "      <td>0</td>\n",
       "      <td>0</td>\n",
       "      <td>0</td>\n",
       "      <td>0</td>\n",
       "      <td>0</td>\n",
       "      <td>0</td>\n",
       "      <td>0</td>\n",
       "      <td>0</td>\n",
       "      <td>0</td>\n",
       "      <td>...</td>\n",
       "      <td>0</td>\n",
       "      <td>0</td>\n",
       "      <td>0</td>\n",
       "      <td>0</td>\n",
       "      <td>0</td>\n",
       "      <td>0</td>\n",
       "      <td>0</td>\n",
       "      <td>0</td>\n",
       "      <td>0</td>\n",
       "      <td>0</td>\n",
       "    </tr>\n",
       "    <tr>\n",
       "      <th>622</th>\n",
       "      <td>0</td>\n",
       "      <td>0</td>\n",
       "      <td>0</td>\n",
       "      <td>0</td>\n",
       "      <td>0</td>\n",
       "      <td>0</td>\n",
       "      <td>0</td>\n",
       "      <td>0</td>\n",
       "      <td>0</td>\n",
       "      <td>0</td>\n",
       "      <td>...</td>\n",
       "      <td>0</td>\n",
       "      <td>0</td>\n",
       "      <td>0</td>\n",
       "      <td>0</td>\n",
       "      <td>0</td>\n",
       "      <td>0</td>\n",
       "      <td>0</td>\n",
       "      <td>0</td>\n",
       "      <td>0</td>\n",
       "      <td>0</td>\n",
       "    </tr>\n",
       "    <tr>\n",
       "      <th>1990</th>\n",
       "      <td>0</td>\n",
       "      <td>0</td>\n",
       "      <td>0</td>\n",
       "      <td>0</td>\n",
       "      <td>0</td>\n",
       "      <td>0</td>\n",
       "      <td>0</td>\n",
       "      <td>0</td>\n",
       "      <td>0</td>\n",
       "      <td>0</td>\n",
       "      <td>...</td>\n",
       "      <td>0</td>\n",
       "      <td>0</td>\n",
       "      <td>0</td>\n",
       "      <td>0</td>\n",
       "      <td>0</td>\n",
       "      <td>0</td>\n",
       "      <td>0</td>\n",
       "      <td>0</td>\n",
       "      <td>0</td>\n",
       "      <td>0</td>\n",
       "    </tr>\n",
       "    <tr>\n",
       "      <th>2259</th>\n",
       "      <td>0</td>\n",
       "      <td>0</td>\n",
       "      <td>0</td>\n",
       "      <td>0</td>\n",
       "      <td>0</td>\n",
       "      <td>0</td>\n",
       "      <td>0</td>\n",
       "      <td>0</td>\n",
       "      <td>0</td>\n",
       "      <td>0</td>\n",
       "      <td>...</td>\n",
       "      <td>0</td>\n",
       "      <td>0</td>\n",
       "      <td>0</td>\n",
       "      <td>0</td>\n",
       "      <td>0</td>\n",
       "      <td>0</td>\n",
       "      <td>0</td>\n",
       "      <td>0</td>\n",
       "      <td>1</td>\n",
       "      <td>0</td>\n",
       "    </tr>\n",
       "    <tr>\n",
       "      <th>2535</th>\n",
       "      <td>0</td>\n",
       "      <td>0</td>\n",
       "      <td>0</td>\n",
       "      <td>0</td>\n",
       "      <td>0</td>\n",
       "      <td>0</td>\n",
       "      <td>0</td>\n",
       "      <td>0</td>\n",
       "      <td>0</td>\n",
       "      <td>0</td>\n",
       "      <td>...</td>\n",
       "      <td>0</td>\n",
       "      <td>0</td>\n",
       "      <td>0</td>\n",
       "      <td>0</td>\n",
       "      <td>0</td>\n",
       "      <td>0</td>\n",
       "      <td>0</td>\n",
       "      <td>0</td>\n",
       "      <td>0</td>\n",
       "      <td>0</td>\n",
       "    </tr>\n",
       "  </tbody>\n",
       "</table>\n",
       "<p>5 rows × 1534 columns</p>\n",
       "</div>"
      ],
      "text/plain": [
       "Track_uri   spotify:track:00LfFm08VWeZwB0Zlm24AT  \\\n",
       "Playlistid                                         \n",
       "430                                            0   \n",
       "622                                            0   \n",
       "1990                                           0   \n",
       "2259                                           0   \n",
       "2535                                           0   \n",
       "\n",
       "Track_uri   spotify:track:00qOE7OjRl0BpYiCiweZB2  \\\n",
       "Playlistid                                         \n",
       "430                                            0   \n",
       "622                                            0   \n",
       "1990                                           0   \n",
       "2259                                           0   \n",
       "2535                                           0   \n",
       "\n",
       "Track_uri   spotify:track:01a0J96fRD91VnjQQUCqMK  \\\n",
       "Playlistid                                         \n",
       "430                                            0   \n",
       "622                                            0   \n",
       "1990                                           0   \n",
       "2259                                           0   \n",
       "2535                                           0   \n",
       "\n",
       "Track_uri   spotify:track:01iyCAUm8EvOFqVWYJ3dVX  \\\n",
       "Playlistid                                         \n",
       "430                                            0   \n",
       "622                                            0   \n",
       "1990                                           0   \n",
       "2259                                           0   \n",
       "2535                                           0   \n",
       "\n",
       "Track_uri   spotify:track:027h5P3kCyktHv9dpHUBBS  \\\n",
       "Playlistid                                         \n",
       "430                                            0   \n",
       "622                                            0   \n",
       "1990                                           0   \n",
       "2259                                           0   \n",
       "2535                                           0   \n",
       "\n",
       "Track_uri   spotify:track:02M6vucOvmRfMxTXDUwRXu  \\\n",
       "Playlistid                                         \n",
       "430                                            0   \n",
       "622                                            0   \n",
       "1990                                           0   \n",
       "2259                                           0   \n",
       "2535                                           0   \n",
       "\n",
       "Track_uri   spotify:track:03L2AoiRbWhvt7BDMx1jUB  \\\n",
       "Playlistid                                         \n",
       "430                                            0   \n",
       "622                                            0   \n",
       "1990                                           0   \n",
       "2259                                           0   \n",
       "2535                                           0   \n",
       "\n",
       "Track_uri   spotify:track:03LpkqucyYKcYclDs8HuxO  \\\n",
       "Playlistid                                         \n",
       "430                                            0   \n",
       "622                                            0   \n",
       "1990                                           0   \n",
       "2259                                           0   \n",
       "2535                                           0   \n",
       "\n",
       "Track_uri   spotify:track:03fT3OHB9KyMtGMt2zwqCT  \\\n",
       "Playlistid                                         \n",
       "430                                            0   \n",
       "622                                            0   \n",
       "1990                                           0   \n",
       "2259                                           0   \n",
       "2535                                           0   \n",
       "\n",
       "Track_uri   spotify:track:03tqyYWC9Um2ZqU0ZN849H  \\\n",
       "Playlistid                                         \n",
       "430                                            0   \n",
       "622                                            0   \n",
       "1990                                           0   \n",
       "2259                                           0   \n",
       "2535                                           0   \n",
       "\n",
       "Track_uri                   ...                   \\\n",
       "Playlistid                  ...                    \n",
       "430                         ...                    \n",
       "622                         ...                    \n",
       "1990                        ...                    \n",
       "2259                        ...                    \n",
       "2535                        ...                    \n",
       "\n",
       "Track_uri   spotify:track:7yFMhCJOsH7khgpdnyrZAZ  \\\n",
       "Playlistid                                         \n",
       "430                                            0   \n",
       "622                                            0   \n",
       "1990                                           0   \n",
       "2259                                           0   \n",
       "2535                                           0   \n",
       "\n",
       "Track_uri   spotify:track:7yHEDfrJNd0zWOfXwydNH0  \\\n",
       "Playlistid                                         \n",
       "430                                            0   \n",
       "622                                            0   \n",
       "1990                                           0   \n",
       "2259                                           0   \n",
       "2535                                           0   \n",
       "\n",
       "Track_uri   spotify:track:7ySUcLPVX7KudhnmNcgY2D  \\\n",
       "Playlistid                                         \n",
       "430                                            0   \n",
       "622                                            0   \n",
       "1990                                           0   \n",
       "2259                                           0   \n",
       "2535                                           0   \n",
       "\n",
       "Track_uri   spotify:track:7yfg0Eer6UZZt5tZ1XdsWz  \\\n",
       "Playlistid                                         \n",
       "430                                            0   \n",
       "622                                            0   \n",
       "1990                                           0   \n",
       "2259                                           0   \n",
       "2535                                           0   \n",
       "\n",
       "Track_uri   spotify:track:7yq4Qj7cqayVTp3FF9CWbm  \\\n",
       "Playlistid                                         \n",
       "430                                            0   \n",
       "622                                            0   \n",
       "1990                                           0   \n",
       "2259                                           0   \n",
       "2535                                           0   \n",
       "\n",
       "Track_uri   spotify:track:7yyRTcZmCiyzzJlNzGC9Ol  \\\n",
       "Playlistid                                         \n",
       "430                                            0   \n",
       "622                                            0   \n",
       "1990                                           0   \n",
       "2259                                           0   \n",
       "2535                                           0   \n",
       "\n",
       "Track_uri   spotify:track:7zBPzAjKAqQpcv8F8GCq5s  \\\n",
       "Playlistid                                         \n",
       "430                                            0   \n",
       "622                                            0   \n",
       "1990                                           0   \n",
       "2259                                           0   \n",
       "2535                                           0   \n",
       "\n",
       "Track_uri   spotify:track:7zWj09xkFgA9tcV6YhfU6q  \\\n",
       "Playlistid                                         \n",
       "430                                            0   \n",
       "622                                            0   \n",
       "1990                                           0   \n",
       "2259                                           0   \n",
       "2535                                           0   \n",
       "\n",
       "Track_uri   spotify:track:7zbq8RT5Kd3ExOGVTiUQbR  \\\n",
       "Playlistid                                         \n",
       "430                                            0   \n",
       "622                                            0   \n",
       "1990                                           0   \n",
       "2259                                           1   \n",
       "2535                                           0   \n",
       "\n",
       "Track_uri   spotify:track:7zxRMhXxJMQCeDDg0rKAVo  \n",
       "Playlistid                                        \n",
       "430                                            0  \n",
       "622                                            0  \n",
       "1990                                           0  \n",
       "2259                                           0  \n",
       "2535                                           0  \n",
       "\n",
       "[5 rows x 1534 columns]"
      ]
     },
     "execution_count": 6,
     "metadata": {},
     "output_type": "execute_result"
    }
   ],
   "source": [
    "co_mat.head()"
   ]
  },
  {
   "cell_type": "markdown",
   "metadata": {},
   "source": [
    "## 2. Model Performance\n",
    "### 2.1 Metrics \n",
    "We used the following metrics to evaluate our model, based on Spotify RecSys [rules](https://recsys-challenge.spotify.com/rules)"
   ]
  },
  {
   "cell_type": "markdown",
   "metadata": {},
   "source": [
    "1. **R-precision**: the number of retrieved relevant tracks divided by the number of known relevant tracks (i.e., the number of withheld tracks). This metric rewards total number of retrieved relevant tracks (regardless of order).\\n,\n",
    "2. **NDCG**: Discounted cumulative gain (DCG) measures the ranking quality of the recommended tracks, increasing when relevant tracks are placed higher in the list. Normalized DCG (NDCG) is determined by calculating the DCG and dividing it by the ideal DCG in which the recommended tracks are perfectly ranked.\\n,\n",
    "    "
   ]
  },
  {
   "cell_type": "markdown",
   "metadata": {},
   "source": [
    "### 2.2 Model Test-Set Performance"
   ]
  },
  {
   "cell_type": "markdown",
   "metadata": {},
   "source": [
    "| Data | R-Precision | NDCG | Average of the two metrics |\n",
    "|------|------|------|----- |\n",
    "|Test set of 100 playlists | 0.077025|0.080346|0.078685|\n",
    "|Test set of 1000 playlists | | | |"
   ]
  },
  {
   "cell_type": "markdown",
   "metadata": {},
   "source": [
    "## 3. Conclusion"
   ]
  },
  {
   "cell_type": "markdown",
   "metadata": {},
   "source": [
    "We achieved a 0.07 R-precision score and 0.08 NDCG score with our baseline k-NN collaborative filtering model. The current model only consider track co-occurence between playlists, we are curious to know if the model will improve if audio features are added. "
   ]
  },
  {
   "cell_type": "code",
   "execution_count": 15,
   "metadata": {},
   "outputs": [
    {
     "data": {
      "text/plain": [
       "NearestNeighbors(algorithm='brute', leaf_size=30, metric='cosine',\n",
       "         metric_params=None, n_jobs=1, n_neighbors=5, p=2, radius=1.0)"
      ]
     },
     "execution_count": 15,
     "metadata": {},
     "output_type": "execute_result"
    }
   ],
   "source": [
    "col_filter = NearestNeighbors(metric='cosine', algorithm='brute')\n",
    "col_filter.fit(co_mat_sparse)"
   ]
  },
  {
   "cell_type": "code",
   "execution_count": 9,
   "metadata": {},
   "outputs": [],
   "source": [
    "def nholdout(playlist_id, df):\n",
    "    '''Pass in a playlist id to get number of songs held out in val/test set'''\n",
    "    \n",
    "    return len(df[df.Playlistid == playlist_id].Track_uri)\n",
    "\n",
    "def kpredict(knnmodel, playlist_id, df):\n",
    "    '''for a playlist id, generate list of 15*k predictions where k is num holdouts''' \n",
    "    \n",
    "    k = nholdout(playlist_id, df)*15 # number of holdouts\n",
    "    ref_songs = co_mat.columns.values[co_mat.loc[playlist_id] == 1] # songs already in playlist\n",
    "    dist, ind = knnmodel.kneighbors(np.array(co_mat.loc[playlist_id]).reshape(1, -1), n_neighbors = 99)\n",
    "    rec_ind = co_mat.index[ind[0]] # recommended playlists\n",
    "    \n",
    "    n_pred = 0\n",
    "    pred = []\n",
    "    for i in rec_ind:\n",
    "        new_songs = co_mat.columns.values[co_mat.loc[i] == 1] # potential recommendations\n",
    "        for song in new_songs:\n",
    "            if song not in ref_songs: # only getting songs not already in target playlist\n",
    "                pred.append(song)\n",
    "                n_pred += 1\n",
    "                if n_pred == k:\n",
    "                    break\n",
    "        if n_pred == k:\n",
    "            break\n",
    "    \n",
    "    return pred"
   ]
  },
  {
   "cell_type": "code",
   "execution_count": 16,
   "metadata": {
    "scrolled": true
   },
   "outputs": [],
   "source": [
    "### Prediction Example\n",
    "pi = 430 # target playlist index\n",
    "kpreds = kpredict(col_filter, pi, val) # list of predictions"
   ]
  },
  {
   "cell_type": "code",
   "execution_count": 17,
   "metadata": {},
   "outputs": [],
   "source": [
    "val_set = val[val.Playlistid == pi]\n",
    "val_set = val_set['Track_uri'] # ground truth"
   ]
  },
  {
   "cell_type": "markdown",
   "metadata": {},
   "source": [
    "## Metrics"
   ]
  },
  {
   "cell_type": "code",
   "execution_count": 19,
   "metadata": {},
   "outputs": [],
   "source": [
    "def r_precision(prediction, val_set):\n",
    "# prediction should be a list of predictions\n",
    "# val_set should be pandas Series of ground truths\n",
    "    score = np.sum(val_set.isin(prediction))/val_set.shape[0]\n",
    "    return score"
   ]
  },
  {
   "cell_type": "code",
   "execution_count": 20,
   "metadata": {},
   "outputs": [
    {
     "data": {
      "text/plain": [
       "0.0"
      ]
     },
     "execution_count": 20,
     "metadata": {},
     "output_type": "execute_result"
    }
   ],
   "source": [
    "### Example Usage\n",
    "r_precision(kpreds, val_set)"
   ]
  },
  {
   "cell_type": "code",
   "execution_count": 26,
   "metadata": {},
   "outputs": [],
   "source": [
    "### NDCG Code Source: https://gist.github.com/bwhite/3726239\n",
    "def dcg_at_k(r, k, method=0):\n",
    "    r = np.asfarray(r)[:k]\n",
    "    if r.size:\n",
    "        if method == 0:\n",
    "            return r[0] + np.sum(r[1:] / np.log2(np.arange(2, r.size + 1)))\n",
    "        elif method == 1:\n",
    "            return np.sum(r / np.log2(np.arange(2, r.size + 2)))\n",
    "        else:\n",
    "            raise ValueError('method must be 0 or 1.')\n",
    "    return 0.\n",
    "\n",
    "\n",
    "def ndcg_at_k(r, k, method=0):\n",
    "    dcg_max = dcg_at_k(sorted(r, reverse=True), k, method)\n",
    "    if not dcg_max:\n",
    "        return 0.\n",
    "    return dcg_at_k(r, k, method) / dcg_max"
   ]
  },
  {
   "cell_type": "code",
   "execution_count": 28,
   "metadata": {},
   "outputs": [
    {
     "data": {
      "text/plain": [
       "0.0"
      ]
     },
     "execution_count": 28,
     "metadata": {},
     "output_type": "execute_result"
    }
   ],
   "source": [
    "### Example Usage\n",
    "# Generate binary relevance array\n",
    "r = np.zeros(len(kpreds))\n",
    "for i, p in enumerate(kpreds):\n",
    "    if p in val_set:\n",
    "        r[i] = 1\n",
    "\n",
    "ndcg_at_k(r, len(r))"
   ]
  },
  {
   "cell_type": "markdown",
   "metadata": {},
   "source": [
    "## Baseline Model Performance"
   ]
  },
  {
   "cell_type": "code",
   "execution_count": 57,
   "metadata": {
    "scrolled": true
   },
   "outputs": [],
   "source": [
    "rps = []\n",
    "ndcgs = []\n",
    "for pid in co_mat.index:\n",
    "    ps = kpredict(col_filter, pid, val) # predictions\n",
    "    vs = val[val.Playlistid == pid].Track_uri # ground truth\n",
    "    rps.append(r_precision(ps, vs))\n",
    "    \n",
    "    r = np.zeros(len(ps))\n",
    "    for i, p in enumerate(ps):\n",
    "        if np.any(vs.isin([p])):\n",
    "            r[i] = 1\n",
    "    ndcgs.append(ndcg_at_k(r, len(r)))\n",
    "    "
   ]
  },
  {
   "cell_type": "code",
   "execution_count": 58,
   "metadata": {},
   "outputs": [
    {
     "name": "stdout",
     "output_type": "stream",
     "text": [
      "Avg. R-Precision:  0.07702539127539126\n",
      "Avg. NDCG:  0.08034624710411524\n",
      "Total Sum:  0.07868581918975326\n"
     ]
    }
   ],
   "source": [
    "avg_rp = np.mean(rps)\n",
    "avg_ndcg = np.mean(ndcgs)\n",
    "print('Avg. R-Precision: ', avg_rp)\n",
    "print('Avg. NDCG: ', avg_ndcg)\n",
    "print('Total Sum: ', np.mean([avg_rp, avg_ndcg]))"
   ]
  },
  {
   "cell_type": "code",
   "execution_count": null,
   "metadata": {},
   "outputs": [],
   "source": []
  }
 ],
 "metadata": {
  "kernelspec": {
   "display_name": "Python 3",
   "language": "python",
   "name": "python3"
  },
  "language_info": {
   "codemirror_mode": {
    "name": "ipython",
    "version": 3
   },
   "file_extension": ".py",
   "mimetype": "text/x-python",
   "name": "python",
   "nbconvert_exporter": "python",
   "pygments_lexer": "ipython3",
   "version": "3.6.6"
  }
 },
 "nbformat": 4,
 "nbformat_minor": 2
}
