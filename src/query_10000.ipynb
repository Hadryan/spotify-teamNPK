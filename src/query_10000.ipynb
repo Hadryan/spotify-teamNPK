{
 "cells": [
  {
   "cell_type": "markdown",
   "metadata": {},
   "source": [
    "## Query 10000 Playlists for Final Model"
   ]
  },
  {
   "cell_type": "code",
   "execution_count": 1,
   "metadata": {},
   "outputs": [],
   "source": [
    "#importing packages\n",
    "import pandas as pd\n",
    "import numpy as np\n",
    "import matplotlib.pyplot as plt"
   ]
  },
  {
   "cell_type": "code",
   "execution_count": 2,
   "metadata": {},
   "outputs": [
    {
     "name": "stderr",
     "output_type": "stream",
     "text": [
      "/Users/KaReeNaaah/anaconda3/lib/python3.6/site-packages/numpy/lib/arraysetops.py:472: FutureWarning: elementwise comparison failed; returning scalar instead, but in the future will perform elementwise comparison\n",
      "  mask |= (ar1 == a)\n"
     ]
    }
   ],
   "source": [
    "playlist = pd.read_csv(\"../raw_data/MPD_Playlist.csv\", index_col=\"Unnamed: 0\") #read master playlist data \n",
    "track_info = pd.read_csv(\"../raw_data/track_info.csv\", index_col=\"Unnamed: 0\") #read master track info data\n",
    "artist_info = pd.read_csv(\"../raw_data/artist_info.csv\", index_col=\"Unnamed: 0\") #read master artist info data"
   ]
  },
  {
   "cell_type": "code",
   "execution_count": 3,
   "metadata": {},
   "outputs": [
    {
     "data": {
      "text/html": [
       "<div>\n",
       "<style scoped>\n",
       "    .dataframe tbody tr th:only-of-type {\n",
       "        vertical-align: middle;\n",
       "    }\n",
       "\n",
       "    .dataframe tbody tr th {\n",
       "        vertical-align: top;\n",
       "    }\n",
       "\n",
       "    .dataframe thead th {\n",
       "        text-align: right;\n",
       "    }\n",
       "</style>\n",
       "<table border=\"1\" class=\"dataframe\">\n",
       "  <thead>\n",
       "    <tr style=\"text-align: right;\">\n",
       "      <th></th>\n",
       "      <th>Playlistid</th>\n",
       "      <th>Playlist</th>\n",
       "      <th>Album</th>\n",
       "      <th>Track</th>\n",
       "      <th>Artist</th>\n",
       "      <th>Edit</th>\n",
       "      <th>Follower</th>\n",
       "      <th>Collaborative</th>\n",
       "      <th>MPDid</th>\n",
       "    </tr>\n",
       "  </thead>\n",
       "  <tbody>\n",
       "    <tr>\n",
       "      <th>0</th>\n",
       "      <td>549000</td>\n",
       "      <td>Bob Dylan</td>\n",
       "      <td>65</td>\n",
       "      <td>75</td>\n",
       "      <td>39</td>\n",
       "      <td>28</td>\n",
       "      <td>1</td>\n",
       "      <td>False</td>\n",
       "      <td>549000</td>\n",
       "    </tr>\n",
       "    <tr>\n",
       "      <th>1</th>\n",
       "      <td>549001</td>\n",
       "      <td>ON THE RUN</td>\n",
       "      <td>30</td>\n",
       "      <td>61</td>\n",
       "      <td>5</td>\n",
       "      <td>4</td>\n",
       "      <td>1</td>\n",
       "      <td>False</td>\n",
       "      <td>549001</td>\n",
       "    </tr>\n",
       "    <tr>\n",
       "      <th>2</th>\n",
       "      <td>549002</td>\n",
       "      <td>Biking</td>\n",
       "      <td>117</td>\n",
       "      <td>144</td>\n",
       "      <td>72</td>\n",
       "      <td>12</td>\n",
       "      <td>1</td>\n",
       "      <td>False</td>\n",
       "      <td>549002</td>\n",
       "    </tr>\n",
       "    <tr>\n",
       "      <th>3</th>\n",
       "      <td>549003</td>\n",
       "      <td>August</td>\n",
       "      <td>32</td>\n",
       "      <td>38</td>\n",
       "      <td>33</td>\n",
       "      <td>20</td>\n",
       "      <td>1</td>\n",
       "      <td>False</td>\n",
       "      <td>549003</td>\n",
       "    </tr>\n",
       "    <tr>\n",
       "      <th>4</th>\n",
       "      <td>549004</td>\n",
       "      <td>run mix</td>\n",
       "      <td>15</td>\n",
       "      <td>16</td>\n",
       "      <td>12</td>\n",
       "      <td>3</td>\n",
       "      <td>1</td>\n",
       "      <td>False</td>\n",
       "      <td>549004</td>\n",
       "    </tr>\n",
       "  </tbody>\n",
       "</table>\n",
       "</div>"
      ],
      "text/plain": [
       "   Playlistid    Playlist  Album  Track  Artist  Edit  Follower  \\\n",
       "0      549000   Bob Dylan     65     75      39    28         1   \n",
       "1      549001  ON THE RUN     30     61       5     4         1   \n",
       "2      549002      Biking    117    144      72    12         1   \n",
       "3      549003      August     32     38      33    20         1   \n",
       "4      549004     run mix     15     16      12     3         1   \n",
       "\n",
       "   Collaborative   MPDid  \n",
       "0          False  549000  \n",
       "1          False  549001  \n",
       "2          False  549002  \n",
       "3          False  549003  \n",
       "4          False  549004  "
      ]
     },
     "execution_count": 3,
     "metadata": {},
     "output_type": "execute_result"
    }
   ],
   "source": [
    "playlist.head()"
   ]
  },
  {
   "cell_type": "code",
   "execution_count": 4,
   "metadata": {},
   "outputs": [],
   "source": [
    "playlist_filter = playlist[playlist.Track >= 10]"
   ]
  },
  {
   "cell_type": "code",
   "execution_count": 5,
   "metadata": {},
   "outputs": [],
   "source": [
    "#select random 10,000 playlist ids from playlist\n",
    "np.random.seed(123) #set seed\n",
    "rand10k = np.random.choice(playlist_filter.Playlistid, size = 10000, replace = False)"
   ]
  },
  {
   "cell_type": "code",
   "execution_count": 6,
   "metadata": {
    "scrolled": true
   },
   "outputs": [
    {
     "data": {
      "text/plain": [
       "(2399969, 15)"
      ]
     },
     "execution_count": 6,
     "metadata": {},
     "output_type": "execute_result"
    }
   ],
   "source": [
    "track_info.shape #check shape of data"
   ]
  },
  {
   "cell_type": "code",
   "execution_count": 7,
   "metadata": {},
   "outputs": [
    {
     "data": {
      "text/plain": [
       "(295800, 4)"
      ]
     },
     "execution_count": 7,
     "metadata": {},
     "output_type": "execute_result"
    }
   ],
   "source": [
    "artist_info.shape #check shape of data"
   ]
  },
  {
   "cell_type": "code",
   "execution_count": 8,
   "metadata": {},
   "outputs": [],
   "source": [
    "#extract track info from randomly selected playlistid\n",
    "import os\n",
    "track_data = list()\n",
    "directory = '../raw_data/data_Track/'\n",
    "for file in os.listdir(directory):\n",
    "    if '.csv' in file:\n",
    "        try:\n",
    "            df = pd.read_csv(directory+file, index_col = \"Unnamed: 0\")\n",
    "            df = df[df['Playlistid'].isin(rand10k)] #only extract playlistids that were randomly selected\n",
    "            track_data.append(df) #append to list\n",
    "        except:\n",
    "            track_data = track_data"
   ]
  },
  {
   "cell_type": "code",
   "execution_count": 9,
   "metadata": {},
   "outputs": [],
   "source": [
    "rand10k_track = pd.concat(track_data) #concatenate data frames"
   ]
  },
  {
   "cell_type": "code",
   "execution_count": 10,
   "metadata": {},
   "outputs": [
    {
     "data": {
      "text/plain": [
       "(679054, 9)"
      ]
     },
     "execution_count": 10,
     "metadata": {},
     "output_type": "execute_result"
    }
   ],
   "source": [
    "rand10k_track.shape #check shape of concatenated data"
   ]
  },
  {
   "cell_type": "code",
   "execution_count": 11,
   "metadata": {},
   "outputs": [],
   "source": [
    "track_info = track_info.drop('id', axis = 1).rename(columns = {'uri': 'Track_uri'}) #rename cols for merging"
   ]
  },
  {
   "cell_type": "code",
   "execution_count": 12,
   "metadata": {},
   "outputs": [],
   "source": [
    "subset10k = rand10k_track.merge(track_info, on = 'Track_uri', how = 'left') #add track info to subset10k"
   ]
  },
  {
   "cell_type": "code",
   "execution_count": 13,
   "metadata": {},
   "outputs": [],
   "source": [
    "subset10k = subset10k.drop_duplicates() #drop duplicates"
   ]
  },
  {
   "cell_type": "code",
   "execution_count": 14,
   "metadata": {},
   "outputs": [
    {
     "data": {
      "text/plain": [
       "(679054, 22)"
      ]
     },
     "execution_count": 14,
     "metadata": {},
     "output_type": "execute_result"
    }
   ],
   "source": [
    "subset10k.shape #check shape of subset data"
   ]
  },
  {
   "cell_type": "code",
   "execution_count": 15,
   "metadata": {
    "scrolled": true
   },
   "outputs": [
    {
     "data": {
      "text/plain": [
       "Playlistid               0\n",
       "Trackid                  0\n",
       "Artist_Name              0\n",
       "Track_Name               0\n",
       "Album_Name               0\n",
       "Track_Duration           0\n",
       "Artist_uri               0\n",
       "Track_uri                0\n",
       "Album_uri                0\n",
       "danceability        526167\n",
       "energy              526167\n",
       "key                 526167\n",
       "loudness            526167\n",
       "mode                526167\n",
       "speechiness         526167\n",
       "acousticness        526167\n",
       "instrumentalness    526167\n",
       "liveness            526167\n",
       "valence             526167\n",
       "tempo               526167\n",
       "duration_ms         526167\n",
       "time_signature      526167\n",
       "dtype: int64"
      ]
     },
     "execution_count": 15,
     "metadata": {},
     "output_type": "execute_result"
    }
   ],
   "source": [
    "subset10k.isna().sum() #check missing data"
   ]
  },
  {
   "cell_type": "code",
   "execution_count": null,
   "metadata": {},
   "outputs": [],
   "source": [
    "# missing = subset10k[subset10k['danceability'].isna()] \n",
    "\n",
    "# missing_uri = missing.Track_uri.unique() #generate list of missing uri for query\n",
    "\n",
    "# missing_uri = missing_uri.tolist() #convert to list\n",
    "\n",
    "# #spotipy credentials\n",
    "# import spotipy\n",
    "# from spotipy.oauth2 import SpotifyClientCredentials\n",
    "\n",
    "# client_credentials_manager = SpotifyClientCredentials(client_id='fc03c036ef2e4552810bcfa717b8c9d6',\n",
    "#                                                       client_secret='3f2bc1d385394fdebbfbca47a9b07268')\n",
    "# sp = spotipy.Spotify(client_credentials_manager=client_credentials_manager)\n",
    "\n",
    "# # sp.audio\n",
    "# sp.audio_features('spotify:track:5hq4pLTfUbgJQ2NAPcIJHr')\n",
    "\n",
    "# #query missing track info from api\n",
    "# import pickle\n",
    "# import time\n",
    "\n",
    "# start = 0\n",
    "# end = len(missing_uri)\n",
    "# for i in range(start, end, 50):\n",
    "#     print(i)\n",
    "#     temp_list = missing_uri[i:i+50]\n",
    "#     playlists = sp.audio_features(temp_list)\n",
    "\n",
    "#     # read in existing file\n",
    "# #     with open ('audio_features.txt', 'rb') as fp:\n",
    "# #         itemlist = pickle.load(fp)\n",
    "#     if \"itemlist\" in locals():\n",
    "#         itemlist = itemlist + playlists # append new datat\n",
    "#     else:\n",
    "#         itemlist = playlists\n",
    "    \n",
    "#     if len(itemlist) == 600: # save partial data into 600 chunks in case of error\n",
    "#         temp_filename = \"missing_10k_\" + str(i) + \".txt\" \n",
    "\n",
    "#         with open(temp_filename,\"wb\") as fp: # write updated new data\n",
    "#             pickle.dump(itemlist, fp)\n",
    "#             del itemlist\n",
    "#     time.sleep(np.random.randint(2,5))"
   ]
  },
  {
   "cell_type": "code",
   "execution_count": 16,
   "metadata": {},
   "outputs": [],
   "source": [
    "#process queried data\n",
    "import pickle\n",
    "from collections import defaultdict\n",
    "import csv\n",
    "import numpy as np\n",
    "import os\n",
    "\n",
    "directory = 'missing_feature/' #get directory of artist data\n",
    "extract = defaultdict(list)   \n",
    "for file in os.listdir(directory): #for each txt file in folder\n",
    "    if '.txt' in file:\n",
    "        with open (directory+file, 'rb') as fp:\n",
    "            itemlist = pickle.load(fp)\n",
    "            try:\n",
    "                for audiofile in itemlist:\n",
    "                    if audiofile is None:\n",
    "                        extract = extract\n",
    "                    else:\n",
    "                        for key in audiofile:\n",
    "                            extract[str(key)].append(audiofile[key]) #append to dictionary\n",
    "            except:\n",
    "                print(file)"
   ]
  },
  {
   "cell_type": "code",
   "execution_count": 17,
   "metadata": {},
   "outputs": [],
   "source": [
    "#missing track data convert to df\n",
    "df_missing = pd.DataFrame.from_dict(extract)"
   ]
  },
  {
   "cell_type": "code",
   "execution_count": 18,
   "metadata": {},
   "outputs": [
    {
     "data": {
      "text/html": [
       "<div>\n",
       "<style scoped>\n",
       "    .dataframe tbody tr th:only-of-type {\n",
       "        vertical-align: middle;\n",
       "    }\n",
       "\n",
       "    .dataframe tbody tr th {\n",
       "        vertical-align: top;\n",
       "    }\n",
       "\n",
       "    .dataframe thead th {\n",
       "        text-align: right;\n",
       "    }\n",
       "</style>\n",
       "<table border=\"1\" class=\"dataframe\">\n",
       "  <thead>\n",
       "    <tr style=\"text-align: right;\">\n",
       "      <th></th>\n",
       "      <th>danceability</th>\n",
       "      <th>energy</th>\n",
       "      <th>key</th>\n",
       "      <th>loudness</th>\n",
       "      <th>mode</th>\n",
       "      <th>speechiness</th>\n",
       "      <th>acousticness</th>\n",
       "      <th>instrumentalness</th>\n",
       "      <th>liveness</th>\n",
       "      <th>valence</th>\n",
       "      <th>tempo</th>\n",
       "      <th>id</th>\n",
       "      <th>uri</th>\n",
       "      <th>duration_ms</th>\n",
       "      <th>time_signature</th>\n",
       "    </tr>\n",
       "  </thead>\n",
       "  <tbody>\n",
       "    <tr>\n",
       "      <th>0</th>\n",
       "      <td>0.614</td>\n",
       "      <td>0.796</td>\n",
       "      <td>1</td>\n",
       "      <td>-4.918</td>\n",
       "      <td>1</td>\n",
       "      <td>0.0417</td>\n",
       "      <td>0.000695</td>\n",
       "      <td>0.000002</td>\n",
       "      <td>0.0660</td>\n",
       "      <td>0.556</td>\n",
       "      <td>93.936</td>\n",
       "      <td>39rJM0PvYhYheKdoPj7mSs</td>\n",
       "      <td>spotify:track:39rJM0PvYhYheKdoPj7mSs</td>\n",
       "      <td>209107</td>\n",
       "      <td>4</td>\n",
       "    </tr>\n",
       "    <tr>\n",
       "      <th>1</th>\n",
       "      <td>0.627</td>\n",
       "      <td>0.560</td>\n",
       "      <td>5</td>\n",
       "      <td>-5.378</td>\n",
       "      <td>1</td>\n",
       "      <td>0.0667</td>\n",
       "      <td>0.455000</td>\n",
       "      <td>0.000000</td>\n",
       "      <td>0.1260</td>\n",
       "      <td>0.493</td>\n",
       "      <td>97.967</td>\n",
       "      <td>25tjqTcyrBqt6IHAbUJCYW</td>\n",
       "      <td>spotify:track:25tjqTcyrBqt6IHAbUJCYW</td>\n",
       "      <td>262853</td>\n",
       "      <td>4</td>\n",
       "    </tr>\n",
       "    <tr>\n",
       "      <th>2</th>\n",
       "      <td>0.736</td>\n",
       "      <td>0.681</td>\n",
       "      <td>5</td>\n",
       "      <td>-5.856</td>\n",
       "      <td>0</td>\n",
       "      <td>0.1010</td>\n",
       "      <td>0.126000</td>\n",
       "      <td>0.000000</td>\n",
       "      <td>0.3960</td>\n",
       "      <td>0.166</td>\n",
       "      <td>135.118</td>\n",
       "      <td>6m60IwLIkZ2Fmz4J9FsQ1o</td>\n",
       "      <td>spotify:track:6m60IwLIkZ2Fmz4J9FsQ1o</td>\n",
       "      <td>217507</td>\n",
       "      <td>4</td>\n",
       "    </tr>\n",
       "    <tr>\n",
       "      <th>3</th>\n",
       "      <td>0.700</td>\n",
       "      <td>0.915</td>\n",
       "      <td>9</td>\n",
       "      <td>-4.336</td>\n",
       "      <td>0</td>\n",
       "      <td>0.0530</td>\n",
       "      <td>0.040300</td>\n",
       "      <td>0.000019</td>\n",
       "      <td>0.3350</td>\n",
       "      <td>0.556</td>\n",
       "      <td>111.999</td>\n",
       "      <td>0eqX5nyQs6LkhbqpNVfTlm</td>\n",
       "      <td>spotify:track:0eqX5nyQs6LkhbqpNVfTlm</td>\n",
       "      <td>264643</td>\n",
       "      <td>4</td>\n",
       "    </tr>\n",
       "    <tr>\n",
       "      <th>4</th>\n",
       "      <td>0.492</td>\n",
       "      <td>0.727</td>\n",
       "      <td>11</td>\n",
       "      <td>-6.407</td>\n",
       "      <td>0</td>\n",
       "      <td>0.0481</td>\n",
       "      <td>0.022900</td>\n",
       "      <td>0.000056</td>\n",
       "      <td>0.0661</td>\n",
       "      <td>0.254</td>\n",
       "      <td>171.956</td>\n",
       "      <td>35FswkiJQH4qnbUAXI5RSJ</td>\n",
       "      <td>spotify:track:35FswkiJQH4qnbUAXI5RSJ</td>\n",
       "      <td>264400</td>\n",
       "      <td>4</td>\n",
       "    </tr>\n",
       "  </tbody>\n",
       "</table>\n",
       "</div>"
      ],
      "text/plain": [
       "   danceability  energy  key  loudness  mode  speechiness  acousticness  \\\n",
       "0         0.614   0.796    1    -4.918     1       0.0417      0.000695   \n",
       "1         0.627   0.560    5    -5.378     1       0.0667      0.455000   \n",
       "2         0.736   0.681    5    -5.856     0       0.1010      0.126000   \n",
       "3         0.700   0.915    9    -4.336     0       0.0530      0.040300   \n",
       "4         0.492   0.727   11    -6.407     0       0.0481      0.022900   \n",
       "\n",
       "   instrumentalness  liveness  valence    tempo                      id  \\\n",
       "0          0.000002    0.0660    0.556   93.936  39rJM0PvYhYheKdoPj7mSs   \n",
       "1          0.000000    0.1260    0.493   97.967  25tjqTcyrBqt6IHAbUJCYW   \n",
       "2          0.000000    0.3960    0.166  135.118  6m60IwLIkZ2Fmz4J9FsQ1o   \n",
       "3          0.000019    0.3350    0.556  111.999  0eqX5nyQs6LkhbqpNVfTlm   \n",
       "4          0.000056    0.0661    0.254  171.956  35FswkiJQH4qnbUAXI5RSJ   \n",
       "\n",
       "                                    uri  duration_ms  time_signature  \n",
       "0  spotify:track:39rJM0PvYhYheKdoPj7mSs       209107               4  \n",
       "1  spotify:track:25tjqTcyrBqt6IHAbUJCYW       262853               4  \n",
       "2  spotify:track:6m60IwLIkZ2Fmz4J9FsQ1o       217507               4  \n",
       "3  spotify:track:0eqX5nyQs6LkhbqpNVfTlm       264643               4  \n",
       "4  spotify:track:35FswkiJQH4qnbUAXI5RSJ       264400               4  "
      ]
     },
     "execution_count": 18,
     "metadata": {},
     "output_type": "execute_result"
    }
   ],
   "source": [
    "df_missing = df_missing.drop(labels = ['track_href', 'analysis_url', 'type'], axis = 1) #drop unuseful columns\n",
    "df_missing.head()"
   ]
  },
  {
   "cell_type": "code",
   "execution_count": 19,
   "metadata": {},
   "outputs": [],
   "source": [
    "df_missing = df_missing.rename(columns = {'uri': 'Track_uri'}) #rename cols for merging\n",
    "# cols for merging\n",
    "join_cols = ['danceability', 'energy', 'key', 'loudness', 'mode', 'speechiness',\n",
    "             'acousticness', 'instrumentalness', 'liveness', 'valence', 'tempo',\n",
    "             'Track_uri', 'duration_ms', 'time_signature']"
   ]
  },
  {
   "cell_type": "code",
   "execution_count": 20,
   "metadata": {},
   "outputs": [
    {
     "data": {
      "text/plain": [
       "(679054, 22)"
      ]
     },
     "execution_count": 20,
     "metadata": {},
     "output_type": "execute_result"
    }
   ],
   "source": [
    "subset10k.shape #check shape for comparison below"
   ]
  },
  {
   "cell_type": "code",
   "execution_count": 21,
   "metadata": {},
   "outputs": [],
   "source": [
    "subset_10k_new = subset10k.merge(df_missing, on = 'Track_uri', how = 'left') #joining missing data\n",
    "\n",
    "subset_10k_new = subset_10k_new.drop_duplicates() #drop duplicates"
   ]
  },
  {
   "cell_type": "code",
   "execution_count": 22,
   "metadata": {},
   "outputs": [
    {
     "data": {
      "text/plain": [
       "(679054, 36)"
      ]
     },
     "execution_count": 22,
     "metadata": {},
     "output_type": "execute_result"
    }
   ],
   "source": [
    "subset_10k_new.shape #check shape"
   ]
  },
  {
   "cell_type": "code",
   "execution_count": 23,
   "metadata": {},
   "outputs": [
    {
     "data": {
      "text/plain": [
       "Index(['Playlistid', 'Trackid', 'Artist_Name', 'Track_Name', 'Album_Name',\n",
       "       'Track_Duration', 'Artist_uri', 'Track_uri', 'Album_uri',\n",
       "       'danceability_x', 'energy_x', 'key_x', 'loudness_x', 'mode_x',\n",
       "       'speechiness_x', 'acousticness_x', 'instrumentalness_x', 'liveness_x',\n",
       "       'valence_x', 'tempo_x', 'duration_ms_x', 'time_signature_x',\n",
       "       'danceability_y', 'energy_y', 'key_y', 'loudness_y', 'mode_y',\n",
       "       'speechiness_y', 'acousticness_y', 'instrumentalness_y', 'liveness_y',\n",
       "       'valence_y', 'tempo_y', 'id', 'duration_ms_y', 'time_signature_y'],\n",
       "      dtype='object')"
      ]
     },
     "execution_count": 23,
     "metadata": {},
     "output_type": "execute_result"
    }
   ],
   "source": [
    "subset_10k_new.columns"
   ]
  },
  {
   "cell_type": "code",
   "execution_count": null,
   "metadata": {},
   "outputs": [],
   "source": [
    "s = np.nan\n",
    "a = 0.0555\n",
    "np.isnan(a)"
   ]
  },
  {
   "cell_type": "code",
   "execution_count": null,
   "metadata": {},
   "outputs": [],
   "source": [
    "def findVal(x):\n",
    "    if np.isnan(x[0]) == True:\n",
    "        return x[1]\n",
    "    else:\n",
    "        return x[0]\n",
    "\n",
    "x_cols = ['danceability_x', 'energy_x', 'key_x', 'loudness_x', 'mode_x',\n",
    "       'speechiness_x', 'acousticness_x', 'instrumentalness_x', 'liveness_x',\n",
    "       'valence_x', 'tempo_x', 'duration_ms_x', 'time_signature_x']\n",
    "y_cols = ['danceability_y', 'energy_y', 'key_y', 'loudness_y', 'mode_y',\n",
    "       'speechiness_y', 'acousticness_y', 'instrumentalness_y', 'liveness_y',\n",
    "       'valence_y', 'tempo_y', 'duration_ms_y', 'time_signature_y']\n",
    "          \n",
    "for i in range(len(x_cols)):\n",
    "          name = x_cols[i][:-2]\n",
    "          subset_10k_new[name] = subset_10k_new[[x_cols[i],y_cols[i]]].apply(lambda x: findVal(x), axis = 1)"
   ]
  },
  {
   "cell_type": "code",
   "execution_count": null,
   "metadata": {},
   "outputs": [],
   "source": [
    "subset_10k_new = subset_10k_new.drop(x_cols, axis=1).drop(y_cols, axis=1)\n",
    "subset_10k_new.head()"
   ]
  },
  {
   "cell_type": "code",
   "execution_count": null,
   "metadata": {},
   "outputs": [],
   "source": [
    "subset_10k_new = subset_10k_new.drop('id', axis = 1)"
   ]
  },
  {
   "cell_type": "code",
   "execution_count": null,
   "metadata": {
    "scrolled": true
   },
   "outputs": [],
   "source": [
    "subset_10k_new.isna().sum()"
   ]
  },
  {
   "cell_type": "code",
   "execution_count": null,
   "metadata": {},
   "outputs": [],
   "source": [
    "directory = 'missing_feature_2/' #get directory of artist data\n",
    "extract2 = defaultdict(list)   \n",
    "for file in os.listdir(directory): #for each txt file in folder\n",
    "    if '.txt' in file:\n",
    "        with open (directory+file, 'rb') as fp:\n",
    "            itemlist = pickle.load(fp)\n",
    "            try:\n",
    "                for audiofile in itemlist:\n",
    "                    if audiofile is None:\n",
    "                        extract2 = extract2\n",
    "                    else:\n",
    "                        for key in audiofile:\n",
    "                            extract2[str(key)].append(audiofile[key]) #append to dictionary\n",
    "            except:\n",
    "                print(file)"
   ]
  },
  {
   "cell_type": "code",
   "execution_count": null,
   "metadata": {},
   "outputs": [],
   "source": [
    "#missing track data convert to df\n",
    "df_missing2 = pd.DataFrame.from_dict(extract2)\n",
    "df_missing2 = df_missing2.drop(labels = ['track_href', 'analysis_url', 'type'], axis = 1) #drop unuseful columns\n",
    "df_missing2 = df_missing2.rename(columns = {'uri': 'Track_uri'}) #rename cols for merging\n",
    "# cols for merging\n",
    "join_cols = ['danceability', 'energy', 'key', 'loudness', 'mode', 'speechiness',\n",
    "             'acousticness', 'instrumentalness', 'liveness', 'valence', 'tempo',\n",
    "             'Track_uri', 'duration_ms', 'time_signature']\n"
   ]
  },
  {
   "cell_type": "code",
   "execution_count": null,
   "metadata": {},
   "outputs": [],
   "source": [
    "subset_10k_new2 = subset_10k_new.merge(df_missing2, on = 'Track_uri', how = 'left') #joining missing data\n",
    "\n",
    "subset_10k_new2 = subset_10k_new2.drop_duplicates() #drop duplicates"
   ]
  },
  {
   "cell_type": "code",
   "execution_count": null,
   "metadata": {},
   "outputs": [],
   "source": [
    "subset_10k_new2.shape"
   ]
  },
  {
   "cell_type": "code",
   "execution_count": null,
   "metadata": {},
   "outputs": [],
   "source": [
    "def findVal(x):\n",
    "    if np.isnan(x[0]) == True:\n",
    "        return x[1]\n",
    "    else:\n",
    "        return x[0]\n",
    "\n",
    "x_cols = ['danceability_x', 'energy_x', 'key_x', 'loudness_x', 'mode_x',\n",
    "       'speechiness_x', 'acousticness_x', 'instrumentalness_x', 'liveness_x',\n",
    "       'valence_x', 'tempo_x', 'duration_ms_x', 'time_signature_x']\n",
    "y_cols = ['danceability_y', 'energy_y', 'key_y', 'loudness_y', 'mode_y',\n",
    "       'speechiness_y', 'acousticness_y', 'instrumentalness_y', 'liveness_y',\n",
    "       'valence_y', 'tempo_y', 'duration_ms_y', 'time_signature_y']\n",
    "          \n",
    "for i in range(len(x_cols)):\n",
    "          name = x_cols[i][:-2]\n",
    "          subset_10k_new2[name] = subset_10k_new2[[x_cols[i],y_cols[i]]].apply(lambda x: findVal(x), axis = 1)"
   ]
  },
  {
   "cell_type": "code",
   "execution_count": null,
   "metadata": {
    "scrolled": true
   },
   "outputs": [],
   "source": [
    "subset_10k_new2 = subset_10k_new2.drop(x_cols, axis=1).drop(y_cols, axis=1)\n",
    "subset_10k_new2 = subset_10k_new2.drop('id', axis = 1)\n",
    "subset_10k_new2.isna().sum()"
   ]
  },
  {
   "cell_type": "code",
   "execution_count": null,
   "metadata": {},
   "outputs": [],
   "source": [
    "incomplete = subset_10k_new2[subset_10k_new2.danceability.isna()]\n",
    "complete = subset_10k_new2.loc[~subset_10k_new2.Playlistid.isin(incomplete.Playlistid)]"
   ]
  },
  {
   "cell_type": "code",
   "execution_count": null,
   "metadata": {},
   "outputs": [],
   "source": [
    "len(complete.Playlistid.unique())"
   ]
  },
  {
   "cell_type": "code",
   "execution_count": null,
   "metadata": {},
   "outputs": [],
   "source": [
    "final_data = complete.to_csv('../raw_data/final_data.csv')"
   ]
  },
  {
   "cell_type": "code",
   "execution_count": null,
   "metadata": {},
   "outputs": [],
   "source": [
    "complete.shape"
   ]
  },
  {
   "cell_type": "code",
   "execution_count": null,
   "metadata": {},
   "outputs": [],
   "source": [
    "complete_wa = complete.merge(artist_info, on = 'Artist_uri', how = 'left')"
   ]
  },
  {
   "cell_type": "code",
   "execution_count": null,
   "metadata": {},
   "outputs": [],
   "source": [
    "complete_wa.shape"
   ]
  },
  {
   "cell_type": "code",
   "execution_count": null,
   "metadata": {},
   "outputs": [],
   "source": [
    "complete_wa.isna().sum()"
   ]
  },
  {
   "cell_type": "code",
   "execution_count": null,
   "metadata": {},
   "outputs": [],
   "source": [
    "missing_artist = complete_wa[complete_wa.popularity.isna()]"
   ]
  },
  {
   "cell_type": "code",
   "execution_count": null,
   "metadata": {},
   "outputs": [],
   "source": [
    "len(missing_artist.Artist_uri.unique())"
   ]
  },
  {
   "cell_type": "code",
   "execution_count": null,
   "metadata": {},
   "outputs": [],
   "source": [
    "import spotipy\n",
    "from spotipy.oauth2 import SpotifyClientCredentials\n",
    "\n",
    "client_credentials_manager = SpotifyClientCredentials(client_id='fc03c036ef2e4552810bcfa717b8c9d6',\n",
    "                                                      client_secret='3f2bc1d385394fdebbfbca47a9b07268')\n",
    "sp = spotipy.Spotify(client_credentials_manager=client_credentials_manager)"
   ]
  },
  {
   "cell_type": "code",
   "execution_count": null,
   "metadata": {},
   "outputs": [],
   "source": [
    "new_artist = list()\n",
    "for p in missing_artist.Artist_uri.unique().tolist():\n",
    "    new_artist.append(sp.artist(p))"
   ]
  },
  {
   "cell_type": "code",
   "execution_count": null,
   "metadata": {},
   "outputs": [],
   "source": [
    "new_artist"
   ]
  },
  {
   "cell_type": "code",
   "execution_count": null,
   "metadata": {},
   "outputs": [],
   "source": [
    "extract_artist = defaultdict(list)\n",
    "for artist in new_artist:\n",
    "    uri = artist['uri'] #get artist uri\n",
    "    genres = artist['genres'] #get genres\n",
    "    pop = artist['popularity'] #get popularity (on a scale of 1-100)\n",
    "    fan = artist['followers']['total'] #get total number of followers  \n",
    "\n",
    "    #append to dictionary\n",
    "    extract_artist['Artist_uri'].append(uri)\n",
    "    if len(genres) == 0:\n",
    "        extract_artist['genres'].append(None)\n",
    "    else:\n",
    "        extract_artist['genres'].append(genres)\n",
    "    extract_artist['popularity'].append(pop)\n",
    "    extract_artist['artist_followers'].append(fan)"
   ]
  },
  {
   "cell_type": "code",
   "execution_count": null,
   "metadata": {},
   "outputs": [],
   "source": [
    "df_new_artist = pd.DataFrame.from_dict(extract_artist)"
   ]
  },
  {
   "cell_type": "code",
   "execution_count": null,
   "metadata": {},
   "outputs": [],
   "source": [
    "complete_wa = complete_wa.merge(df_new_artist, on = 'Artist_uri')"
   ]
  },
  {
   "cell_type": "code",
   "execution_count": null,
   "metadata": {},
   "outputs": [],
   "source": [
    "complete_wa.columns"
   ]
  },
  {
   "cell_type": "code",
   "execution_count": null,
   "metadata": {},
   "outputs": [],
   "source": [
    "def findVal(x):\n",
    "    if np.isnan(x[0]) == True:\n",
    "        return x[1]\n",
    "    else:\n",
    "        return x[0]\n",
    "\n",
    "x_cols = ['popularity_x','artist_followers_x']\n",
    "y_cols = ['popularity_y', 'artist_followers_y']\n",
    "          \n",
    "for i in range(len(x_cols)):\n",
    "          name = x_cols[i][:-2]\n",
    "          complete_wa[name] = complete_wa[[x_cols[i],y_cols[i]]].apply(lambda x: findVal(x), axis = 1)"
   ]
  },
  {
   "cell_type": "code",
   "execution_count": null,
   "metadata": {},
   "outputs": [],
   "source": [
    "complete_wa = complete_wa.drop(x_cols, axis = 1).drop(y_cols, axis = 1)"
   ]
  },
  {
   "cell_type": "code",
   "execution_count": null,
   "metadata": {},
   "outputs": [],
   "source": [
    "test = complete_wa[complete_wa.genres_x.isnull()]"
   ]
  },
  {
   "cell_type": "code",
   "execution_count": null,
   "metadata": {},
   "outputs": [],
   "source": [
    "def findGenre(x):\n",
    "    try:\n",
    "        if np.isnan(x[0]) == True:\n",
    "            return x[1]\n",
    "        else:\n",
    "            return x[0]\n",
    "    except:\n",
    "        return x[0]\n",
    "complete_wa['genre'] = complete_wa[['genres_x','genres_y']].apply(lambda x: findGenre(x), axis = 1)"
   ]
  },
  {
   "cell_type": "code",
   "execution_count": null,
   "metadata": {},
   "outputs": [],
   "source": [
    "complete_wa = complete_wa.drop(['genres_x','genres_y'], axis = 1)"
   ]
  },
  {
   "cell_type": "code",
   "execution_count": null,
   "metadata": {},
   "outputs": [],
   "source": [
    "complete_wa.to_csv('../raw_data/final_data.csv')"
   ]
  }
 ],
 "metadata": {
  "kernelspec": {
   "display_name": "Python 3",
   "language": "python",
   "name": "python3"
  },
  "language_info": {
   "codemirror_mode": {
    "name": "ipython",
    "version": 3
   },
   "file_extension": ".py",
   "mimetype": "text/x-python",
   "name": "python",
   "nbconvert_exporter": "python",
   "pygments_lexer": "ipython3",
   "version": "3.6.5"
  }
 },
 "nbformat": 4,
 "nbformat_minor": 2
}
