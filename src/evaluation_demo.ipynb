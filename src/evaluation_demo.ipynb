{
 "cells": [
  {
   "cell_type": "markdown",
   "metadata": {},
   "source": [
    "## Model Evaluation Scheme"
   ]
  },
  {
   "cell_type": "markdown",
   "metadata": {},
   "source": [
    "Our models were evaluted using R-Precision, Normalized Discounted Cumulative Gain (NDCG).\n",
    "\n",
    "$$\n",
    "\\text{R-precision} = \\frac{|G \\cap R|}{|G|}\n",
    "$$\n",
    "\n",
    "$$\n",
    "\\begin{align*}\n",
    "\\text{DCG} &= rel_i + \\sum^{|\\text{R}|}_{i=2}\\frac{rel_i}{log_2(i+1)} \\\\\n",
    "\\text{IDCG} &= 1 + \\sum^{|G|}_{i=2}\\frac{1}{log_2(i+1)} \\\\\n",
    "\\text{NDCG} &= \\frac{\\text{DCG}}{\\text{IDCG}}\n",
    "\\end{align*}\n",
    "$$\n",
    "\n",
    "R-precision is ratio of the number of right predictions to the number of tracks to predict, while NDCG captures the ranking quality of our predictions. The averages of R-precision and NDCG scores are also reported in the current project."
   ]
  }
 ],
 "metadata": {
  "kernelspec": {
   "display_name": "Python 3",
   "language": "python",
   "name": "python3"
  },
  "language_info": {
   "codemirror_mode": {
    "name": "ipython",
    "version": 3
   },
   "file_extension": ".py",
   "mimetype": "text/x-python",
   "name": "python",
   "nbconvert_exporter": "python",
   "pygments_lexer": "ipython3",
   "version": "3.6.5"
  }
 },
 "nbformat": 4,
 "nbformat_minor": 2
}
