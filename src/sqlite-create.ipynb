{
 "cells": [
  {
   "cell_type": "code",
   "execution_count": 1,
   "metadata": {},
   "outputs": [],
   "source": [
    "import sqlite3\n",
    "import csv\n",
    "\n",
    "f = open('../raw_data/data_Track/Track1000_1.csv','r') # open the csv data file\n",
    "# next(f, None) # skip the header row\n",
    "reader = csv.reader(f)\n"
   ]
  },
  {
   "cell_type": "code",
   "execution_count": 3,
   "metadata": {},
   "outputs": [],
   "source": [
    "import pandas as pd"
   ]
  },
  {
   "cell_type": "code",
   "execution_count": 4,
   "metadata": {},
   "outputs": [],
   "source": [
    "trial = pd.read_csv('../raw_data/data_Track/Track1000_1.csv')"
   ]
  },
  {
   "cell_type": "code",
   "execution_count": 8,
   "metadata": {},
   "outputs": [],
   "source": [
    "trial = trial.drop([\"Unnamed: 0\"], axis=1)"
   ]
  },
  {
   "cell_type": "code",
   "execution_count": null,
   "metadata": {},
   "outputs": [],
   "source": []
  },
  {
   "cell_type": "code",
   "execution_count": 9,
   "metadata": {},
   "outputs": [
    {
     "data": {
      "text/html": [
       "<div>\n",
       "<style scoped>\n",
       "    .dataframe tbody tr th:only-of-type {\n",
       "        vertical-align: middle;\n",
       "    }\n",
       "\n",
       "    .dataframe tbody tr th {\n",
       "        vertical-align: top;\n",
       "    }\n",
       "\n",
       "    .dataframe thead th {\n",
       "        text-align: right;\n",
       "    }\n",
       "</style>\n",
       "<table border=\"1\" class=\"dataframe\">\n",
       "  <thead>\n",
       "    <tr style=\"text-align: right;\">\n",
       "      <th></th>\n",
       "      <th>Playlistid</th>\n",
       "      <th>Trackid</th>\n",
       "      <th>Artist_Name</th>\n",
       "      <th>Track_Name</th>\n",
       "      <th>Album_Name</th>\n",
       "      <th>Track_Duration</th>\n",
       "      <th>Artist_uri</th>\n",
       "      <th>Track_uri</th>\n",
       "      <th>Album_uri</th>\n",
       "    </tr>\n",
       "  </thead>\n",
       "  <tbody>\n",
       "    <tr>\n",
       "      <th>0</th>\n",
       "      <td>549000</td>\n",
       "      <td>0</td>\n",
       "      <td>Bob Dylan</td>\n",
       "      <td>Boots of Spanish Leather</td>\n",
       "      <td>The Times They Are A-Changin'</td>\n",
       "      <td>277106</td>\n",
       "      <td>spotify:artist:74ASZWbe4lXaubB36ztrGX</td>\n",
       "      <td>spotify:track:6QHYEZlm9wyfXfEM1vSu1P</td>\n",
       "      <td>spotify:album:7DZeLXvr9eTVpyI1OlqtcS</td>\n",
       "    </tr>\n",
       "    <tr>\n",
       "      <th>1</th>\n",
       "      <td>549000</td>\n",
       "      <td>1</td>\n",
       "      <td>Bob Dylan</td>\n",
       "      <td>Mr. Tambourine Man</td>\n",
       "      <td>Bringing It All Back Home</td>\n",
       "      <td>330533</td>\n",
       "      <td>spotify:artist:74ASZWbe4lXaubB36ztrGX</td>\n",
       "      <td>spotify:track:3RkQ3UwOyPqpIiIvGVewuU</td>\n",
       "      <td>spotify:album:1lPoRKSgZHQAYXxzBsOQ7v</td>\n",
       "    </tr>\n",
       "    <tr>\n",
       "      <th>2</th>\n",
       "      <td>549000</td>\n",
       "      <td>2</td>\n",
       "      <td>Loggins &amp; Messina</td>\n",
       "      <td>Danny's Song</td>\n",
       "      <td>The Best: Loggins &amp; Messina Sittin' In Again</td>\n",
       "      <td>254653</td>\n",
       "      <td>spotify:artist:7emRV8AluG3d4e5T0DZiK9</td>\n",
       "      <td>spotify:track:0ju1jP0cSPJ8tmojYBEI89</td>\n",
       "      <td>spotify:album:5BWgJaesMjpJWCTU9sgUPf</td>\n",
       "    </tr>\n",
       "    <tr>\n",
       "      <th>3</th>\n",
       "      <td>549000</td>\n",
       "      <td>3</td>\n",
       "      <td>Bob Dylan</td>\n",
       "      <td>A Hard Rain's A-Gonna Fall</td>\n",
       "      <td>The Freewheelin' Bob Dylan</td>\n",
       "      <td>412200</td>\n",
       "      <td>spotify:artist:74ASZWbe4lXaubB36ztrGX</td>\n",
       "      <td>spotify:track:7ny2ATvjtKszCpLpfsGnVQ</td>\n",
       "      <td>spotify:album:0o1uFxZ1VTviqvNaYkTJek</td>\n",
       "    </tr>\n",
       "    <tr>\n",
       "      <th>4</th>\n",
       "      <td>549000</td>\n",
       "      <td>4</td>\n",
       "      <td>Bob Dylan</td>\n",
       "      <td>Blowin' In the Wind</td>\n",
       "      <td>The Freewheelin' Bob Dylan</td>\n",
       "      <td>165426</td>\n",
       "      <td>spotify:artist:74ASZWbe4lXaubB36ztrGX</td>\n",
       "      <td>spotify:track:18GiV1BaXzPVYpp9rmOg0E</td>\n",
       "      <td>spotify:album:0o1uFxZ1VTviqvNaYkTJek</td>\n",
       "    </tr>\n",
       "  </tbody>\n",
       "</table>\n",
       "</div>"
      ],
      "text/plain": [
       "   Playlistid  Trackid        Artist_Name                  Track_Name  \\\n",
       "0      549000        0          Bob Dylan    Boots of Spanish Leather   \n",
       "1      549000        1          Bob Dylan          Mr. Tambourine Man   \n",
       "2      549000        2  Loggins & Messina                Danny's Song   \n",
       "3      549000        3          Bob Dylan  A Hard Rain's A-Gonna Fall   \n",
       "4      549000        4          Bob Dylan         Blowin' In the Wind   \n",
       "\n",
       "                                     Album_Name  Track_Duration  \\\n",
       "0                 The Times They Are A-Changin'          277106   \n",
       "1                     Bringing It All Back Home          330533   \n",
       "2  The Best: Loggins & Messina Sittin' In Again          254653   \n",
       "3                    The Freewheelin' Bob Dylan          412200   \n",
       "4                    The Freewheelin' Bob Dylan          165426   \n",
       "\n",
       "                              Artist_uri  \\\n",
       "0  spotify:artist:74ASZWbe4lXaubB36ztrGX   \n",
       "1  spotify:artist:74ASZWbe4lXaubB36ztrGX   \n",
       "2  spotify:artist:7emRV8AluG3d4e5T0DZiK9   \n",
       "3  spotify:artist:74ASZWbe4lXaubB36ztrGX   \n",
       "4  spotify:artist:74ASZWbe4lXaubB36ztrGX   \n",
       "\n",
       "                              Track_uri                             Album_uri  \n",
       "0  spotify:track:6QHYEZlm9wyfXfEM1vSu1P  spotify:album:7DZeLXvr9eTVpyI1OlqtcS  \n",
       "1  spotify:track:3RkQ3UwOyPqpIiIvGVewuU  spotify:album:1lPoRKSgZHQAYXxzBsOQ7v  \n",
       "2  spotify:track:0ju1jP0cSPJ8tmojYBEI89  spotify:album:5BWgJaesMjpJWCTU9sgUPf  \n",
       "3  spotify:track:7ny2ATvjtKszCpLpfsGnVQ  spotify:album:0o1uFxZ1VTviqvNaYkTJek  \n",
       "4  spotify:track:18GiV1BaXzPVYpp9rmOg0E  spotify:album:0o1uFxZ1VTviqvNaYkTJek  "
      ]
     },
     "execution_count": 9,
     "metadata": {},
     "output_type": "execute_result"
    }
   ],
   "source": [
    "trial.head()"
   ]
  },
  {
   "cell_type": "code",
   "execution_count": 10,
   "metadata": {},
   "outputs": [
    {
     "data": {
      "text/plain": [
       "Index(['Playlistid', 'Trackid', 'Artist_Name', 'Track_Name', 'Album_Name',\n",
       "       'Track_Duration', 'Artist_uri', 'Track_uri', 'Album_uri'],\n",
       "      dtype='object')"
      ]
     },
     "execution_count": 10,
     "metadata": {},
     "output_type": "execute_result"
    }
   ],
   "source": [
    "trial.columns"
   ]
  },
  {
   "cell_type": "code",
   "execution_count": 11,
   "metadata": {},
   "outputs": [
    {
     "data": {
      "text/plain": [
       "Playlistid         int64\n",
       "Trackid            int64\n",
       "Artist_Name       object\n",
       "Track_Name        object\n",
       "Album_Name        object\n",
       "Track_Duration     int64\n",
       "Artist_uri        object\n",
       "Track_uri         object\n",
       "Album_uri         object\n",
       "dtype: object"
      ]
     },
     "execution_count": 11,
     "metadata": {},
     "output_type": "execute_result"
    }
   ],
   "source": [
    "trial.dtypes"
   ]
  },
  {
   "cell_type": "code",
   "execution_count": 13,
   "metadata": {},
   "outputs": [
    {
     "data": {
      "text/plain": [
       "(68689, 9)"
      ]
     },
     "execution_count": 13,
     "metadata": {},
     "output_type": "execute_result"
    }
   ],
   "source": [
    "trial.shape"
   ]
  },
  {
   "cell_type": "code",
   "execution_count": 47,
   "metadata": {},
   "outputs": [
    {
     "data": {
      "text/plain": [
       "<sqlite3.Cursor at 0x11b96f0a0>"
      ]
     },
     "execution_count": 47,
     "metadata": {},
     "output_type": "execute_result"
    }
   ],
   "source": [
    "sql = sqlite3.connect('../raw_data/spotify.db')\n",
    "cur = sql.cursor()\n",
    "\n",
    "cur.execute('''CREATE TABLE IF NOT EXISTS track\n",
    "            (Playlistid integer, Trackid integer, Artist_Name, Track_Name, Album_Name, Track_Duration integer, Artist_uri,Track_uri,Album_uri)''') # create the table if it doesn't already exist\n"
   ]
  },
  {
   "cell_type": "code",
   "execution_count": 36,
   "metadata": {},
   "outputs": [
    {
     "data": {
      "text/plain": [
       "range(0, 68689)"
      ]
     },
     "execution_count": 36,
     "metadata": {},
     "output_type": "execute_result"
    }
   ],
   "source": [
    "range(trial.shape[0])"
   ]
  },
  {
   "cell_type": "code",
   "execution_count": 38,
   "metadata": {},
   "outputs": [
    {
     "name": "stdout",
     "output_type": "stream",
     "text": [
      "(9,)\n",
      "Playlistid                                       549000\n",
      "Trackid                                               0\n",
      "Artist_Name                                   Bob Dylan\n",
      "Track_Name                     Boots of Spanish Leather\n",
      "Album_Name                The Times They Are A-Changin'\n",
      "Track_Duration                                   277106\n",
      "Artist_uri        spotify:artist:74ASZWbe4lXaubB36ztrGX\n",
      "Track_uri          spotify:track:6QHYEZlm9wyfXfEM1vSu1P\n",
      "Album_uri          spotify:album:7DZeLXvr9eTVpyI1OlqtcS\n",
      "Name: 0, dtype: object\n",
      "(9,)\n",
      "Playlistid                                       549000\n",
      "Trackid                                               1\n",
      "Artist_Name                                   Bob Dylan\n",
      "Track_Name                           Mr. Tambourine Man\n",
      "Album_Name                    Bringing It All Back Home\n",
      "Track_Duration                                   330533\n",
      "Artist_uri        spotify:artist:74ASZWbe4lXaubB36ztrGX\n",
      "Track_uri          spotify:track:3RkQ3UwOyPqpIiIvGVewuU\n",
      "Album_uri          spotify:album:1lPoRKSgZHQAYXxzBsOQ7v\n",
      "Name: 1, dtype: object\n"
     ]
    }
   ],
   "source": [
    "for i in range(2):\n",
    "    row = trial.iloc[i,]\n",
    "    print(row.shape)\n",
    "    print(row)"
   ]
  },
  {
   "cell_type": "code",
   "execution_count": 48,
   "metadata": {},
   "outputs": [
    {
     "ename": "NameError",
     "evalue": "name 'Playlistid' is not defined",
     "output_type": "error",
     "traceback": [
      "\u001b[0;31m---------------------------------------------------------------------------\u001b[0m",
      "\u001b[0;31mNameError\u001b[0m                                 Traceback (most recent call last)",
      "\u001b[0;32m<ipython-input-48-2e00491911ae>\u001b[0m in \u001b[0;36m<module>\u001b[0;34m()\u001b[0m\n\u001b[1;32m      1\u001b[0m \u001b[0;32mfor\u001b[0m \u001b[0mi\u001b[0m \u001b[0;32min\u001b[0m \u001b[0mrange\u001b[0m\u001b[0;34m(\u001b[0m\u001b[0mtrial\u001b[0m\u001b[0;34m.\u001b[0m\u001b[0mshape\u001b[0m\u001b[0;34m[\u001b[0m\u001b[0;36m0\u001b[0m\u001b[0;34m]\u001b[0m\u001b[0;34m)\u001b[0m\u001b[0;34m:\u001b[0m\u001b[0;34m\u001b[0m\u001b[0m\n\u001b[1;32m      2\u001b[0m     \u001b[0mrow\u001b[0m \u001b[0;34m=\u001b[0m \u001b[0mtrial\u001b[0m\u001b[0;34m.\u001b[0m\u001b[0miloc\u001b[0m\u001b[0;34m[\u001b[0m\u001b[0mi\u001b[0m\u001b[0;34m,\u001b[0m\u001b[0;34m]\u001b[0m\u001b[0;34m\u001b[0m\u001b[0m\n\u001b[0;32m----> 3\u001b[0;31m     \u001b[0mvals_insert\u001b[0m \u001b[0;34m=\u001b[0m \u001b[0;34m(\u001b[0m\u001b[0mint\u001b[0m\u001b[0;34m(\u001b[0m\u001b[0mPlaylistid\u001b[0m\u001b[0;34m)\u001b[0m\u001b[0;34m,\u001b[0m \u001b[0mint\u001b[0m\u001b[0;34m(\u001b[0m\u001b[0mTrackid\u001b[0m\u001b[0;34m)\u001b[0m\u001b[0;34m,\u001b[0m \u001b[0mArtist_Name\u001b[0m\u001b[0;34m,\u001b[0m \u001b[0mTrack_Name\u001b[0m\u001b[0;34m,\u001b[0m \u001b[0mAlbum_Name\u001b[0m\u001b[0;34m,\u001b[0m \u001b[0mint\u001b[0m\u001b[0;34m(\u001b[0m\u001b[0mTrack_Duration\u001b[0m\u001b[0;34m)\u001b[0m\u001b[0;34m,\u001b[0m \u001b[0mArtist_uri\u001b[0m\u001b[0;34m,\u001b[0m\u001b[0mTrack_uri\u001b[0m\u001b[0;34m,\u001b[0m\u001b[0mAlbum_uri\u001b[0m\u001b[0;34m)\u001b[0m\u001b[0;34m\u001b[0m\u001b[0m\n\u001b[0m\u001b[1;32m      4\u001b[0m     cur.execute('''INSERT INTO track\n\u001b[1;32m      5\u001b[0m     \u001b[0;34m(\u001b[0m\u001b[0mPlaylistid\u001b[0m\u001b[0;34m,\u001b[0m \u001b[0mTrackid\u001b[0m\u001b[0;34m,\u001b[0m \u001b[0mArtist_Name\u001b[0m\u001b[0;34m,\u001b[0m \u001b[0mTrack_Name\u001b[0m\u001b[0;34m,\u001b[0m \u001b[0mAlbum_Name\u001b[0m\u001b[0;34m,\u001b[0m \u001b[0mTrack_Duration\u001b[0m\u001b[0;34m,\u001b[0m \u001b[0mArtist_uri\u001b[0m\u001b[0;34m,\u001b[0m\u001b[0mTrack_uri\u001b[0m\u001b[0;34m,\u001b[0m\u001b[0mAlbum_uri\u001b[0m\u001b[0;34m)\u001b[0m\u001b[0;34m\u001b[0m\u001b[0m\n",
      "\u001b[0;31mNameError\u001b[0m: name 'Playlistid' is not defined"
     ]
    }
   ],
   "source": [
    "for i in range(trial.shape[0]):\n",
    "    row = trial.iloc[i,]\n",
    "    vals_insert = (int(Playlistid), int(Trackid), Artist_Name, Track_Name, Album_Name, int(Track_Duration), Artist_uri,Track_uri,Album_uri)\n",
    "    cur.execute('''INSERT INTO track\n",
    "    (Playlistid, Trackid, Artist_Name, Track_Name, Album_Name, Track_Duration, Artist_uri,Track_uri,Album_uri)\n",
    "    VALUES (?, ?, ?, ?, ?,?,?,?,?)''', row)"
   ]
  },
  {
   "cell_type": "code",
   "execution_count": 46,
   "metadata": {},
   "outputs": [],
   "source": [
    "f.close()\n",
    "sql.commit()\n",
    "sql.close()"
   ]
  },
  {
   "cell_type": "code",
   "execution_count": null,
   "metadata": {},
   "outputs": [],
   "source": []
  }
 ],
 "metadata": {
  "kernelspec": {
   "display_name": "Python 3",
   "language": "python",
   "name": "python3"
  },
  "language_info": {
   "codemirror_mode": {
    "name": "ipython",
    "version": 3
   },
   "file_extension": ".py",
   "mimetype": "text/x-python",
   "name": "python",
   "nbconvert_exporter": "python",
   "pygments_lexer": "ipython3",
   "version": "3.6.6"
  }
 },
 "nbformat": 4,
 "nbformat_minor": 2
}
