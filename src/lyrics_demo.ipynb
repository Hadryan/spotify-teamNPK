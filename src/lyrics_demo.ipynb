{
 "cells": [
  {
   "cell_type": "code",
   "execution_count": 1,
   "metadata": {},
   "outputs": [],
   "source": [
    "import lyricwikia"
   ]
  },
  {
   "cell_type": "code",
   "execution_count": 2,
   "metadata": {},
   "outputs": [],
   "source": [
    "lyrics = lyricwikia.get_lyrics('Led Zeppelin', 'Stairway to heaven')"
   ]
  },
  {
   "cell_type": "code",
   "execution_count": 4,
   "metadata": {},
   "outputs": [
    {
     "name": "stdout",
     "output_type": "stream",
     "text": [
      "There's a lady who's sure all that glitters is gold\n",
      "And she's buying a stairway to Heaven\n",
      "When she gets there, she knows if the stores are all closed\n",
      "With a word she can get what she came for\n",
      "\n",
      "And she's buying a stairway to Heaven\n",
      "\n",
      "There's a sign on the wall, but she wants to be sure\n",
      "'Cause you know sometimes words have two meanings\n",
      "In a tree by the brook there's a songbird who sings\n",
      "Sometimes all of our thoughts are misgiven\n",
      "\n",
      "It makes me wonder\n",
      "It makes me wonder\n",
      "\n",
      "There's a feeling I get when I look to the west\n",
      "And my spirit is crying for leaving\n",
      "In my thoughts I have seen rings of smoke through the trees\n",
      "And the voices of those who stand looking\n",
      "\n",
      "It makes me wonder\n",
      "It really makes me wonder\n",
      "\n",
      "And it's whispered that soon, if we all call the tune\n",
      "Then the piper will lead us to reason\n",
      "And a new day will dawn for those who stand long\n",
      "And the forests will echo with laughter\n",
      "\n",
      "If there's a bustle in your hedgerow, don't be alarmed now\n",
      "It's just a spring clean for the May Queen\n",
      "Yes, there are two paths you can go by, but in the long run\n",
      "There's still time to change the road you're on\n",
      "\n",
      "And it makes me wonder\n",
      "\n",
      "Your head is humming and it won't go, in case you don't know\n",
      "The piper's calling you to join him\n",
      "Dear lady can you hear the wind blow, and did you know\n",
      "Your stairway lies on the whispering wind, oh\n",
      "\n",
      "And as we wind on down the road\n",
      "Our shadow's taller than our soul\n",
      "There walks a lady we all know\n",
      "Who shines white light and wants to show\n",
      "How everything still turns to gold\n",
      "And if you listen very hard\n",
      "The tune will come to you at last\n",
      "When all are one and one is all, yeah\n",
      "To be a rock and not to roll\n",
      "\n",
      "And she's buying a stairway to Heaven\n"
     ]
    }
   ],
   "source": [
    "print(lyrics)"
   ]
  },
  {
   "cell_type": "code",
   "execution_count": null,
   "metadata": {},
   "outputs": [],
   "source": []
  }
 ],
 "metadata": {
  "kernelspec": {
   "display_name": "Python 3",
   "language": "python",
   "name": "python3"
  },
  "language_info": {
   "codemirror_mode": {
    "name": "ipython",
    "version": 3
   },
   "file_extension": ".py",
   "mimetype": "text/x-python",
   "name": "python",
   "nbconvert_exporter": "python",
   "pygments_lexer": "ipython3",
   "version": "3.6.5"
  }
 },
 "nbformat": 4,
 "nbformat_minor": 2
}
