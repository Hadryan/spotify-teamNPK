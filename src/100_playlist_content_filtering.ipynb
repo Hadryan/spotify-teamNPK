{
 "cells": [
  {
   "cell_type": "code",
   "execution_count": 136,
   "metadata": {},
   "outputs": [],
   "source": [
    "import pandas as pd\n",
    "import numpy as np\n",
    "from sklearn.model_selection import train_test_split\n",
    "from sklearn.neighbors import NearestNeighbors\n",
    "from scipy.sparse import csr_matrix\n",
    "from sklearn.utils import shuffle\n",
    "\n",
    "subset100 = pd.read_csv(\"../raw_data/track_meta_100subset_new.csv\")\n",
    "subset100 = shuffle(subset100)\n",
    "# subset100 = subset100.reset_index()"
   ]
  },
  {
   "cell_type": "markdown",
   "metadata": {},
   "source": [
    "### Train-val-test split"
   ]
  },
  {
   "cell_type": "code",
   "execution_count": 137,
   "metadata": {},
   "outputs": [],
   "source": [
    "features_drop = [\"Playlist\",\"Album\", \"Track\", \"Artist\", \"Trackid\", \"Artist_Name\", \"Track_Name\", \"Album_Name\", \"Artist_uri\", \"Track_uri\", \"Album_uri\", \"artist_genres\", \"explicit\"]\n",
    "subset100 = subset100.drop(features_drop, axis =1) # remove playlist related features"
   ]
  },
  {
   "cell_type": "code",
   "execution_count": 138,
   "metadata": {},
   "outputs": [
    {
     "data": {
      "text/plain": [
       "Playlistid             int64\n",
       "Track_Duration         int64\n",
       "acousticness         float64\n",
       "artist_popularity      int64\n",
       "danceability         float64\n",
       "energy               float64\n",
       "instrumentalness     float64\n",
       "key                    int64\n",
       "liveness             float64\n",
       "loudness             float64\n",
       "mode                   int64\n",
       "speechiness          float64\n",
       "tempo                float64\n",
       "time_signature         int64\n",
       "valence              float64\n",
       "dtype: object"
      ]
     },
     "execution_count": 138,
     "metadata": {},
     "output_type": "execute_result"
    }
   ],
   "source": [
    "subset100.dtypes"
   ]
  },
  {
   "cell_type": "code",
   "execution_count": 139,
   "metadata": {},
   "outputs": [
    {
     "data": {
      "text/html": [
       "<div>\n",
       "<style scoped>\n",
       "    .dataframe tbody tr th:only-of-type {\n",
       "        vertical-align: middle;\n",
       "    }\n",
       "\n",
       "    .dataframe tbody tr th {\n",
       "        vertical-align: top;\n",
       "    }\n",
       "\n",
       "    .dataframe thead th {\n",
       "        text-align: right;\n",
       "    }\n",
       "</style>\n",
       "<table border=\"1\" class=\"dataframe\">\n",
       "  <thead>\n",
       "    <tr style=\"text-align: right;\">\n",
       "      <th></th>\n",
       "      <th>Playlistid</th>\n",
       "      <th>Track_Duration</th>\n",
       "      <th>acousticness</th>\n",
       "      <th>artist_popularity</th>\n",
       "      <th>danceability</th>\n",
       "      <th>energy</th>\n",
       "      <th>instrumentalness</th>\n",
       "      <th>key</th>\n",
       "      <th>liveness</th>\n",
       "      <th>loudness</th>\n",
       "      <th>mode</th>\n",
       "      <th>speechiness</th>\n",
       "      <th>tempo</th>\n",
       "      <th>time_signature</th>\n",
       "      <th>valence</th>\n",
       "    </tr>\n",
       "  </thead>\n",
       "  <tbody>\n",
       "    <tr>\n",
       "      <th>542</th>\n",
       "      <td>38828</td>\n",
       "      <td>258342</td>\n",
       "      <td>0.0291</td>\n",
       "      <td>74</td>\n",
       "      <td>0.641</td>\n",
       "      <td>0.922</td>\n",
       "      <td>0.000000</td>\n",
       "      <td>2</td>\n",
       "      <td>0.0862</td>\n",
       "      <td>-4.457</td>\n",
       "      <td>1</td>\n",
       "      <td>0.0786</td>\n",
       "      <td>146.078</td>\n",
       "      <td>4</td>\n",
       "      <td>0.847</td>\n",
       "    </tr>\n",
       "    <tr>\n",
       "      <th>1142</th>\n",
       "      <td>114695</td>\n",
       "      <td>209440</td>\n",
       "      <td>0.0139</td>\n",
       "      <td>71</td>\n",
       "      <td>0.748</td>\n",
       "      <td>0.534</td>\n",
       "      <td>0.000002</td>\n",
       "      <td>9</td>\n",
       "      <td>0.0987</td>\n",
       "      <td>-7.876</td>\n",
       "      <td>0</td>\n",
       "      <td>0.0959</td>\n",
       "      <td>106.017</td>\n",
       "      <td>4</td>\n",
       "      <td>0.119</td>\n",
       "    </tr>\n",
       "    <tr>\n",
       "      <th>1105</th>\n",
       "      <td>97870</td>\n",
       "      <td>230733</td>\n",
       "      <td>0.0077</td>\n",
       "      <td>46</td>\n",
       "      <td>0.888</td>\n",
       "      <td>0.666</td>\n",
       "      <td>0.001560</td>\n",
       "      <td>10</td>\n",
       "      <td>0.0555</td>\n",
       "      <td>-5.547</td>\n",
       "      <td>0</td>\n",
       "      <td>0.1630</td>\n",
       "      <td>125.993</td>\n",
       "      <td>4</td>\n",
       "      <td>0.464</td>\n",
       "    </tr>\n",
       "    <tr>\n",
       "      <th>452</th>\n",
       "      <td>22204</td>\n",
       "      <td>290906</td>\n",
       "      <td>0.3480</td>\n",
       "      <td>81</td>\n",
       "      <td>0.381</td>\n",
       "      <td>0.594</td>\n",
       "      <td>0.000000</td>\n",
       "      <td>3</td>\n",
       "      <td>0.0925</td>\n",
       "      <td>-5.970</td>\n",
       "      <td>1</td>\n",
       "      <td>0.0486</td>\n",
       "      <td>143.860</td>\n",
       "      <td>4</td>\n",
       "      <td>0.273</td>\n",
       "    </tr>\n",
       "    <tr>\n",
       "      <th>1153</th>\n",
       "      <td>114695</td>\n",
       "      <td>211908</td>\n",
       "      <td>0.0469</td>\n",
       "      <td>73</td>\n",
       "      <td>0.696</td>\n",
       "      <td>0.801</td>\n",
       "      <td>0.000000</td>\n",
       "      <td>5</td>\n",
       "      <td>0.5020</td>\n",
       "      <td>-5.641</td>\n",
       "      <td>0</td>\n",
       "      <td>0.0952</td>\n",
       "      <td>93.003</td>\n",
       "      <td>4</td>\n",
       "      <td>0.536</td>\n",
       "    </tr>\n",
       "  </tbody>\n",
       "</table>\n",
       "</div>"
      ],
      "text/plain": [
       "      Playlistid  Track_Duration  acousticness  artist_popularity  \\\n",
       "542        38828          258342        0.0291                 74   \n",
       "1142      114695          209440        0.0139                 71   \n",
       "1105       97870          230733        0.0077                 46   \n",
       "452        22204          290906        0.3480                 81   \n",
       "1153      114695          211908        0.0469                 73   \n",
       "\n",
       "      danceability  energy  instrumentalness  key  liveness  loudness  mode  \\\n",
       "542          0.641   0.922          0.000000    2    0.0862    -4.457     1   \n",
       "1142         0.748   0.534          0.000002    9    0.0987    -7.876     0   \n",
       "1105         0.888   0.666          0.001560   10    0.0555    -5.547     0   \n",
       "452          0.381   0.594          0.000000    3    0.0925    -5.970     1   \n",
       "1153         0.696   0.801          0.000000    5    0.5020    -5.641     0   \n",
       "\n",
       "      speechiness    tempo  time_signature  valence  \n",
       "542        0.0786  146.078               4    0.847  \n",
       "1142       0.0959  106.017               4    0.119  \n",
       "1105       0.1630  125.993               4    0.464  \n",
       "452        0.0486  143.860               4    0.273  \n",
       "1153       0.0952   93.003               4    0.536  "
      ]
     },
     "execution_count": 139,
     "metadata": {},
     "output_type": "execute_result"
    }
   ],
   "source": [
    "subset100.head()"
   ]
  },
  {
   "cell_type": "code",
   "execution_count": 140,
   "metadata": {},
   "outputs": [],
   "source": [
    "# Train-val-test split (20%)\n",
    "train, test = train_test_split(subset100, test_size=0.2, random_state=42, stratify = subset100['Playlistid'])\n",
    "train, val = train_test_split(train, test_size=0.2, random_state=42, stratify = train['Playlistid'])"
   ]
  },
  {
   "cell_type": "code",
   "execution_count": 141,
   "metadata": {},
   "outputs": [
    {
     "data": {
      "text/html": [
       "<div>\n",
       "<style scoped>\n",
       "    .dataframe tbody tr th:only-of-type {\n",
       "        vertical-align: middle;\n",
       "    }\n",
       "\n",
       "    .dataframe tbody tr th {\n",
       "        vertical-align: top;\n",
       "    }\n",
       "\n",
       "    .dataframe thead th {\n",
       "        text-align: right;\n",
       "    }\n",
       "</style>\n",
       "<table border=\"1\" class=\"dataframe\">\n",
       "  <thead>\n",
       "    <tr style=\"text-align: right;\">\n",
       "      <th></th>\n",
       "      <th>Playlistid</th>\n",
       "      <th>Track_Duration</th>\n",
       "      <th>acousticness</th>\n",
       "      <th>artist_popularity</th>\n",
       "      <th>danceability</th>\n",
       "      <th>energy</th>\n",
       "      <th>instrumentalness</th>\n",
       "      <th>key</th>\n",
       "      <th>liveness</th>\n",
       "      <th>loudness</th>\n",
       "      <th>mode</th>\n",
       "      <th>speechiness</th>\n",
       "      <th>tempo</th>\n",
       "      <th>time_signature</th>\n",
       "      <th>valence</th>\n",
       "    </tr>\n",
       "  </thead>\n",
       "  <tbody>\n",
       "    <tr>\n",
       "      <th>810</th>\n",
       "      <td>61388</td>\n",
       "      <td>330769</td>\n",
       "      <td>0.33800</td>\n",
       "      <td>39</td>\n",
       "      <td>0.752</td>\n",
       "      <td>0.766</td>\n",
       "      <td>0.000000</td>\n",
       "      <td>1</td>\n",
       "      <td>0.0861</td>\n",
       "      <td>-5.110</td>\n",
       "      <td>1</td>\n",
       "      <td>0.2510</td>\n",
       "      <td>141.820</td>\n",
       "      <td>4</td>\n",
       "      <td>0.501</td>\n",
       "    </tr>\n",
       "    <tr>\n",
       "      <th>665</th>\n",
       "      <td>51590</td>\n",
       "      <td>209640</td>\n",
       "      <td>0.17000</td>\n",
       "      <td>70</td>\n",
       "      <td>0.941</td>\n",
       "      <td>0.335</td>\n",
       "      <td>0.000000</td>\n",
       "      <td>5</td>\n",
       "      <td>0.2620</td>\n",
       "      <td>-10.179</td>\n",
       "      <td>0</td>\n",
       "      <td>0.5050</td>\n",
       "      <td>120.041</td>\n",
       "      <td>4</td>\n",
       "      <td>0.707</td>\n",
       "    </tr>\n",
       "    <tr>\n",
       "      <th>1863</th>\n",
       "      <td>193450</td>\n",
       "      <td>262521</td>\n",
       "      <td>0.06850</td>\n",
       "      <td>72</td>\n",
       "      <td>0.597</td>\n",
       "      <td>0.531</td>\n",
       "      <td>0.000004</td>\n",
       "      <td>3</td>\n",
       "      <td>0.0617</td>\n",
       "      <td>-6.830</td>\n",
       "      <td>0</td>\n",
       "      <td>0.0295</td>\n",
       "      <td>74.938</td>\n",
       "      <td>4</td>\n",
       "      <td>0.271</td>\n",
       "    </tr>\n",
       "    <tr>\n",
       "      <th>2002</th>\n",
       "      <td>198885</td>\n",
       "      <td>204346</td>\n",
       "      <td>0.05240</td>\n",
       "      <td>88</td>\n",
       "      <td>0.779</td>\n",
       "      <td>0.787</td>\n",
       "      <td>0.000000</td>\n",
       "      <td>10</td>\n",
       "      <td>0.1400</td>\n",
       "      <td>-4.305</td>\n",
       "      <td>0</td>\n",
       "      <td>0.1080</td>\n",
       "      <td>124.982</td>\n",
       "      <td>4</td>\n",
       "      <td>0.708</td>\n",
       "    </tr>\n",
       "    <tr>\n",
       "      <th>935</th>\n",
       "      <td>73524</td>\n",
       "      <td>263826</td>\n",
       "      <td>0.00381</td>\n",
       "      <td>66</td>\n",
       "      <td>0.866</td>\n",
       "      <td>0.606</td>\n",
       "      <td>0.000006</td>\n",
       "      <td>7</td>\n",
       "      <td>0.0861</td>\n",
       "      <td>-4.762</td>\n",
       "      <td>1</td>\n",
       "      <td>0.0400</td>\n",
       "      <td>119.991</td>\n",
       "      <td>4</td>\n",
       "      <td>0.838</td>\n",
       "    </tr>\n",
       "  </tbody>\n",
       "</table>\n",
       "</div>"
      ],
      "text/plain": [
       "      Playlistid  Track_Duration  acousticness  artist_popularity  \\\n",
       "810        61388          330769       0.33800                 39   \n",
       "665        51590          209640       0.17000                 70   \n",
       "1863      193450          262521       0.06850                 72   \n",
       "2002      198885          204346       0.05240                 88   \n",
       "935        73524          263826       0.00381                 66   \n",
       "\n",
       "      danceability  energy  instrumentalness  key  liveness  loudness  mode  \\\n",
       "810          0.752   0.766          0.000000    1    0.0861    -5.110     1   \n",
       "665          0.941   0.335          0.000000    5    0.2620   -10.179     0   \n",
       "1863         0.597   0.531          0.000004    3    0.0617    -6.830     0   \n",
       "2002         0.779   0.787          0.000000   10    0.1400    -4.305     0   \n",
       "935          0.866   0.606          0.000006    7    0.0861    -4.762     1   \n",
       "\n",
       "      speechiness    tempo  time_signature  valence  \n",
       "810        0.2510  141.820               4    0.501  \n",
       "665        0.5050  120.041               4    0.707  \n",
       "1863       0.0295   74.938               4    0.271  \n",
       "2002       0.1080  124.982               4    0.708  \n",
       "935        0.0400  119.991               4    0.838  "
      ]
     },
     "execution_count": 141,
     "metadata": {},
     "output_type": "execute_result"
    }
   ],
   "source": [
    "train.head()"
   ]
  },
  {
   "cell_type": "code",
   "execution_count": 142,
   "metadata": {
    "scrolled": true
   },
   "outputs": [
    {
     "data": {
      "text/html": [
       "<div>\n",
       "<style scoped>\n",
       "    .dataframe tbody tr th:only-of-type {\n",
       "        vertical-align: middle;\n",
       "    }\n",
       "\n",
       "    .dataframe tbody tr th {\n",
       "        vertical-align: top;\n",
       "    }\n",
       "\n",
       "    .dataframe thead th {\n",
       "        text-align: right;\n",
       "    }\n",
       "</style>\n",
       "<table border=\"1\" class=\"dataframe\">\n",
       "  <thead>\n",
       "    <tr style=\"text-align: right;\">\n",
       "      <th></th>\n",
       "      <th>Playlistid</th>\n",
       "      <th>Track_Duration</th>\n",
       "      <th>acousticness</th>\n",
       "      <th>artist_popularity</th>\n",
       "      <th>danceability</th>\n",
       "      <th>energy</th>\n",
       "      <th>instrumentalness</th>\n",
       "      <th>key</th>\n",
       "      <th>liveness</th>\n",
       "      <th>loudness</th>\n",
       "      <th>mode</th>\n",
       "      <th>speechiness</th>\n",
       "      <th>tempo</th>\n",
       "      <th>time_signature</th>\n",
       "      <th>valence</th>\n",
       "    </tr>\n",
       "  </thead>\n",
       "  <tbody>\n",
       "    <tr>\n",
       "      <th>539</th>\n",
       "      <td>38828</td>\n",
       "      <td>215866</td>\n",
       "      <td>0.08080</td>\n",
       "      <td>87</td>\n",
       "      <td>0.707</td>\n",
       "      <td>0.833</td>\n",
       "      <td>0.000044</td>\n",
       "      <td>1</td>\n",
       "      <td>0.0778</td>\n",
       "      <td>-2.553</td>\n",
       "      <td>0</td>\n",
       "      <td>0.0359</td>\n",
       "      <td>145.997</td>\n",
       "      <td>4</td>\n",
       "      <td>0.734</td>\n",
       "    </tr>\n",
       "    <tr>\n",
       "      <th>578</th>\n",
       "      <td>38828</td>\n",
       "      <td>219773</td>\n",
       "      <td>0.00112</td>\n",
       "      <td>54</td>\n",
       "      <td>0.570</td>\n",
       "      <td>0.886</td>\n",
       "      <td>0.007390</td>\n",
       "      <td>6</td>\n",
       "      <td>0.5940</td>\n",
       "      <td>-4.145</td>\n",
       "      <td>0</td>\n",
       "      <td>0.0440</td>\n",
       "      <td>158.035</td>\n",
       "      <td>4</td>\n",
       "      <td>0.805</td>\n",
       "    </tr>\n",
       "    <tr>\n",
       "      <th>2455</th>\n",
       "      <td>229646</td>\n",
       "      <td>520786</td>\n",
       "      <td>0.03530</td>\n",
       "      <td>70</td>\n",
       "      <td>0.367</td>\n",
       "      <td>0.452</td>\n",
       "      <td>0.002280</td>\n",
       "      <td>10</td>\n",
       "      <td>0.6890</td>\n",
       "      <td>-10.422</td>\n",
       "      <td>1</td>\n",
       "      <td>0.0307</td>\n",
       "      <td>113.066</td>\n",
       "      <td>4</td>\n",
       "      <td>0.189</td>\n",
       "    </tr>\n",
       "    <tr>\n",
       "      <th>1755</th>\n",
       "      <td>186672</td>\n",
       "      <td>287733</td>\n",
       "      <td>0.07710</td>\n",
       "      <td>73</td>\n",
       "      <td>0.712</td>\n",
       "      <td>0.967</td>\n",
       "      <td>0.000000</td>\n",
       "      <td>7</td>\n",
       "      <td>0.3560</td>\n",
       "      <td>-5.206</td>\n",
       "      <td>1</td>\n",
       "      <td>0.0470</td>\n",
       "      <td>145.024</td>\n",
       "      <td>4</td>\n",
       "      <td>0.895</td>\n",
       "    </tr>\n",
       "    <tr>\n",
       "      <th>510</th>\n",
       "      <td>37634</td>\n",
       "      <td>241202</td>\n",
       "      <td>0.23100</td>\n",
       "      <td>70</td>\n",
       "      <td>0.503</td>\n",
       "      <td>0.555</td>\n",
       "      <td>0.000532</td>\n",
       "      <td>0</td>\n",
       "      <td>0.1180</td>\n",
       "      <td>-4.886</td>\n",
       "      <td>1</td>\n",
       "      <td>0.2270</td>\n",
       "      <td>90.916</td>\n",
       "      <td>4</td>\n",
       "      <td>0.467</td>\n",
       "    </tr>\n",
       "  </tbody>\n",
       "</table>\n",
       "</div>"
      ],
      "text/plain": [
       "      Playlistid  Track_Duration  acousticness  artist_popularity  \\\n",
       "539        38828          215866       0.08080                 87   \n",
       "578        38828          219773       0.00112                 54   \n",
       "2455      229646          520786       0.03530                 70   \n",
       "1755      186672          287733       0.07710                 73   \n",
       "510        37634          241202       0.23100                 70   \n",
       "\n",
       "      danceability  energy  instrumentalness  key  liveness  loudness  mode  \\\n",
       "539          0.707   0.833          0.000044    1    0.0778    -2.553     0   \n",
       "578          0.570   0.886          0.007390    6    0.5940    -4.145     0   \n",
       "2455         0.367   0.452          0.002280   10    0.6890   -10.422     1   \n",
       "1755         0.712   0.967          0.000000    7    0.3560    -5.206     1   \n",
       "510          0.503   0.555          0.000532    0    0.1180    -4.886     1   \n",
       "\n",
       "      speechiness    tempo  time_signature  valence  \n",
       "539        0.0359  145.997               4    0.734  \n",
       "578        0.0440  158.035               4    0.805  \n",
       "2455       0.0307  113.066               4    0.189  \n",
       "1755       0.0470  145.024               4    0.895  \n",
       "510        0.2270   90.916               4    0.467  "
      ]
     },
     "execution_count": 142,
     "metadata": {},
     "output_type": "execute_result"
    }
   ],
   "source": [
    "test.head()"
   ]
  },
  {
   "cell_type": "code",
   "execution_count": 143,
   "metadata": {},
   "outputs": [],
   "source": [
    "train = train.reset_index(drop=True)"
   ]
  },
  {
   "cell_type": "code",
   "execution_count": 144,
   "metadata": {},
   "outputs": [
    {
     "data": {
      "text/html": [
       "<div>\n",
       "<style scoped>\n",
       "    .dataframe tbody tr th:only-of-type {\n",
       "        vertical-align: middle;\n",
       "    }\n",
       "\n",
       "    .dataframe tbody tr th {\n",
       "        vertical-align: top;\n",
       "    }\n",
       "\n",
       "    .dataframe thead th {\n",
       "        text-align: right;\n",
       "    }\n",
       "</style>\n",
       "<table border=\"1\" class=\"dataframe\">\n",
       "  <thead>\n",
       "    <tr style=\"text-align: right;\">\n",
       "      <th></th>\n",
       "      <th>Playlistid</th>\n",
       "      <th>Track_Duration</th>\n",
       "      <th>acousticness</th>\n",
       "      <th>artist_popularity</th>\n",
       "      <th>danceability</th>\n",
       "      <th>energy</th>\n",
       "      <th>instrumentalness</th>\n",
       "      <th>key</th>\n",
       "      <th>liveness</th>\n",
       "      <th>loudness</th>\n",
       "      <th>mode</th>\n",
       "      <th>speechiness</th>\n",
       "      <th>tempo</th>\n",
       "      <th>time_signature</th>\n",
       "      <th>valence</th>\n",
       "    </tr>\n",
       "  </thead>\n",
       "  <tbody>\n",
       "    <tr>\n",
       "      <th>0</th>\n",
       "      <td>61388</td>\n",
       "      <td>330769</td>\n",
       "      <td>0.33800</td>\n",
       "      <td>39</td>\n",
       "      <td>0.752</td>\n",
       "      <td>0.766</td>\n",
       "      <td>0.000000</td>\n",
       "      <td>1</td>\n",
       "      <td>0.0861</td>\n",
       "      <td>-5.110</td>\n",
       "      <td>1</td>\n",
       "      <td>0.2510</td>\n",
       "      <td>141.820</td>\n",
       "      <td>4</td>\n",
       "      <td>0.501</td>\n",
       "    </tr>\n",
       "    <tr>\n",
       "      <th>1</th>\n",
       "      <td>51590</td>\n",
       "      <td>209640</td>\n",
       "      <td>0.17000</td>\n",
       "      <td>70</td>\n",
       "      <td>0.941</td>\n",
       "      <td>0.335</td>\n",
       "      <td>0.000000</td>\n",
       "      <td>5</td>\n",
       "      <td>0.2620</td>\n",
       "      <td>-10.179</td>\n",
       "      <td>0</td>\n",
       "      <td>0.5050</td>\n",
       "      <td>120.041</td>\n",
       "      <td>4</td>\n",
       "      <td>0.707</td>\n",
       "    </tr>\n",
       "    <tr>\n",
       "      <th>2</th>\n",
       "      <td>193450</td>\n",
       "      <td>262521</td>\n",
       "      <td>0.06850</td>\n",
       "      <td>72</td>\n",
       "      <td>0.597</td>\n",
       "      <td>0.531</td>\n",
       "      <td>0.000004</td>\n",
       "      <td>3</td>\n",
       "      <td>0.0617</td>\n",
       "      <td>-6.830</td>\n",
       "      <td>0</td>\n",
       "      <td>0.0295</td>\n",
       "      <td>74.938</td>\n",
       "      <td>4</td>\n",
       "      <td>0.271</td>\n",
       "    </tr>\n",
       "    <tr>\n",
       "      <th>3</th>\n",
       "      <td>198885</td>\n",
       "      <td>204346</td>\n",
       "      <td>0.05240</td>\n",
       "      <td>88</td>\n",
       "      <td>0.779</td>\n",
       "      <td>0.787</td>\n",
       "      <td>0.000000</td>\n",
       "      <td>10</td>\n",
       "      <td>0.1400</td>\n",
       "      <td>-4.305</td>\n",
       "      <td>0</td>\n",
       "      <td>0.1080</td>\n",
       "      <td>124.982</td>\n",
       "      <td>4</td>\n",
       "      <td>0.708</td>\n",
       "    </tr>\n",
       "    <tr>\n",
       "      <th>4</th>\n",
       "      <td>73524</td>\n",
       "      <td>263826</td>\n",
       "      <td>0.00381</td>\n",
       "      <td>66</td>\n",
       "      <td>0.866</td>\n",
       "      <td>0.606</td>\n",
       "      <td>0.000006</td>\n",
       "      <td>7</td>\n",
       "      <td>0.0861</td>\n",
       "      <td>-4.762</td>\n",
       "      <td>1</td>\n",
       "      <td>0.0400</td>\n",
       "      <td>119.991</td>\n",
       "      <td>4</td>\n",
       "      <td>0.838</td>\n",
       "    </tr>\n",
       "  </tbody>\n",
       "</table>\n",
       "</div>"
      ],
      "text/plain": [
       "   Playlistid  Track_Duration  acousticness  artist_popularity  danceability  \\\n",
       "0       61388          330769       0.33800                 39         0.752   \n",
       "1       51590          209640       0.17000                 70         0.941   \n",
       "2      193450          262521       0.06850                 72         0.597   \n",
       "3      198885          204346       0.05240                 88         0.779   \n",
       "4       73524          263826       0.00381                 66         0.866   \n",
       "\n",
       "   energy  instrumentalness  key  liveness  loudness  mode  speechiness  \\\n",
       "0   0.766          0.000000    1    0.0861    -5.110     1       0.2510   \n",
       "1   0.335          0.000000    5    0.2620   -10.179     0       0.5050   \n",
       "2   0.531          0.000004    3    0.0617    -6.830     0       0.0295   \n",
       "3   0.787          0.000000   10    0.1400    -4.305     0       0.1080   \n",
       "4   0.606          0.000006    7    0.0861    -4.762     1       0.0400   \n",
       "\n",
       "     tempo  time_signature  valence  \n",
       "0  141.820               4    0.501  \n",
       "1  120.041               4    0.707  \n",
       "2   74.938               4    0.271  \n",
       "3  124.982               4    0.708  \n",
       "4  119.991               4    0.838  "
      ]
     },
     "execution_count": 144,
     "metadata": {},
     "output_type": "execute_result"
    }
   ],
   "source": [
    "train.head()"
   ]
  },
  {
   "cell_type": "markdown",
   "metadata": {},
   "source": [
    "### Content-based Collaborative Filtering"
   ]
  },
  {
   "cell_type": "code",
   "execution_count": 145,
   "metadata": {},
   "outputs": [],
   "source": [
    "# train_content\n",
    "from sklearn.metrics.pairwise import cosine_similarity "
   ]
  },
  {
   "cell_type": "code",
   "execution_count": 146,
   "metadata": {},
   "outputs": [],
   "source": [
    "train_noid = train.drop([\"Playlistid\"], axis=1)\n",
    "test = test.drop([\"Playlistid\"], axis=1)"
   ]
  },
  {
   "cell_type": "code",
   "execution_count": null,
   "metadata": {},
   "outputs": [],
   "source": [
    "# def cos_similar_songs(cos_matrix, target_inx, k):\n",
    "    "
   ]
  },
  {
   "cell_type": "markdown",
   "metadata": {},
   "source": [
    "### Create a cosine-similarity matrix"
   ]
  },
  {
   "cell_type": "code",
   "execution_count": 147,
   "metadata": {},
   "outputs": [],
   "source": [
    "from sklearn.preprocessing import MinMaxScaler\n",
    "scaler = MinMaxScaler()\n",
    "scaler.fit(train_noid)\n",
    "train_scaled = scaler.transform(train_noid)\n",
    "test_scaled = scaler.transform(test)"
   ]
  },
  {
   "cell_type": "code",
   "execution_count": 148,
   "metadata": {},
   "outputs": [],
   "source": [
    "train_scaled_cos_matrix = cosine_similarity(train_scaled)\n",
    "# np.dot(np.array(trial_scaled[0,]), np.array(trial_scaled[5,]))/ (np.linalg.norm(trial_scaled[0,]) * np.linalg.norm(trial_scaled[5,]))\n"
   ]
  },
  {
   "cell_type": "code",
   "execution_count": 149,
   "metadata": {},
   "outputs": [
    {
     "data": {
      "text/plain": [
       "array([[1.        , 0.77864901, 0.78557408, ..., 0.87935908, 0.78405341,\n",
       "        0.7471867 ],\n",
       "       [0.77864901, 1.        , 0.8633858 , ..., 0.82595018, 0.85509706,\n",
       "        0.88469696],\n",
       "       [0.78557408, 0.8633858 , 1.        , ..., 0.81665914, 0.92625893,\n",
       "        0.87363356],\n",
       "       [0.75907538, 0.90784503, 0.92596571, ..., 0.88500774, 0.91763266,\n",
       "        0.93526949],\n",
       "       [0.91890508, 0.83016886, 0.83211765, ..., 0.96618927, 0.80701853,\n",
       "        0.79176264]])"
      ]
     },
     "execution_count": 149,
     "metadata": {},
     "output_type": "execute_result"
    }
   ],
   "source": [
    "train_scaled_cos_matrix[:5]"
   ]
  },
  {
   "cell_type": "code",
   "execution_count": 150,
   "metadata": {},
   "outputs": [
    {
     "data": {
      "text/html": [
       "<div>\n",
       "<style scoped>\n",
       "    .dataframe tbody tr th:only-of-type {\n",
       "        vertical-align: middle;\n",
       "    }\n",
       "\n",
       "    .dataframe tbody tr th {\n",
       "        vertical-align: top;\n",
       "    }\n",
       "\n",
       "    .dataframe thead th {\n",
       "        text-align: right;\n",
       "    }\n",
       "</style>\n",
       "<table border=\"1\" class=\"dataframe\">\n",
       "  <thead>\n",
       "    <tr style=\"text-align: right;\">\n",
       "      <th></th>\n",
       "      <th>Playlistid</th>\n",
       "      <th>Track_Duration</th>\n",
       "      <th>acousticness</th>\n",
       "      <th>artist_popularity</th>\n",
       "      <th>danceability</th>\n",
       "      <th>energy</th>\n",
       "      <th>instrumentalness</th>\n",
       "      <th>key</th>\n",
       "      <th>liveness</th>\n",
       "      <th>loudness</th>\n",
       "      <th>mode</th>\n",
       "      <th>speechiness</th>\n",
       "      <th>tempo</th>\n",
       "      <th>time_signature</th>\n",
       "      <th>valence</th>\n",
       "    </tr>\n",
       "  </thead>\n",
       "  <tbody>\n",
       "    <tr>\n",
       "      <th>0</th>\n",
       "      <td>61388</td>\n",
       "      <td>330769</td>\n",
       "      <td>0.33800</td>\n",
       "      <td>39</td>\n",
       "      <td>0.752</td>\n",
       "      <td>0.766</td>\n",
       "      <td>0.000000</td>\n",
       "      <td>1</td>\n",
       "      <td>0.0861</td>\n",
       "      <td>-5.110</td>\n",
       "      <td>1</td>\n",
       "      <td>0.2510</td>\n",
       "      <td>141.820</td>\n",
       "      <td>4</td>\n",
       "      <td>0.501</td>\n",
       "    </tr>\n",
       "    <tr>\n",
       "      <th>1</th>\n",
       "      <td>51590</td>\n",
       "      <td>209640</td>\n",
       "      <td>0.17000</td>\n",
       "      <td>70</td>\n",
       "      <td>0.941</td>\n",
       "      <td>0.335</td>\n",
       "      <td>0.000000</td>\n",
       "      <td>5</td>\n",
       "      <td>0.2620</td>\n",
       "      <td>-10.179</td>\n",
       "      <td>0</td>\n",
       "      <td>0.5050</td>\n",
       "      <td>120.041</td>\n",
       "      <td>4</td>\n",
       "      <td>0.707</td>\n",
       "    </tr>\n",
       "    <tr>\n",
       "      <th>2</th>\n",
       "      <td>193450</td>\n",
       "      <td>262521</td>\n",
       "      <td>0.06850</td>\n",
       "      <td>72</td>\n",
       "      <td>0.597</td>\n",
       "      <td>0.531</td>\n",
       "      <td>0.000004</td>\n",
       "      <td>3</td>\n",
       "      <td>0.0617</td>\n",
       "      <td>-6.830</td>\n",
       "      <td>0</td>\n",
       "      <td>0.0295</td>\n",
       "      <td>74.938</td>\n",
       "      <td>4</td>\n",
       "      <td>0.271</td>\n",
       "    </tr>\n",
       "    <tr>\n",
       "      <th>3</th>\n",
       "      <td>198885</td>\n",
       "      <td>204346</td>\n",
       "      <td>0.05240</td>\n",
       "      <td>88</td>\n",
       "      <td>0.779</td>\n",
       "      <td>0.787</td>\n",
       "      <td>0.000000</td>\n",
       "      <td>10</td>\n",
       "      <td>0.1400</td>\n",
       "      <td>-4.305</td>\n",
       "      <td>0</td>\n",
       "      <td>0.1080</td>\n",
       "      <td>124.982</td>\n",
       "      <td>4</td>\n",
       "      <td>0.708</td>\n",
       "    </tr>\n",
       "    <tr>\n",
       "      <th>4</th>\n",
       "      <td>73524</td>\n",
       "      <td>263826</td>\n",
       "      <td>0.00381</td>\n",
       "      <td>66</td>\n",
       "      <td>0.866</td>\n",
       "      <td>0.606</td>\n",
       "      <td>0.000006</td>\n",
       "      <td>7</td>\n",
       "      <td>0.0861</td>\n",
       "      <td>-4.762</td>\n",
       "      <td>1</td>\n",
       "      <td>0.0400</td>\n",
       "      <td>119.991</td>\n",
       "      <td>4</td>\n",
       "      <td>0.838</td>\n",
       "    </tr>\n",
       "  </tbody>\n",
       "</table>\n",
       "</div>"
      ],
      "text/plain": [
       "   Playlistid  Track_Duration  acousticness  artist_popularity  danceability  \\\n",
       "0       61388          330769       0.33800                 39         0.752   \n",
       "1       51590          209640       0.17000                 70         0.941   \n",
       "2      193450          262521       0.06850                 72         0.597   \n",
       "3      198885          204346       0.05240                 88         0.779   \n",
       "4       73524          263826       0.00381                 66         0.866   \n",
       "\n",
       "   energy  instrumentalness  key  liveness  loudness  mode  speechiness  \\\n",
       "0   0.766          0.000000    1    0.0861    -5.110     1       0.2510   \n",
       "1   0.335          0.000000    5    0.2620   -10.179     0       0.5050   \n",
       "2   0.531          0.000004    3    0.0617    -6.830     0       0.0295   \n",
       "3   0.787          0.000000   10    0.1400    -4.305     0       0.1080   \n",
       "4   0.606          0.000006    7    0.0861    -4.762     1       0.0400   \n",
       "\n",
       "     tempo  time_signature  valence  \n",
       "0  141.820               4    0.501  \n",
       "1  120.041               4    0.707  \n",
       "2   74.938               4    0.271  \n",
       "3  124.982               4    0.708  \n",
       "4  119.991               4    0.838  "
      ]
     },
     "execution_count": 150,
     "metadata": {},
     "output_type": "execute_result"
    }
   ],
   "source": [
    "train.head()"
   ]
  },
  {
   "cell_type": "code",
   "execution_count": null,
   "metadata": {},
   "outputs": [],
   "source": [
    "def cos_similar_songs(cos_matrix, orig_df, target_inx, k):\n",
    "    target_playlistid = train"
   ]
  },
  {
   "cell_type": "code",
   "execution_count": 157,
   "metadata": {},
   "outputs": [],
   "source": [
    "cos_matrix = train_scaled_cos_matrix"
   ]
  },
  {
   "cell_type": "code",
   "execution_count": 151,
   "metadata": {},
   "outputs": [],
   "source": [
    "cos_matrix = train_scaled_cos_matrix\n",
    "target_inx = 0\n",
    "## Above should be removed\n",
    "target_playlistid = train.loc[0, \"Playlistid\"]\n",
    "\n",
    "target_track_inx = np.where(train[\"Playlistid\"] == target_playlistid)\n",
    "# remove rows in matrix with songs that live in the same playlist with the target song\n",
    "candidate_cos_matrix = np.delete(cos_matrix, target_track_inx, 1) # remoe songs that co-exist in the same playlist\n",
    "\n",
    "candidate_song_rec = candidate_cos_matrix[target_inx, ] # row of target playlist\n",
    "\n",
    "## Todo: sort the row with highest (recommend most similar tracks)"
   ]
  },
  {
   "cell_type": "code",
   "execution_count": 171,
   "metadata": {},
   "outputs": [
    {
     "data": {
      "text/plain": [
       "array([1.        , 0.77864901, 0.78557408, ..., 0.87935908, 0.78405341,\n",
       "       0.7471867 ])"
      ]
     },
     "execution_count": 171,
     "metadata": {},
     "output_type": "execute_result"
    }
   ],
   "source": [
    "cos_matrix[target_inx,]"
   ]
  },
  {
   "cell_type": "code",
   "execution_count": 164,
   "metadata": {},
   "outputs": [
    {
     "data": {
      "text/plain": [
       "array([[1.        , 0.77864901, 0.78557408, ..., 0.87935908, 0.78405341,\n",
       "        0.7471867 ],\n",
       "       [0.77864901, 1.        , 0.8633858 , ..., 0.82595018, 0.85509706,\n",
       "        0.88469696],\n",
       "       [0.78557408, 0.8633858 , 1.        , ..., 0.81665914, 0.92625893,\n",
       "        0.87363356],\n",
       "       [0.75907538, 0.90784503, 0.92596571, ..., 0.88500774, 0.91763266,\n",
       "        0.93526949],\n",
       "       [0.91890508, 0.83016886, 0.83211765, ..., 0.96618927, 0.80701853,\n",
       "        0.79176264]])"
      ]
     },
     "execution_count": 164,
     "metadata": {},
     "output_type": "execute_result"
    }
   ],
   "source": [
    "cos_matrix[:5]"
   ]
  },
  {
   "cell_type": "code",
   "execution_count": 156,
   "metadata": {},
   "outputs": [
    {
     "data": {
      "text/plain": [
       "(array([   0,   70,   95,  122,  127,  133,  135,  185,  290,  318,  380,\n",
       "         440,  486,  488,  499,  524,  537,  542,  636,  652,  706,  733,\n",
       "         739,  754,  791, 1065, 1073, 1087, 1097, 1139, 1156, 1227, 1241,\n",
       "        1263, 1266, 1299, 1325, 1358, 1462, 1482, 1484, 1502, 1526, 1561,\n",
       "        1575, 1579, 1616, 1622, 1623, 1664, 1672, 1673, 1745, 1754, 1763,\n",
       "        1781, 1790, 1855, 1865, 1923, 1954]),)"
      ]
     },
     "execution_count": 156,
     "metadata": {},
     "output_type": "execute_result"
    }
   ],
   "source": [
    "target_track_inx"
   ]
  },
  {
   "cell_type": "code",
   "execution_count": 161,
   "metadata": {},
   "outputs": [],
   "source": [
    "candidate_cos_matrix = np.delete(cos_matrix, target_track_inx, 0)"
   ]
  },
  {
   "cell_type": "code",
   "execution_count": 162,
   "metadata": {},
   "outputs": [
    {
     "data": {
      "text/plain": [
       "(1909, 1970)"
      ]
     },
     "execution_count": 162,
     "metadata": {},
     "output_type": "execute_result"
    }
   ],
   "source": [
    "candidate_cos_matrix"
   ]
  },
  {
   "cell_type": "code",
   "execution_count": 153,
   "metadata": {},
   "outputs": [
    {
     "data": {
      "text/plain": [
       "(array([   0,   70,   95,  122,  127,  133,  135,  185,  290,  318,  380,\n",
       "         440,  486,  488,  499,  524,  537,  542,  636,  652,  706,  733,\n",
       "         739,  754,  791, 1065, 1073, 1087, 1097, 1139, 1156, 1227, 1241,\n",
       "        1263, 1266, 1299, 1325, 1358, 1462, 1482, 1484, 1502, 1526, 1561,\n",
       "        1575, 1579, 1616, 1622, 1623, 1664, 1672, 1673, 1745, 1754, 1763,\n",
       "        1781, 1790, 1855, 1865, 1923, 1954]),)"
      ]
     },
     "execution_count": 153,
     "metadata": {},
     "output_type": "execute_result"
    }
   ],
   "source": [
    "candidate_cos_matrix = cos_matrix[]"
   ]
  },
  {
   "cell_type": "code",
   "execution_count": 117,
   "metadata": {},
   "outputs": [
    {
     "data": {
      "text/html": [
       "<div>\n",
       "<style scoped>\n",
       "    .dataframe tbody tr th:only-of-type {\n",
       "        vertical-align: middle;\n",
       "    }\n",
       "\n",
       "    .dataframe tbody tr th {\n",
       "        vertical-align: top;\n",
       "    }\n",
       "\n",
       "    .dataframe thead th {\n",
       "        text-align: right;\n",
       "    }\n",
       "</style>\n",
       "<table border=\"1\" class=\"dataframe\">\n",
       "  <thead>\n",
       "    <tr style=\"text-align: right;\">\n",
       "      <th></th>\n",
       "      <th>Playlistid</th>\n",
       "      <th>Track_Duration</th>\n",
       "      <th>acousticness</th>\n",
       "      <th>artist_popularity</th>\n",
       "      <th>danceability</th>\n",
       "      <th>energy</th>\n",
       "      <th>instrumentalness</th>\n",
       "      <th>key</th>\n",
       "      <th>liveness</th>\n",
       "      <th>loudness</th>\n",
       "      <th>mode</th>\n",
       "      <th>speechiness</th>\n",
       "      <th>tempo</th>\n",
       "      <th>time_signature</th>\n",
       "      <th>valence</th>\n",
       "    </tr>\n",
       "  </thead>\n",
       "  <tbody>\n",
       "    <tr>\n",
       "      <th>763</th>\n",
       "      <td>61388</td>\n",
       "      <td>196600</td>\n",
       "      <td>0.039200</td>\n",
       "      <td>82</td>\n",
       "      <td>0.926</td>\n",
       "      <td>0.336</td>\n",
       "      <td>0.000000</td>\n",
       "      <td>0</td>\n",
       "      <td>0.138</td>\n",
       "      <td>-9.326</td>\n",
       "      <td>0</td>\n",
       "      <td>0.5940</td>\n",
       "      <td>92.995</td>\n",
       "      <td>4</td>\n",
       "      <td>0.3800</td>\n",
       "    </tr>\n",
       "    <tr>\n",
       "      <th>647</th>\n",
       "      <td>51590</td>\n",
       "      <td>305840</td>\n",
       "      <td>0.000402</td>\n",
       "      <td>85</td>\n",
       "      <td>0.364</td>\n",
       "      <td>0.841</td>\n",
       "      <td>0.000000</td>\n",
       "      <td>8</td>\n",
       "      <td>0.242</td>\n",
       "      <td>-4.831</td>\n",
       "      <td>1</td>\n",
       "      <td>0.1190</td>\n",
       "      <td>100.140</td>\n",
       "      <td>5</td>\n",
       "      <td>0.0837</td>\n",
       "    </tr>\n",
       "    <tr>\n",
       "      <th>1868</th>\n",
       "      <td>193450</td>\n",
       "      <td>213427</td>\n",
       "      <td>0.003120</td>\n",
       "      <td>77</td>\n",
       "      <td>0.583</td>\n",
       "      <td>0.732</td>\n",
       "      <td>0.000010</td>\n",
       "      <td>11</td>\n",
       "      <td>0.269</td>\n",
       "      <td>-5.728</td>\n",
       "      <td>0</td>\n",
       "      <td>0.0457</td>\n",
       "      <td>145.992</td>\n",
       "      <td>4</td>\n",
       "      <td>0.2760</td>\n",
       "    </tr>\n",
       "    <tr>\n",
       "      <th>1979</th>\n",
       "      <td>198885</td>\n",
       "      <td>195920</td>\n",
       "      <td>0.084100</td>\n",
       "      <td>83</td>\n",
       "      <td>0.732</td>\n",
       "      <td>0.396</td>\n",
       "      <td>0.000036</td>\n",
       "      <td>4</td>\n",
       "      <td>0.105</td>\n",
       "      <td>-9.348</td>\n",
       "      <td>0</td>\n",
       "      <td>0.0286</td>\n",
       "      <td>90.024</td>\n",
       "      <td>4</td>\n",
       "      <td>0.5480</td>\n",
       "    </tr>\n",
       "    <tr>\n",
       "      <th>934</th>\n",
       "      <td>73524</td>\n",
       "      <td>326280</td>\n",
       "      <td>0.103000</td>\n",
       "      <td>81</td>\n",
       "      <td>0.795</td>\n",
       "      <td>0.596</td>\n",
       "      <td>0.000000</td>\n",
       "      <td>11</td>\n",
       "      <td>0.164</td>\n",
       "      <td>-3.799</td>\n",
       "      <td>0</td>\n",
       "      <td>0.2190</td>\n",
       "      <td>101.985</td>\n",
       "      <td>4</td>\n",
       "      <td>0.3570</td>\n",
       "    </tr>\n",
       "  </tbody>\n",
       "</table>\n",
       "</div>"
      ],
      "text/plain": [
       "      Playlistid  Track_Duration  acousticness  artist_popularity  \\\n",
       "763        61388          196600      0.039200                 82   \n",
       "647        51590          305840      0.000402                 85   \n",
       "1868      193450          213427      0.003120                 77   \n",
       "1979      198885          195920      0.084100                 83   \n",
       "934        73524          326280      0.103000                 81   \n",
       "\n",
       "      danceability  energy  instrumentalness  key  liveness  loudness  mode  \\\n",
       "763          0.926   0.336          0.000000    0     0.138    -9.326     0   \n",
       "647          0.364   0.841          0.000000    8     0.242    -4.831     1   \n",
       "1868         0.583   0.732          0.000010   11     0.269    -5.728     0   \n",
       "1979         0.732   0.396          0.000036    4     0.105    -9.348     0   \n",
       "934          0.795   0.596          0.000000   11     0.164    -3.799     0   \n",
       "\n",
       "      speechiness    tempo  time_signature  valence  \n",
       "763        0.5940   92.995               4   0.3800  \n",
       "647        0.1190  100.140               5   0.0837  \n",
       "1868       0.0457  145.992               4   0.2760  \n",
       "1979       0.0286   90.024               4   0.5480  \n",
       "934        0.2190  101.985               4   0.3570  "
      ]
     },
     "execution_count": 117,
     "metadata": {},
     "output_type": "execute_result"
    }
   ],
   "source": [
    "train.head()"
   ]
  },
  {
   "cell_type": "code",
   "execution_count": 119,
   "metadata": {},
   "outputs": [
    {
     "data": {
      "text/plain": [
       "763      61388\n",
       "647      51590\n",
       "1868    193450\n",
       "1979    198885\n",
       "934      73524\n",
       "2378    223534\n",
       "2589    231023\n",
       "109       2259\n",
       "1683    175237\n",
       "1119    100221\n",
       "2969    256979\n",
       "1855    193450\n",
       "2047    206080\n",
       "2126    208692\n",
       "1343    151474\n",
       "181       2535\n",
       "1338    151474\n",
       "892      67941\n",
       "1153    114695\n",
       "217       2535\n",
       "2175    210308\n",
       "911      68119\n",
       "2293    221044\n",
       "533      38828\n",
       "641      51590\n",
       "758      59745\n",
       "3001    256979\n",
       "1169    117841\n",
       "1128    107065\n",
       "1784    190503\n",
       "         ...  \n",
       "2900    249966\n",
       "689      56681\n",
       "1540    155598\n",
       "1209    118342\n",
       "1195    118342\n",
       "565      38828\n",
       "541      38828\n",
       "2407    229646\n",
       "1179    117841\n",
       "150       2535\n",
       "2638    232421\n",
       "750      59745\n",
       "2761    241546\n",
       "2637    232421\n",
       "792      61388\n",
       "1155    116737\n",
       "2379    223534\n",
       "2520    229646\n",
       "733      58121\n",
       "1245    118724\n",
       "1580    164819\n",
       "1850    193450\n",
       "1244    118724\n",
       "2763    241546\n",
       "736      58121\n",
       "1555    155598\n",
       "630      48330\n",
       "1736    182533\n",
       "209       2535\n",
       "453      22204\n",
       "Name: Playlistid, Length: 1970, dtype: int64"
      ]
     },
     "execution_count": 119,
     "metadata": {},
     "output_type": "execute_result"
    }
   ],
   "source": [
    "# target_playlistid\n",
    "train[\"Playlistid\"]"
   ]
  },
  {
   "cell_type": "code",
   "execution_count": 4,
   "metadata": {},
   "outputs": [],
   "source": [
    "# Create Binary Sparse Matrix\n",
    "co_mat = pd.crosstab(train.Playlistid, train.Track_uri)\n",
    "co_mat = co_mat.clip(upper=1)\n",
    "assert np.max(co_mat.describe().loc['max']) == 1\n",
    "\n",
    "co_mat_sparse = csr_matrix(co_mat)"
   ]
  },
  {
   "cell_type": "code",
   "execution_count": 5,
   "metadata": {},
   "outputs": [
    {
     "data": {
      "text/plain": [
       "NearestNeighbors(algorithm='brute', leaf_size=30, metric='cosine',\n",
       "         metric_params=None, n_jobs=1, n_neighbors=5, p=2, radius=1.0)"
      ]
     },
     "execution_count": 5,
     "metadata": {},
     "output_type": "execute_result"
    }
   ],
   "source": [
    "# Train kNN model\n",
    "col_filter = NearestNeighbors(metric='cosine', algorithm='brute')\n",
    "col_filter.fit(co_mat_sparse)"
   ]
  },
  {
   "cell_type": "markdown",
   "metadata": {},
   "source": [
    "## Making Predictions"
   ]
  },
  {
   "cell_type": "code",
   "execution_count": 6,
   "metadata": {},
   "outputs": [],
   "source": [
    "def nholdout(playlist_id, df):\n",
    "    '''Pass in a playlist id to get number of songs held out in val/test set'''\n",
    "    \n",
    "    return len(df[df.Playlistid == playlist_id].Track_uri)"
   ]
  },
  {
   "cell_type": "code",
   "execution_count": null,
   "metadata": {},
   "outputs": [],
   "source": [
    "def kpredict(knnmodel, playlist_id, df):\n",
    "    '''for a playlist id, generate list of 15*k predictions where k is num holdouts''' \n",
    "    \n",
    "    k = nholdout(playlist_id, df)*15 # number of holdouts\n",
    "    ref_songs = co_mat.columns.values[co_mat.loc[playlist_id] == 1] # songs already in playlist\n",
    "    dist, ind = knnmodel.kneighbors(np.array(co_mat.loc[playlist_id]).reshape(1, -1), n_neighbors = 99)\n",
    "    rec_ind = co_mat.index[ind[0]] # recommended playlists\n",
    "    \n",
    "    n_pred = 0\n",
    "    pred = []\n",
    "    for i in rec_ind:\n",
    "        new_songs = co_mat.columns.values[co_mat.loc[i] == 1] # potential recommendations\n",
    "        for song in new_songs:\n",
    "            if song not in ref_songs: # only getting songs not already in target playlist\n",
    "                pred.append(song)\n",
    "                n_pred += 1\n",
    "                if n_pred == k:\n",
    "                    break\n",
    "        if n_pred == k:\n",
    "            break\n",
    "    \n",
    "    return pred"
   ]
  },
  {
   "cell_type": "code",
   "execution_count": 14,
   "metadata": {
    "scrolled": true
   },
   "outputs": [],
   "source": [
    "### Prediction Example\n",
    "pi = 430 # target playlist index\n",
    "kpreds = kpredict(col_filter, pi, val) # list of predictions"
   ]
  },
  {
   "cell_type": "code",
   "execution_count": 23,
   "metadata": {},
   "outputs": [],
   "source": [
    "val_set = val[val.Playlistid == pi]\n",
    "val_set = val_set['Track_uri'] # ground truth"
   ]
  },
  {
   "cell_type": "markdown",
   "metadata": {},
   "source": [
    "## Metrics"
   ]
  },
  {
   "cell_type": "code",
   "execution_count": 24,
   "metadata": {},
   "outputs": [],
   "source": [
    "def r_precision(prediction, val_set):\n",
    "# prediction should be a list of predictions\n",
    "# val_set should be pandas Series of ground truths\n",
    "    score = np.sum(val_set.isin(prediction))/val_set.shape[0]\n",
    "    return score"
   ]
  },
  {
   "cell_type": "code",
   "execution_count": 25,
   "metadata": {},
   "outputs": [
    {
     "data": {
      "text/plain": [
       "0.0"
      ]
     },
     "execution_count": 25,
     "metadata": {},
     "output_type": "execute_result"
    }
   ],
   "source": [
    "### Example Usage\n",
    "r_precision(kpreds, val_set)"
   ]
  },
  {
   "cell_type": "code",
   "execution_count": 26,
   "metadata": {},
   "outputs": [],
   "source": [
    "### NDCG Code Source: https://gist.github.com/bwhite/3726239\n",
    "def dcg_at_k(r, k, method=0):\n",
    "    r = np.asfarray(r)[:k]\n",
    "    if r.size:\n",
    "        if method == 0:\n",
    "            return r[0] + np.sum(r[1:] / np.log2(np.arange(2, r.size + 1)))\n",
    "        elif method == 1:\n",
    "            return np.sum(r / np.log2(np.arange(2, r.size + 2)))\n",
    "        else:\n",
    "            raise ValueError('method must be 0 or 1.')\n",
    "    return 0.\n",
    "\n",
    "\n",
    "def ndcg_at_k(r, k, method=0):\n",
    "    dcg_max = dcg_at_k(sorted(r, reverse=True), k, method)\n",
    "    if not dcg_max:\n",
    "        return 0.\n",
    "    return dcg_at_k(r, k, method) / dcg_max"
   ]
  },
  {
   "cell_type": "code",
   "execution_count": 28,
   "metadata": {},
   "outputs": [
    {
     "data": {
      "text/plain": [
       "0.0"
      ]
     },
     "execution_count": 28,
     "metadata": {},
     "output_type": "execute_result"
    }
   ],
   "source": [
    "### Example Usage\n",
    "# Generate binary relevance array\n",
    "r = np.zeros(len(kpreds))\n",
    "for i, p in enumerate(kpreds):\n",
    "    if p in val_set:\n",
    "        r[i] = 1\n",
    "\n",
    "ndcg_at_k(r, len(r))"
   ]
  },
  {
   "cell_type": "markdown",
   "metadata": {},
   "source": [
    "## Baseline Model Performance"
   ]
  },
  {
   "cell_type": "code",
   "execution_count": 57,
   "metadata": {
    "scrolled": true
   },
   "outputs": [],
   "source": [
    "rps = []\n",
    "ndcgs = []\n",
    "for pid in co_mat.index:\n",
    "    ps = kpredict(col_filter, pid, val) # predictions\n",
    "    vs = val[val.Playlistid == pid].Track_uri # ground truth\n",
    "    rps.append(r_precision(ps, vs))\n",
    "    \n",
    "    r = np.zeros(len(ps))\n",
    "    for i, p in enumerate(ps):\n",
    "        if np.any(vs.isin([p])):\n",
    "            r[i] = 1\n",
    "    ndcgs.append(ndcg_at_k(r, len(r)))\n",
    "    "
   ]
  },
  {
   "cell_type": "code",
   "execution_count": 58,
   "metadata": {},
   "outputs": [
    {
     "name": "stdout",
     "output_type": "stream",
     "text": [
      "Avg. R-Precision:  0.07702539127539126\n",
      "Avg. NDCG:  0.08034624710411524\n",
      "Total Sum:  0.07868581918975326\n"
     ]
    }
   ],
   "source": [
    "avg_rp = np.mean(rps)\n",
    "avg_ndcg = np.mean(ndcgs)\n",
    "print('Avg. R-Precision: ', avg_rp)\n",
    "print('Avg. NDCG: ', avg_ndcg)\n",
    "print('Total Sum: ', np.mean([avg_rp, avg_ndcg]))"
   ]
  },
  {
   "cell_type": "code",
   "execution_count": null,
   "metadata": {},
   "outputs": [],
   "source": []
  }
 ],
 "metadata": {
  "kernelspec": {
   "display_name": "Python 3",
   "language": "python",
   "name": "python3"
  },
  "language_info": {
   "codemirror_mode": {
    "name": "ipython",
    "version": 3
   },
   "file_extension": ".py",
   "mimetype": "text/x-python",
   "name": "python",
   "nbconvert_exporter": "python",
   "pygments_lexer": "ipython3",
   "version": "3.6.6"
  }
 },
 "nbformat": 4,
 "nbformat_minor": 2
}
