{
 "cells": [
  {
   "cell_type": "code",
   "execution_count": 1,
   "metadata": {},
   "outputs": [],
   "source": [
    "import pandas as pd\n",
    "import numpy as np\n",
    "from sklearn.model_selection import train_test_split\n",
    "from sklearn.neighbors import NearestNeighbors\n",
    "from scipy.sparse import csr_matrix\n",
    "from sklearn.utils import shuffle\n",
    "\n",
    "subset100 = pd.read_csv(\"../raw_data/track_meta_100subset_new.csv\")\n",
    "subset100 = shuffle(subset100)\n",
    "# subset100 = subset100.reset_index()"
   ]
  },
  {
   "cell_type": "markdown",
   "metadata": {},
   "source": [
    "### Train-val-test split"
   ]
  },
  {
   "cell_type": "code",
   "execution_count": 2,
   "metadata": {},
   "outputs": [],
   "source": [
    "# features_drop = [\"Playlist\",\"Album\", \"Track\", \"Artist\", \"Trackid\", \"Artist_Name\", \"Track_Name\", \"Album_Name\", \"Artist_uri\", \"Track_uri\", \"Album_uri\", \"artist_genres\", \"explicit\"]\n",
    "# subset100_cleaned = subset100.drop(features_drop, axis =1) # remove playlist related features"
   ]
  },
  {
   "cell_type": "code",
   "execution_count": 3,
   "metadata": {},
   "outputs": [],
   "source": [
    "# subset100_cleaned.dtypes"
   ]
  },
  {
   "cell_type": "code",
   "execution_count": 4,
   "metadata": {},
   "outputs": [
    {
     "data": {
      "text/html": [
       "<div>\n",
       "<style scoped>\n",
       "    .dataframe tbody tr th:only-of-type {\n",
       "        vertical-align: middle;\n",
       "    }\n",
       "\n",
       "    .dataframe tbody tr th {\n",
       "        vertical-align: top;\n",
       "    }\n",
       "\n",
       "    .dataframe thead th {\n",
       "        text-align: right;\n",
       "    }\n",
       "</style>\n",
       "<table border=\"1\" class=\"dataframe\">\n",
       "  <thead>\n",
       "    <tr style=\"text-align: right;\">\n",
       "      <th></th>\n",
       "      <th>Playlistid</th>\n",
       "      <th>Trackid</th>\n",
       "      <th>Artist_Name</th>\n",
       "      <th>Track_Name</th>\n",
       "      <th>Album_Name</th>\n",
       "      <th>Track_Duration</th>\n",
       "      <th>Artist_uri</th>\n",
       "      <th>Track_uri</th>\n",
       "      <th>Album_uri</th>\n",
       "      <th>acousticness</th>\n",
       "      <th>...</th>\n",
       "      <th>loudness</th>\n",
       "      <th>mode</th>\n",
       "      <th>speechiness</th>\n",
       "      <th>tempo</th>\n",
       "      <th>time_signature</th>\n",
       "      <th>valence</th>\n",
       "      <th>Playlist</th>\n",
       "      <th>Album</th>\n",
       "      <th>Track</th>\n",
       "      <th>Artist</th>\n",
       "    </tr>\n",
       "  </thead>\n",
       "  <tbody>\n",
       "    <tr>\n",
       "      <th>214</th>\n",
       "      <td>2535</td>\n",
       "      <td>81</td>\n",
       "      <td>Dj Slim D</td>\n",
       "      <td>I Got Two Phones</td>\n",
       "      <td>I Got Two Phones</td>\n",
       "      <td>241290</td>\n",
       "      <td>spotify:artist:5VRQkaqx6A28RnkJ8xx2nW</td>\n",
       "      <td>spotify:track:72ZxpfXEOPHMmqmYD0LpkR</td>\n",
       "      <td>spotify:album:2HYolsoIh0cUxObkDX4WNE</td>\n",
       "      <td>0.2150</td>\n",
       "      <td>...</td>\n",
       "      <td>-7.440</td>\n",
       "      <td>0</td>\n",
       "      <td>0.1350</td>\n",
       "      <td>121.764</td>\n",
       "      <td>4</td>\n",
       "      <td>0.1840</td>\n",
       "      <td>Feel Good</td>\n",
       "      <td>94</td>\n",
       "      <td>102</td>\n",
       "      <td>85</td>\n",
       "    </tr>\n",
       "    <tr>\n",
       "      <th>2972</th>\n",
       "      <td>256979</td>\n",
       "      <td>16</td>\n",
       "      <td>Bad Meets Evil</td>\n",
       "      <td>Lighters</td>\n",
       "      <td>Hell: The Sequel</td>\n",
       "      <td>303813</td>\n",
       "      <td>spotify:artist:77IURH5NC56Jn09QHi76is</td>\n",
       "      <td>spotify:track:4BWBbJ9MKpnt30SFYEomzJ</td>\n",
       "      <td>spotify:album:7CWSLPmiMIHXfETjpdOVT6</td>\n",
       "      <td>0.3510</td>\n",
       "      <td>...</td>\n",
       "      <td>-8.237</td>\n",
       "      <td>1</td>\n",
       "      <td>0.2650</td>\n",
       "      <td>90.079</td>\n",
       "      <td>4</td>\n",
       "      <td>0.1810</td>\n",
       "      <td>2011</td>\n",
       "      <td>43</td>\n",
       "      <td>54</td>\n",
       "      <td>40</td>\n",
       "    </tr>\n",
       "    <tr>\n",
       "      <th>1961</th>\n",
       "      <td>196206</td>\n",
       "      <td>6</td>\n",
       "      <td>AC/DC</td>\n",
       "      <td>T.N.T.</td>\n",
       "      <td>High Voltage</td>\n",
       "      <td>214666</td>\n",
       "      <td>spotify:artist:711MCceyCBcFnzjGY4Q7Un</td>\n",
       "      <td>spotify:track:7LRMbd3LEoV5wZJvXT1Lwb</td>\n",
       "      <td>spotify:album:19AUoKWRAaQYrggVvdQnqq</td>\n",
       "      <td>0.1530</td>\n",
       "      <td>...</td>\n",
       "      <td>-5.218</td>\n",
       "      <td>1</td>\n",
       "      <td>0.3020</td>\n",
       "      <td>126.367</td>\n",
       "      <td>4</td>\n",
       "      <td>0.4350</td>\n",
       "      <td>classic</td>\n",
       "      <td>13</td>\n",
       "      <td>17</td>\n",
       "      <td>8</td>\n",
       "    </tr>\n",
       "    <tr>\n",
       "      <th>858</th>\n",
       "      <td>62657</td>\n",
       "      <td>1</td>\n",
       "      <td>John Denver</td>\n",
       "      <td>Take Me Home, Country Roads</td>\n",
       "      <td>The John Denver Collection, Vol. 1: Take Me Ho...</td>\n",
       "      <td>197813</td>\n",
       "      <td>spotify:artist:7EK1bQADBoqbYXnT4Cqv9w</td>\n",
       "      <td>spotify:track:2xYlyywNgefLCRDG8hlxZq</td>\n",
       "      <td>spotify:album:5erROp1lRW31aNxj9PbAUf</td>\n",
       "      <td>0.5460</td>\n",
       "      <td>...</td>\n",
       "      <td>-12.564</td>\n",
       "      <td>1</td>\n",
       "      <td>0.0322</td>\n",
       "      <td>164.267</td>\n",
       "      <td>4</td>\n",
       "      <td>0.5460</td>\n",
       "      <td>country road</td>\n",
       "      <td>17</td>\n",
       "      <td>19</td>\n",
       "      <td>16</td>\n",
       "    </tr>\n",
       "    <tr>\n",
       "      <th>1138</th>\n",
       "      <td>107941</td>\n",
       "      <td>7</td>\n",
       "      <td>Sia</td>\n",
       "      <td>Big Girls Cry</td>\n",
       "      <td>1000 Forms Of Fear</td>\n",
       "      <td>210613</td>\n",
       "      <td>spotify:artist:5WUlDfRSoLAfcVSX1WnrxN</td>\n",
       "      <td>spotify:track:75xgoXAGed7jiNDdV8TNOe</td>\n",
       "      <td>spotify:album:3xFSl9lIRaYXIYkIn3OIl9</td>\n",
       "      <td>0.0393</td>\n",
       "      <td>...</td>\n",
       "      <td>-4.962</td>\n",
       "      <td>1</td>\n",
       "      <td>0.0399</td>\n",
       "      <td>161.996</td>\n",
       "      <td>4</td>\n",
       "      <td>0.0938</td>\n",
       "      <td>Writing</td>\n",
       "      <td>9</td>\n",
       "      <td>9</td>\n",
       "      <td>9</td>\n",
       "    </tr>\n",
       "  </tbody>\n",
       "</table>\n",
       "<p>5 rows × 28 columns</p>\n",
       "</div>"
      ],
      "text/plain": [
       "      Playlistid  Trackid     Artist_Name                   Track_Name  \\\n",
       "214         2535       81       Dj Slim D             I Got Two Phones   \n",
       "2972      256979       16  Bad Meets Evil                     Lighters   \n",
       "1961      196206        6           AC/DC                       T.N.T.   \n",
       "858        62657        1     John Denver  Take Me Home, Country Roads   \n",
       "1138      107941        7             Sia                Big Girls Cry   \n",
       "\n",
       "                                             Album_Name  Track_Duration  \\\n",
       "214                                    I Got Two Phones          241290   \n",
       "2972                                   Hell: The Sequel          303813   \n",
       "1961                                       High Voltage          214666   \n",
       "858   The John Denver Collection, Vol. 1: Take Me Ho...          197813   \n",
       "1138                                 1000 Forms Of Fear          210613   \n",
       "\n",
       "                                 Artist_uri  \\\n",
       "214   spotify:artist:5VRQkaqx6A28RnkJ8xx2nW   \n",
       "2972  spotify:artist:77IURH5NC56Jn09QHi76is   \n",
       "1961  spotify:artist:711MCceyCBcFnzjGY4Q7Un   \n",
       "858   spotify:artist:7EK1bQADBoqbYXnT4Cqv9w   \n",
       "1138  spotify:artist:5WUlDfRSoLAfcVSX1WnrxN   \n",
       "\n",
       "                                 Track_uri  \\\n",
       "214   spotify:track:72ZxpfXEOPHMmqmYD0LpkR   \n",
       "2972  spotify:track:4BWBbJ9MKpnt30SFYEomzJ   \n",
       "1961  spotify:track:7LRMbd3LEoV5wZJvXT1Lwb   \n",
       "858   spotify:track:2xYlyywNgefLCRDG8hlxZq   \n",
       "1138  spotify:track:75xgoXAGed7jiNDdV8TNOe   \n",
       "\n",
       "                                 Album_uri  acousticness   ...   loudness  \\\n",
       "214   spotify:album:2HYolsoIh0cUxObkDX4WNE        0.2150   ...     -7.440   \n",
       "2972  spotify:album:7CWSLPmiMIHXfETjpdOVT6        0.3510   ...     -8.237   \n",
       "1961  spotify:album:19AUoKWRAaQYrggVvdQnqq        0.1530   ...     -5.218   \n",
       "858   spotify:album:5erROp1lRW31aNxj9PbAUf        0.5460   ...    -12.564   \n",
       "1138  spotify:album:3xFSl9lIRaYXIYkIn3OIl9        0.0393   ...     -4.962   \n",
       "\n",
       "      mode  speechiness    tempo  time_signature  valence      Playlist  \\\n",
       "214      0       0.1350  121.764               4   0.1840     Feel Good   \n",
       "2972     1       0.2650   90.079               4   0.1810          2011   \n",
       "1961     1       0.3020  126.367               4   0.4350       classic   \n",
       "858      1       0.0322  164.267               4   0.5460  country road   \n",
       "1138     1       0.0399  161.996               4   0.0938      Writing    \n",
       "\n",
       "      Album  Track  Artist  \n",
       "214      94    102      85  \n",
       "2972     43     54      40  \n",
       "1961     13     17       8  \n",
       "858      17     19      16  \n",
       "1138      9      9       9  \n",
       "\n",
       "[5 rows x 28 columns]"
      ]
     },
     "execution_count": 4,
     "metadata": {},
     "output_type": "execute_result"
    }
   ],
   "source": [
    "subset100.head()"
   ]
  },
  {
   "cell_type": "code",
   "execution_count": 5,
   "metadata": {},
   "outputs": [],
   "source": [
    "# Train-val-test split (20%)\n",
    "train, test = train_test_split(subset100, test_size=0.2, random_state=42, stratify = subset100['Playlistid'])\n",
    "train, val = train_test_split(train, test_size=0.2, random_state=42, stratify = train['Playlistid'])"
   ]
  },
  {
   "cell_type": "code",
   "execution_count": 6,
   "metadata": {},
   "outputs": [],
   "source": [
    "# Drop features here\n",
    "features_drop = [\"Playlistid\",\"Playlist\",\"Album\", \"Track\", \"Artist\", \"Trackid\", \"Artist_Name\", \"Track_Name\", \"Album_Name\", \"Artist_uri\", \"Track_uri\", \"Album_uri\", \"artist_genres\", \"explicit\"]\n",
    "train_cleaned, val_cleaned, test_cleaned = train.drop(features_drop, axis =1), val.drop(features_drop, axis=1), test.drop(features_drop, axis=1)"
   ]
  },
  {
   "cell_type": "code",
   "execution_count": 17,
   "metadata": {},
   "outputs": [],
   "source": [
    "train = train.reset_index(drop=True)"
   ]
  },
  {
   "cell_type": "code",
   "execution_count": 7,
   "metadata": {},
   "outputs": [],
   "source": [
    "train_cleaned = train_cleaned.reset_index(drop=True)"
   ]
  },
  {
   "cell_type": "code",
   "execution_count": 8,
   "metadata": {},
   "outputs": [
    {
     "data": {
      "text/html": [
       "<div>\n",
       "<style scoped>\n",
       "    .dataframe tbody tr th:only-of-type {\n",
       "        vertical-align: middle;\n",
       "    }\n",
       "\n",
       "    .dataframe tbody tr th {\n",
       "        vertical-align: top;\n",
       "    }\n",
       "\n",
       "    .dataframe thead th {\n",
       "        text-align: right;\n",
       "    }\n",
       "</style>\n",
       "<table border=\"1\" class=\"dataframe\">\n",
       "  <thead>\n",
       "    <tr style=\"text-align: right;\">\n",
       "      <th></th>\n",
       "      <th>Track_Duration</th>\n",
       "      <th>acousticness</th>\n",
       "      <th>artist_popularity</th>\n",
       "      <th>danceability</th>\n",
       "      <th>energy</th>\n",
       "      <th>instrumentalness</th>\n",
       "      <th>key</th>\n",
       "      <th>liveness</th>\n",
       "      <th>loudness</th>\n",
       "      <th>mode</th>\n",
       "      <th>speechiness</th>\n",
       "      <th>tempo</th>\n",
       "      <th>time_signature</th>\n",
       "      <th>valence</th>\n",
       "    </tr>\n",
       "  </thead>\n",
       "  <tbody>\n",
       "    <tr>\n",
       "      <th>0</th>\n",
       "      <td>227880</td>\n",
       "      <td>0.00357</td>\n",
       "      <td>100</td>\n",
       "      <td>0.773</td>\n",
       "      <td>0.404</td>\n",
       "      <td>0.000022</td>\n",
       "      <td>6</td>\n",
       "      <td>0.0718</td>\n",
       "      <td>-7.438</td>\n",
       "      <td>0</td>\n",
       "      <td>0.0949</td>\n",
       "      <td>99.999</td>\n",
       "      <td>4</td>\n",
       "      <td>0.287</td>\n",
       "    </tr>\n",
       "    <tr>\n",
       "      <th>1</th>\n",
       "      <td>227960</td>\n",
       "      <td>0.01110</td>\n",
       "      <td>76</td>\n",
       "      <td>0.693</td>\n",
       "      <td>0.547</td>\n",
       "      <td>0.000000</td>\n",
       "      <td>1</td>\n",
       "      <td>0.0677</td>\n",
       "      <td>-8.127</td>\n",
       "      <td>1</td>\n",
       "      <td>0.1140</td>\n",
       "      <td>80.028</td>\n",
       "      <td>4</td>\n",
       "      <td>0.612</td>\n",
       "    </tr>\n",
       "    <tr>\n",
       "      <th>2</th>\n",
       "      <td>181933</td>\n",
       "      <td>0.41400</td>\n",
       "      <td>78</td>\n",
       "      <td>0.668</td>\n",
       "      <td>0.613</td>\n",
       "      <td>0.000000</td>\n",
       "      <td>4</td>\n",
       "      <td>0.1020</td>\n",
       "      <td>-4.225</td>\n",
       "      <td>1</td>\n",
       "      <td>0.1020</td>\n",
       "      <td>99.852</td>\n",
       "      <td>4</td>\n",
       "      <td>0.498</td>\n",
       "    </tr>\n",
       "    <tr>\n",
       "      <th>3</th>\n",
       "      <td>195199</td>\n",
       "      <td>0.01270</td>\n",
       "      <td>74</td>\n",
       "      <td>0.514</td>\n",
       "      <td>0.858</td>\n",
       "      <td>0.052800</td>\n",
       "      <td>2</td>\n",
       "      <td>0.2510</td>\n",
       "      <td>-5.995</td>\n",
       "      <td>1</td>\n",
       "      <td>0.0896</td>\n",
       "      <td>89.833</td>\n",
       "      <td>4</td>\n",
       "      <td>0.600</td>\n",
       "    </tr>\n",
       "    <tr>\n",
       "      <th>4</th>\n",
       "      <td>326280</td>\n",
       "      <td>0.10300</td>\n",
       "      <td>81</td>\n",
       "      <td>0.795</td>\n",
       "      <td>0.596</td>\n",
       "      <td>0.000000</td>\n",
       "      <td>11</td>\n",
       "      <td>0.1640</td>\n",
       "      <td>-3.799</td>\n",
       "      <td>0</td>\n",
       "      <td>0.2190</td>\n",
       "      <td>101.985</td>\n",
       "      <td>4</td>\n",
       "      <td>0.357</td>\n",
       "    </tr>\n",
       "  </tbody>\n",
       "</table>\n",
       "</div>"
      ],
      "text/plain": [
       "   Track_Duration  acousticness  artist_popularity  danceability  energy  \\\n",
       "0          227880       0.00357                100         0.773   0.404   \n",
       "1          227960       0.01110                 76         0.693   0.547   \n",
       "2          181933       0.41400                 78         0.668   0.613   \n",
       "3          195199       0.01270                 74         0.514   0.858   \n",
       "4          326280       0.10300                 81         0.795   0.596   \n",
       "\n",
       "   instrumentalness  key  liveness  loudness  mode  speechiness    tempo  \\\n",
       "0          0.000022    6    0.0718    -7.438     0       0.0949   99.999   \n",
       "1          0.000000    1    0.0677    -8.127     1       0.1140   80.028   \n",
       "2          0.000000    4    0.1020    -4.225     1       0.1020   99.852   \n",
       "3          0.052800    2    0.2510    -5.995     1       0.0896   89.833   \n",
       "4          0.000000   11    0.1640    -3.799     0       0.2190  101.985   \n",
       "\n",
       "   time_signature  valence  \n",
       "0               4    0.287  \n",
       "1               4    0.612  \n",
       "2               4    0.498  \n",
       "3               4    0.600  \n",
       "4               4    0.357  "
      ]
     },
     "execution_count": 8,
     "metadata": {},
     "output_type": "execute_result"
    }
   ],
   "source": [
    "train_cleaned.head()"
   ]
  },
  {
   "cell_type": "markdown",
   "metadata": {},
   "source": [
    "### Content-based Collaborative Filtering"
   ]
  },
  {
   "cell_type": "code",
   "execution_count": 12,
   "metadata": {},
   "outputs": [],
   "source": [
    "# train_content\n",
    "from sklearn.metrics.pairwise import cosine_similarity "
   ]
  },
  {
   "cell_type": "code",
   "execution_count": null,
   "metadata": {},
   "outputs": [],
   "source": []
  },
  {
   "cell_type": "markdown",
   "metadata": {},
   "source": [
    "### Create a cosine-similarity matrix"
   ]
  },
  {
   "cell_type": "code",
   "execution_count": 10,
   "metadata": {},
   "outputs": [],
   "source": [
    "from sklearn.preprocessing import MinMaxScaler\n",
    "scaler = MinMaxScaler()\n",
    "scaler.fit(train_cleaned)\n",
    "train_scaled = scaler.transform(train_cleaned)\n",
    "test_scaled = scaler.transform(test_cleaned)"
   ]
  },
  {
   "cell_type": "code",
   "execution_count": 13,
   "metadata": {},
   "outputs": [],
   "source": [
    "train_scaled_cos_matrix = cosine_similarity(train_scaled)\n",
    "# np.dot(np.array(trial_scaled[0,]), np.array(trial_scaled[5,]))/ (np.linalg.norm(trial_scaled[0,]) * np.linalg.norm(trial_scaled[5,]))\n"
   ]
  },
  {
   "cell_type": "code",
   "execution_count": 14,
   "metadata": {},
   "outputs": [
    {
     "data": {
      "text/plain": [
       "array([[1.        , 0.81131319, 0.83194573, ..., 0.81758748, 0.86867039,\n",
       "        0.86253482],\n",
       "       [0.81131319, 1.        , 0.96578083, ..., 0.96728494, 0.93323413,\n",
       "        0.95138682],\n",
       "       [0.83194573, 0.96578083, 1.        , ..., 0.9668292 , 0.97331513,\n",
       "        0.97052851],\n",
       "       [0.79178443, 0.97585818, 0.96054717, ..., 0.99008252, 0.92960836,\n",
       "        0.94061843],\n",
       "       [0.96221297, 0.76508768, 0.81803765, ..., 0.81970446, 0.85794287,\n",
       "        0.86929201]])"
      ]
     },
     "execution_count": 14,
     "metadata": {},
     "output_type": "execute_result"
    }
   ],
   "source": [
    "train_scaled_cos_matrix[:5]"
   ]
  },
  {
   "cell_type": "code",
   "execution_count": null,
   "metadata": {},
   "outputs": [],
   "source": [
    "subset100.head()"
   ]
  },
  {
   "cell_type": "code",
   "execution_count": null,
   "metadata": {},
   "outputs": [],
   "source": [
    "def cos_similar_songs_playlist(cos_matrix, orig_df, target_inx, k):\n",
    "    \"\"\"\n",
    "    cos_matrix: cosine matrix of the tracks\n",
    "    orig_df: original df with tracks as rows, but with playlistid and other features (e.g., train)\n",
    "    target_inx: index of playlist\n",
    "    \n",
    "    \"\"\"\n",
    "    target_playlistid = orig_df.loc[0, \"Playlistid\"]\n",
    "    target_track_inx = np.where(orig_df[\"Playlistid\"] == target_playlistid)\n",
    "    # remove rows in matrix with songs that live in the same playlist with the target song\n",
    "    # candidate_cos_matrix = np.delete(cos_matrix, target_track_inx, 1) # remoe songs that co-exist in the same playlist\n",
    "\n",
    "    candidate_cos_matrix = cos_matrix\n",
    "    candidate_song_rec = candidate_cos_matrix[target_inx, ] # row of target playlist\n",
    "    candidate_song_rec_inx = np.argsort(candidate_song_rec) # get index of sorted cosine similarity\n",
    "\n",
    "    candidate_song_rec[candidate_song_rec_inx][::-1]\n",
    "    ## Todo: sort the row with highest (recommend most similar tracks)\n",
    "\n",
    "    target_playlistid = train"
   ]
  },
  {
   "cell_type": "code",
   "execution_count": 16,
   "metadata": {},
   "outputs": [
    {
     "data": {
      "text/html": [
       "<div>\n",
       "<style scoped>\n",
       "    .dataframe tbody tr th:only-of-type {\n",
       "        vertical-align: middle;\n",
       "    }\n",
       "\n",
       "    .dataframe tbody tr th {\n",
       "        vertical-align: top;\n",
       "    }\n",
       "\n",
       "    .dataframe thead th {\n",
       "        text-align: right;\n",
       "    }\n",
       "</style>\n",
       "<table border=\"1\" class=\"dataframe\">\n",
       "  <thead>\n",
       "    <tr style=\"text-align: right;\">\n",
       "      <th></th>\n",
       "      <th>Playlistid</th>\n",
       "      <th>Trackid</th>\n",
       "      <th>Artist_Name</th>\n",
       "      <th>Track_Name</th>\n",
       "      <th>Album_Name</th>\n",
       "      <th>Track_Duration</th>\n",
       "      <th>Artist_uri</th>\n",
       "      <th>Track_uri</th>\n",
       "      <th>Album_uri</th>\n",
       "      <th>acousticness</th>\n",
       "      <th>...</th>\n",
       "      <th>loudness</th>\n",
       "      <th>mode</th>\n",
       "      <th>speechiness</th>\n",
       "      <th>tempo</th>\n",
       "      <th>time_signature</th>\n",
       "      <th>valence</th>\n",
       "      <th>Playlist</th>\n",
       "      <th>Album</th>\n",
       "      <th>Track</th>\n",
       "      <th>Artist</th>\n",
       "    </tr>\n",
       "  </thead>\n",
       "  <tbody>\n",
       "    <tr>\n",
       "      <th>830</th>\n",
       "      <td>61388</td>\n",
       "      <td>68</td>\n",
       "      <td>Drake</td>\n",
       "      <td>Hold On, We're Going Home</td>\n",
       "      <td>Nothing Was The Same</td>\n",
       "      <td>227880</td>\n",
       "      <td>spotify:artist:3TVXtAsR1Inumwj472S9r4</td>\n",
       "      <td>spotify:track:6jdOi5U5LBzQrc4c1VT983</td>\n",
       "      <td>spotify:album:2ZUFSbIkmFkGag000RWOpA</td>\n",
       "      <td>0.00357</td>\n",
       "      <td>...</td>\n",
       "      <td>-7.438</td>\n",
       "      <td>0</td>\n",
       "      <td>0.0949</td>\n",
       "      <td>99.999</td>\n",
       "      <td>4</td>\n",
       "      <td>0.287</td>\n",
       "      <td>OVO</td>\n",
       "      <td>39</td>\n",
       "      <td>95</td>\n",
       "      <td>18</td>\n",
       "    </tr>\n",
       "    <tr>\n",
       "      <th>667</th>\n",
       "      <td>51590</td>\n",
       "      <td>28</td>\n",
       "      <td>T-Pain</td>\n",
       "      <td>Buy U a Drank (Shawty Snappin')</td>\n",
       "      <td>Epiphany</td>\n",
       "      <td>227960</td>\n",
       "      <td>spotify:artist:3aQeKQSyrW4qWr35idm0cy</td>\n",
       "      <td>spotify:track:4gFXY5yvHayGckJndafYQE</td>\n",
       "      <td>spotify:album:1fXu5FuLGSpQdmG5SWJfXL</td>\n",
       "      <td>0.01110</td>\n",
       "      <td>...</td>\n",
       "      <td>-8.127</td>\n",
       "      <td>1</td>\n",
       "      <td>0.1140</td>\n",
       "      <td>80.028</td>\n",
       "      <td>4</td>\n",
       "      <td>0.612</td>\n",
       "      <td>Rap</td>\n",
       "      <td>30</td>\n",
       "      <td>38</td>\n",
       "      <td>23</td>\n",
       "    </tr>\n",
       "    <tr>\n",
       "      <th>1842</th>\n",
       "      <td>193450</td>\n",
       "      <td>1</td>\n",
       "      <td>Hailee Steinfeld</td>\n",
       "      <td>Starving</td>\n",
       "      <td>HAIZ</td>\n",
       "      <td>181933</td>\n",
       "      <td>spotify:artist:5p7f24Rk5HkUZsaS3BLG5F</td>\n",
       "      <td>spotify:track:6875MeXyCW0wLyT72Eetmo</td>\n",
       "      <td>spotify:album:5m01tty1948HnkXUhG0urw</td>\n",
       "      <td>0.41400</td>\n",
       "      <td>...</td>\n",
       "      <td>-4.225</td>\n",
       "      <td>1</td>\n",
       "      <td>0.1020</td>\n",
       "      <td>99.852</td>\n",
       "      <td>4</td>\n",
       "      <td>0.498</td>\n",
       "      <td>Fall 2016</td>\n",
       "      <td>51</td>\n",
       "      <td>55</td>\n",
       "      <td>45</td>\n",
       "    </tr>\n",
       "    <tr>\n",
       "      <th>2005</th>\n",
       "      <td>198885</td>\n",
       "      <td>26</td>\n",
       "      <td>X Ambassadors</td>\n",
       "      <td>Renegades</td>\n",
       "      <td>VHS</td>\n",
       "      <td>195199</td>\n",
       "      <td>spotify:artist:3NPpFNZtSTHheNBaWC82rB</td>\n",
       "      <td>spotify:track:46GGxd8TVRt6FjUBfCavVT</td>\n",
       "      <td>spotify:album:5yQ3ctYzF5d1SgMzhyWe8s</td>\n",
       "      <td>0.01270</td>\n",
       "      <td>...</td>\n",
       "      <td>-5.995</td>\n",
       "      <td>1</td>\n",
       "      <td>0.0896</td>\n",
       "      <td>89.833</td>\n",
       "      <td>4</td>\n",
       "      <td>0.600</td>\n",
       "      <td>my favorite music</td>\n",
       "      <td>22</td>\n",
       "      <td>27</td>\n",
       "      <td>18</td>\n",
       "    </tr>\n",
       "    <tr>\n",
       "      <th>934</th>\n",
       "      <td>73524</td>\n",
       "      <td>1</td>\n",
       "      <td>Justin Timberlake</td>\n",
       "      <td>Suit &amp; Tie</td>\n",
       "      <td>The 20/20 Experience (Deluxe Version)</td>\n",
       "      <td>326280</td>\n",
       "      <td>spotify:artist:31TPClRtHm23RisEBtV3X7</td>\n",
       "      <td>spotify:track:6vt0I1cw1YmAIKDJvHVIM5</td>\n",
       "      <td>spotify:album:0O82niJ0NpcptYRxogeEZu</td>\n",
       "      <td>0.10300</td>\n",
       "      <td>...</td>\n",
       "      <td>-3.799</td>\n",
       "      <td>0</td>\n",
       "      <td>0.2190</td>\n",
       "      <td>101.985</td>\n",
       "      <td>4</td>\n",
       "      <td>0.357</td>\n",
       "      <td>Barry</td>\n",
       "      <td>6</td>\n",
       "      <td>8</td>\n",
       "      <td>4</td>\n",
       "    </tr>\n",
       "  </tbody>\n",
       "</table>\n",
       "<p>5 rows × 28 columns</p>\n",
       "</div>"
      ],
      "text/plain": [
       "      Playlistid  Trackid        Artist_Name                       Track_Name  \\\n",
       "830        61388       68              Drake        Hold On, We're Going Home   \n",
       "667        51590       28             T-Pain  Buy U a Drank (Shawty Snappin')   \n",
       "1842      193450        1   Hailee Steinfeld                         Starving   \n",
       "2005      198885       26      X Ambassadors                        Renegades   \n",
       "934        73524        1  Justin Timberlake                       Suit & Tie   \n",
       "\n",
       "                                 Album_Name  Track_Duration  \\\n",
       "830                    Nothing Was The Same          227880   \n",
       "667                                Epiphany          227960   \n",
       "1842                                   HAIZ          181933   \n",
       "2005                                    VHS          195199   \n",
       "934   The 20/20 Experience (Deluxe Version)          326280   \n",
       "\n",
       "                                 Artist_uri  \\\n",
       "830   spotify:artist:3TVXtAsR1Inumwj472S9r4   \n",
       "667   spotify:artist:3aQeKQSyrW4qWr35idm0cy   \n",
       "1842  spotify:artist:5p7f24Rk5HkUZsaS3BLG5F   \n",
       "2005  spotify:artist:3NPpFNZtSTHheNBaWC82rB   \n",
       "934   spotify:artist:31TPClRtHm23RisEBtV3X7   \n",
       "\n",
       "                                 Track_uri  \\\n",
       "830   spotify:track:6jdOi5U5LBzQrc4c1VT983   \n",
       "667   spotify:track:4gFXY5yvHayGckJndafYQE   \n",
       "1842  spotify:track:6875MeXyCW0wLyT72Eetmo   \n",
       "2005  spotify:track:46GGxd8TVRt6FjUBfCavVT   \n",
       "934   spotify:track:6vt0I1cw1YmAIKDJvHVIM5   \n",
       "\n",
       "                                 Album_uri  acousticness   ...   loudness  \\\n",
       "830   spotify:album:2ZUFSbIkmFkGag000RWOpA       0.00357   ...     -7.438   \n",
       "667   spotify:album:1fXu5FuLGSpQdmG5SWJfXL       0.01110   ...     -8.127   \n",
       "1842  spotify:album:5m01tty1948HnkXUhG0urw       0.41400   ...     -4.225   \n",
       "2005  spotify:album:5yQ3ctYzF5d1SgMzhyWe8s       0.01270   ...     -5.995   \n",
       "934   spotify:album:0O82niJ0NpcptYRxogeEZu       0.10300   ...     -3.799   \n",
       "\n",
       "      mode  speechiness    tempo  time_signature  valence           Playlist  \\\n",
       "830      0       0.0949   99.999               4    0.287                OVO   \n",
       "667      1       0.1140   80.028               4    0.612                Rap   \n",
       "1842     1       0.1020   99.852               4    0.498          Fall 2016   \n",
       "2005     1       0.0896   89.833               4    0.600  my favorite music   \n",
       "934      0       0.2190  101.985               4    0.357              Barry   \n",
       "\n",
       "      Album  Track  Artist  \n",
       "830      39     95      18  \n",
       "667      30     38      23  \n",
       "1842     51     55      45  \n",
       "2005     22     27      18  \n",
       "934       6      8       4  \n",
       "\n",
       "[5 rows x 28 columns]"
      ]
     },
     "execution_count": 16,
     "metadata": {},
     "output_type": "execute_result"
    }
   ],
   "source": [
    "train.head()"
   ]
  },
  {
   "cell_type": "code",
   "execution_count": 18,
   "metadata": {},
   "outputs": [
    {
     "data": {
      "text/plain": [
       "array([1.        , 1.        , 1.        , ..., 0.54621412, 0.52038527,\n",
       "       0.35889349])"
      ]
     },
     "execution_count": 18,
     "metadata": {},
     "output_type": "execute_result"
    }
   ],
   "source": [
    "cos_matrix = train_scaled_cos_matrix\n",
    "target_inx = 0 # target playlist inx\n",
    "## Above should be removed\n",
    "target_playlistid = train.loc[0, \"Playlistid\"]\n",
    "\n",
    "target_track_inx = np.where(train[\"Playlistid\"] == target_playlistid)\n",
    "# remove rows in matrix with songs that live in the same playlist with the target song\n",
    "# candidate_cos_matrix = np.delete(cos_matrix, target_track_inx, 1) # remoe songs that co-exist in the same playlist\n",
    "\n",
    "candidate_cos_matrix = cos_matrix\n",
    "candidate_song_rec = candidate_cos_matrix[target_inx, ] # row of target playlist\n",
    "candidate_song_rec_inx = np.argsort(candidate_song_rec) # get index of sorted cosine similarity\n",
    "\n",
    "candidate_song_rec[candidate_song_rec_inx][::-1]\n",
    "## Todo: sort the row with highest (recommend most similar tracks)"
   ]
  },
  {
   "cell_type": "code",
   "execution_count": 19,
   "metadata": {},
   "outputs": [
    {
     "data": {
      "text/plain": [
       "(1970,)"
      ]
     },
     "execution_count": 19,
     "metadata": {},
     "output_type": "execute_result"
    }
   ],
   "source": [
    "candidate_song_rec_inx.shape"
   ]
  },
  {
   "cell_type": "code",
   "execution_count": 22,
   "metadata": {
    "collapsed": true
   },
   "outputs": [
    {
     "data": {
      "text/plain": [
       "0                               Hold On, We're Going Home\n",
       "1414                            Hold On, We're Going Home\n",
       "1289                            Hold On, We're Going Home\n",
       "791                                                  Blem\n",
       "1672                                        Teenage Fever\n",
       "24                                              Needed Me\n",
       "1299                                              Used To\n",
       "236                                               Used To\n",
       "1332                                               Havana\n",
       "1764                                           King Kunta\n",
       "320                                            King Kunta\n",
       "1336                                              My Type\n",
       "258                                  Don't Stop The Music\n",
       "1638                                 Don't Stop The Music\n",
       "1306                                             Heathens\n",
       "903                                              Heathens\n",
       "1092                                             Heathens\n",
       "1132                                         Money Longer\n",
       "389                                             Big Rings\n",
       "746                                     Somethin Tells Me\n",
       "402                                         Ain't No Time\n",
       "667                                       Hands To Myself\n",
       "255                                            Break Free\n",
       "706                                               Love Me\n",
       "1273                                            Boyfriend\n",
       "721                                                 Can I\n",
       "1280                      Waves - Robin Schulz Radio Edit\n",
       "226                       Waves - Robin Schulz Radio Edit\n",
       "1884                                            Paparazzi\n",
       "263                                     beibs in the trap\n",
       "                              ...                        \n",
       "1845                                          Little Wing\n",
       "1928                                 Pobre Corazón - Live\n",
       "908                         Babkak, Omar, Aladdin, Kassim\n",
       "695                                   Anyone Else But You\n",
       "1851                                  Like Real People Do\n",
       "1158              Juke Jam (feat. Justin Bieber & Towkio)\n",
       "1384                               I Will Always Love You\n",
       "1853                                            Piano Man\n",
       "1529                                           Orange Sky\n",
       "1302                             愛我請留言 - (劇集 \"愛我請留言\" 主題曲)\n",
       "50                                     Always and Forever\n",
       "704                                            Guaranteed\n",
       "861                                           F.U.N. Song\n",
       "332                                              Finale A\n",
       "1922                                               Will I\n",
       "1953                                    Proud of Your Boy\n",
       "1730                                         Life Support\n",
       "1348                                           Girl Crush\n",
       "433                                            Heartbeats\n",
       "1247                             The Great Gig in the Sky\n",
       "1371                             One Jump Ahead (Reprise)\n",
       "609                                  Can't Do Without You\n",
       "167                            Can't Help Falling in Love\n",
       "649                                 Make You Feel My Love\n",
       "862                                        Act One Finale\n",
       "938     Unaccompanied Cello Suite No. 1 in G Major, BW...\n",
       "1947      My Heart Will Go On - Love Theme from \"Titanic\"\n",
       "1830                I Started a Joke (feat. Becky Hanson)\n",
       "1801                               New Age for Meditation\n",
       "638                            Walking And Falling - Live\n",
       "Name: Track_Name, Length: 1970, dtype: object"
      ]
     },
     "execution_count": 22,
     "metadata": {},
     "output_type": "execute_result"
    }
   ],
   "source": [
    "train['Track_Name'][candidate_song_rec_inx][::-1]"
   ]
  },
  {
   "cell_type": "code",
   "execution_count": 27,
   "metadata": {
    "collapsed": true
   },
   "outputs": [
    {
     "data": {
      "text/plain": [
       "0       spotify:track:6jdOi5U5LBzQrc4c1VT983\n",
       "791     spotify:track:2XlHu0HcujBCkWMdIAvrqt\n",
       "1672    spotify:track:6n3HGiq4v35D6eFOSwqYuo\n",
       "24      spotify:track:1Tt4sE4pXi57mTD1GCzsqm\n",
       "1299    spotify:track:63p3Slj0shAFP0Q7dQetj5\n",
       "1332    spotify:track:0ofbQMrRDsUaVKq2mGLEAb\n",
       "1764    spotify:track:0N3W5peJUQtI4eyR6GJT5O\n",
       "1336    spotify:track:6V9kwssTrwkKT72imgowj9\n",
       "258     spotify:track:62LHRv9uwSNlBmByQF5jdE\n",
       "1306    spotify:track:6i0V12jOa3mr6uu4WYhUBr\n",
       "1132    spotify:track:0B8QzDH7YWih85V5SEMnyJ\n",
       "389     spotify:track:7jslhIiELQkgW9IHeYNOWE\n",
       "746     spotify:track:3Jrs7cC2OJNlNSy9VnDOMZ\n",
       "402     spotify:track:7givkGZW1cwM8MJYzMd2Na\n",
       "667     spotify:track:3CJvmtWw2bJsudbAC5uCQk\n",
       "255     spotify:track:1X2Zd5wKGbY1oKzb8dzJRy\n",
       "706     spotify:track:7tGlzXJv6GD5e5qlu5YmDg\n",
       "1273    spotify:track:07dYGGSrzPeg6a3KZjWX65\n",
       "721     spotify:track:6gcxng9dLaBV9EHNUDfYX1\n",
       "1280    spotify:track:5Sf3GyLEAzJXxZ5mbCPXTu\n",
       "1884    spotify:track:02XnQdf7sipaKBBHixz3Zp\n",
       "263     spotify:track:0ESJlaM8CE1jRWaNtwSNj8\n",
       "758     spotify:track:5mPSyjLatqB00IkPqRlbTE\n",
       "1677    spotify:track:5xdVqHtFS0eLuNp4Z8Wbpa\n",
       "1818    spotify:track:3Uw0h4GVLVjoUEToSWe0gY\n",
       "1428    spotify:track:6JdMhQybpCiM754NZDw2pm\n",
       "477     spotify:track:5NzbQM6LZANeUxB3lq9nPV\n",
       "1081    spotify:track:32tBNiuuQtkUG5eBWpC0oQ\n",
       "896     spotify:track:4lLtanYk6tkMvooU0tWzG8\n",
       "685     spotify:track:6vnDoUOHTiVB5DvX18tJon\n",
       "                        ...                 \n",
       "1845    spotify:track:5XNpdKmlLJPUbwKQceX2tW\n",
       "1928    spotify:track:0CxhrRnEENJdpOviGtMn2D\n",
       "908     spotify:track:4G9yyEFrvfRpKaXXlajj0X\n",
       "695     spotify:track:2pKi1lRvXNASy7ybeQIDTy\n",
       "1851    spotify:track:44f2AVSNQ3xVs1EI0S0bjl\n",
       "1158    spotify:track:3eze1OsZ1rqeXkKStNfTmi\n",
       "1384    spotify:track:4eHbdreAnSOrDDsFfc4Fpm\n",
       "1853    spotify:track:78WVLOP9pN0G3gRLFy1rAa\n",
       "1529    spotify:track:0Y1fueUFu8jQtUxdUmOojf\n",
       "1302    spotify:track:2V8J29IIjB0SbwhvKMijrV\n",
       "50      spotify:track:0fKDnkXdfJwk0DEW9W83VY\n",
       "704     spotify:track:5R0o7E33bovEMXoFQ9GGWB\n",
       "861     spotify:track:0gdLTqxAY4DDUQxXzmwj1z\n",
       "332     spotify:track:3QVcPX50jXyonJ6DTgEq6G\n",
       "1922    spotify:track:0OuPMjmicFfmnB3SFFqdgQ\n",
       "1953    spotify:track:3GbmAjlXGySgDXIhSZqTNA\n",
       "1730    spotify:track:6LGHFOlbh34HKEyHtB0H6I\n",
       "1348    spotify:track:7hKpnp7A7bjiZEyywa5Qn4\n",
       "433     spotify:track:5YqpHuXpFjDVZ7tY1ClFll\n",
       "1247    spotify:track:2TjdnqlpwOjhijHCwHCP2d\n",
       "1371    spotify:track:3IGe9TnUiwWSWqOZi7XE38\n",
       "609     spotify:track:5SfpwvdJ66fSdIoOc3jw1g\n",
       "167     spotify:track:6yIHGmQLJxWAUZ1ZkENemN\n",
       "649     spotify:track:7rPLZ8Krm6CZIbraFUlnWZ\n",
       "862     spotify:track:1DcNYkstBN7ErOLcG1RTsa\n",
       "938     spotify:track:17i5jLpzndlQhbS4SrTd0B\n",
       "1947    spotify:track:4Dw02sVUfUA67l3fZ9FoKs\n",
       "1830    spotify:track:289tqoUU4BsRFI2Zuf4FDT\n",
       "1801    spotify:track:2ZYSuiqs4ScD2tMmhelmdf\n",
       "638     spotify:track:6tCUa4YpFXV4sTUmdg38Vb\n",
       "Name: Track_uri, Length: 1537, dtype: object"
      ]
     },
     "execution_count": 27,
     "metadata": {},
     "output_type": "execute_result"
    }
   ],
   "source": [
    "unique_candidate_song_sorted = train['Track_uri'][candidate_song_rec_inx][::-1].drop_duplicates()\n",
    "unique_candidate_song_sorted"
   ]
  },
  {
   "cell_type": "code",
   "execution_count": 36,
   "metadata": {
    "scrolled": true
   },
   "outputs": [],
   "source": [
    "tracks_in_target_playlist = train.loc[train[\"Playlistid\"] == target_playlistid, \"Track_uri\"]"
   ]
  },
  {
   "cell_type": "code",
   "execution_count": 45,
   "metadata": {},
   "outputs": [],
   "source": [
    "song_to_recommend = np.array(unique_candidate_song_sorted.loc[~unique_candidate_song_sorted.isin(tracks_in_target_playlist) ])"
   ]
  },
  {
   "cell_type": "code",
   "execution_count": 46,
   "metadata": {
    "scrolled": true
   },
   "outputs": [
    {
     "data": {
      "text/plain": [
       "'spotify:track:1Tt4sE4pXi57mTD1GCzsqm'"
      ]
     },
     "execution_count": 46,
     "metadata": {},
     "output_type": "execute_result"
    }
   ],
   "source": [
    "song_to_recommend[0]"
   ]
  },
  {
   "cell_type": "code",
   "execution_count": null,
   "metadata": {},
   "outputs": [],
   "source": [
    "candidate_song_rec[candidate_song_rec_inx][::-1]"
   ]
  },
  {
   "cell_type": "code",
   "execution_count": null,
   "metadata": {},
   "outputs": [],
   "source": [
    "candidate_song_rec_inx.shape"
   ]
  },
  {
   "cell_type": "code",
   "execution_count": null,
   "metadata": {},
   "outputs": [],
   "source": [
    "subset100.shape"
   ]
  },
  {
   "cell_type": "code",
   "execution_count": null,
   "metadata": {},
   "outputs": [],
   "source": [
    "train.head()"
   ]
  },
  {
   "cell_type": "code",
   "execution_count": null,
   "metadata": {},
   "outputs": [],
   "source": [
    "target_track_inx"
   ]
  },
  {
   "cell_type": "code",
   "execution_count": null,
   "metadata": {},
   "outputs": [],
   "source": [
    "candidate_cos_matrix"
   ]
  },
  {
   "cell_type": "code",
   "execution_count": null,
   "metadata": {},
   "outputs": [],
   "source": [
    "candidate_song_rec"
   ]
  },
  {
   "cell_type": "code",
   "execution_count": null,
   "metadata": {},
   "outputs": [],
   "source": [
    "candidate_song_rec[candidate_song_rec_inx][::-1]"
   ]
  },
  {
   "cell_type": "code",
   "execution_count": null,
   "metadata": {},
   "outputs": [],
   "source": [
    "x = np.array([3, 1, 2])\n",
    "inx_trial = np.argsort(x)\n",
    "# array([1, 2, 0])"
   ]
  },
  {
   "cell_type": "code",
   "execution_count": null,
   "metadata": {},
   "outputs": [],
   "source": [
    "inx_trial # 1st item should be at third position"
   ]
  },
  {
   "cell_type": "code",
   "execution_count": null,
   "metadata": {},
   "outputs": [],
   "source": [
    "x[np.array([0,1])]"
   ]
  },
  {
   "cell_type": "code",
   "execution_count": null,
   "metadata": {},
   "outputs": [],
   "source": [
    "x[inx_trial][::-1]"
   ]
  },
  {
   "cell_type": "code",
   "execution_count": null,
   "metadata": {},
   "outputs": [],
   "source": [
    "candidate_cos_matrix[0,]"
   ]
  },
  {
   "cell_type": "code",
   "execution_count": null,
   "metadata": {},
   "outputs": [],
   "source": [
    "candidate_song_rec"
   ]
  },
  {
   "cell_type": "code",
   "execution_count": null,
   "metadata": {},
   "outputs": [],
   "source": [
    "cos_matrix[target_inx,]"
   ]
  },
  {
   "cell_type": "code",
   "execution_count": null,
   "metadata": {},
   "outputs": [],
   "source": [
    "cos_matrix[:5]"
   ]
  },
  {
   "cell_type": "code",
   "execution_count": null,
   "metadata": {},
   "outputs": [],
   "source": [
    "target_track_inx"
   ]
  },
  {
   "cell_type": "code",
   "execution_count": null,
   "metadata": {},
   "outputs": [],
   "source": [
    "candidate_cos_matrix = np.delete(cos_matrix, target_track_inx, 0)"
   ]
  },
  {
   "cell_type": "code",
   "execution_count": null,
   "metadata": {},
   "outputs": [],
   "source": [
    "candidate_cos_matrix"
   ]
  },
  {
   "cell_type": "code",
   "execution_count": null,
   "metadata": {},
   "outputs": [],
   "source": [
    "candidate_cos_matrix = cos_matrix[]"
   ]
  },
  {
   "cell_type": "code",
   "execution_count": null,
   "metadata": {},
   "outputs": [],
   "source": [
    "train.head()"
   ]
  },
  {
   "cell_type": "code",
   "execution_count": null,
   "metadata": {},
   "outputs": [],
   "source": [
    "# target_playlistid\n",
    "train[\"Playlistid\"]"
   ]
  },
  {
   "cell_type": "code",
   "execution_count": null,
   "metadata": {},
   "outputs": [],
   "source": [
    "# Create Binary Sparse Matrix\n",
    "co_mat = pd.crosstab(train.Playlistid, train.Track_uri)\n",
    "co_mat = co_mat.clip(upper=1)\n",
    "assert np.max(co_mat.describe().loc['max']) == 1\n",
    "\n",
    "co_mat_sparse = csr_matrix(co_mat)"
   ]
  },
  {
   "cell_type": "code",
   "execution_count": null,
   "metadata": {},
   "outputs": [],
   "source": [
    "# Train kNN model\n",
    "col_filter = NearestNeighbors(metric='cosine', algorithm='brute')\n",
    "col_filter.fit(co_mat_sparse)"
   ]
  },
  {
   "cell_type": "markdown",
   "metadata": {},
   "source": [
    "## Making Predictions"
   ]
  },
  {
   "cell_type": "code",
   "execution_count": null,
   "metadata": {},
   "outputs": [],
   "source": [
    "def nholdout(playlist_id, df):\n",
    "    '''Pass in a playlist id to get number of songs held out in val/test set'''\n",
    "    \n",
    "    return len(df[df.Playlistid == playlist_id].Track_uri)"
   ]
  },
  {
   "cell_type": "code",
   "execution_count": null,
   "metadata": {},
   "outputs": [],
   "source": [
    "def kpredict(knnmodel, playlist_id, df):\n",
    "    '''for a playlist id, generate list of 15*k predictions where k is num holdouts''' \n",
    "    \n",
    "    k = nholdout(playlist_id, df)*15 # number of holdouts\n",
    "    ref_songs = co_mat.columns.values[co_mat.loc[playlist_id] == 1] # songs already in playlist\n",
    "    dist, ind = knnmodel.kneighbors(np.array(co_mat.loc[playlist_id]).reshape(1, -1), n_neighbors = 99)\n",
    "    rec_ind = co_mat.index[ind[0]] # recommended playlists\n",
    "    \n",
    "    n_pred = 0\n",
    "    pred = []\n",
    "    for i in rec_ind:\n",
    "        new_songs = co_mat.columns.values[co_mat.loc[i] == 1] # potential recommendations\n",
    "        for song in new_songs:\n",
    "            if song not in ref_songs: # only getting songs not already in target playlist\n",
    "                pred.append(song)\n",
    "                n_pred += 1\n",
    "                if n_pred == k:\n",
    "                    break\n",
    "        if n_pred == k:\n",
    "            break\n",
    "    \n",
    "    return pred"
   ]
  },
  {
   "cell_type": "code",
   "execution_count": null,
   "metadata": {
    "scrolled": true
   },
   "outputs": [],
   "source": [
    "### Prediction Example\n",
    "pi = 430 # target playlist index\n",
    "kpreds = kpredict(col_filter, pi, val) # list of predictions"
   ]
  },
  {
   "cell_type": "code",
   "execution_count": null,
   "metadata": {},
   "outputs": [],
   "source": [
    "val_set = val[val.Playlistid == pi]\n",
    "val_set = val_set['Track_uri'] # ground truth"
   ]
  },
  {
   "cell_type": "markdown",
   "metadata": {},
   "source": [
    "## Metrics"
   ]
  },
  {
   "cell_type": "code",
   "execution_count": null,
   "metadata": {},
   "outputs": [],
   "source": [
    "def r_precision(prediction, val_set):\n",
    "# prediction should be a list of predictions\n",
    "# val_set should be pandas Series of ground truths\n",
    "    score = np.sum(val_set.isin(prediction))/val_set.shape[0]\n",
    "    return score"
   ]
  },
  {
   "cell_type": "code",
   "execution_count": null,
   "metadata": {},
   "outputs": [],
   "source": [
    "### Example Usage\n",
    "r_precision(kpreds, val_set)"
   ]
  },
  {
   "cell_type": "code",
   "execution_count": null,
   "metadata": {},
   "outputs": [],
   "source": [
    "### NDCG Code Source: https://gist.github.com/bwhite/3726239\n",
    "def dcg_at_k(r, k, method=0):\n",
    "    r = np.asfarray(r)[:k]\n",
    "    if r.size:\n",
    "        if method == 0:\n",
    "            return r[0] + np.sum(r[1:] / np.log2(np.arange(2, r.size + 1)))\n",
    "        elif method == 1:\n",
    "            return np.sum(r / np.log2(np.arange(2, r.size + 2)))\n",
    "        else:\n",
    "            raise ValueError('method must be 0 or 1.')\n",
    "    return 0.\n",
    "\n",
    "\n",
    "def ndcg_at_k(r, k, method=0):\n",
    "    dcg_max = dcg_at_k(sorted(r, reverse=True), k, method)\n",
    "    if not dcg_max:\n",
    "        return 0.\n",
    "    return dcg_at_k(r, k, method) / dcg_max"
   ]
  },
  {
   "cell_type": "code",
   "execution_count": null,
   "metadata": {},
   "outputs": [],
   "source": [
    "### Example Usage\n",
    "# Generate binary relevance array\n",
    "r = np.zeros(len(kpreds))\n",
    "for i, p in enumerate(kpreds):\n",
    "    if p in val_set:\n",
    "        r[i] = 1\n",
    "\n",
    "ndcg_at_k(r, len(r))"
   ]
  },
  {
   "cell_type": "markdown",
   "metadata": {},
   "source": [
    "## Baseline Model Performance"
   ]
  },
  {
   "cell_type": "code",
   "execution_count": null,
   "metadata": {
    "scrolled": true
   },
   "outputs": [],
   "source": [
    "rps = []\n",
    "ndcgs = []\n",
    "for pid in co_mat.index:\n",
    "    ps = kpredict(col_filter, pid, val) # predictions\n",
    "    vs = val[val.Playlistid == pid].Track_uri # ground truth\n",
    "    rps.append(r_precision(ps, vs))\n",
    "    \n",
    "    r = np.zeros(len(ps))\n",
    "    for i, p in enumerate(ps):\n",
    "        if np.any(vs.isin([p])):\n",
    "            r[i] = 1\n",
    "    ndcgs.append(ndcg_at_k(r, len(r)))\n",
    "    "
   ]
  },
  {
   "cell_type": "code",
   "execution_count": null,
   "metadata": {},
   "outputs": [],
   "source": [
    "avg_rp = np.mean(rps)\n",
    "avg_ndcg = np.mean(ndcgs)\n",
    "print('Avg. R-Precision: ', avg_rp)\n",
    "print('Avg. NDCG: ', avg_ndcg)\n",
    "print('Total Sum: ', np.mean([avg_rp, avg_ndcg]))"
   ]
  },
  {
   "cell_type": "code",
   "execution_count": null,
   "metadata": {},
   "outputs": [],
   "source": []
  }
 ],
 "metadata": {
  "kernelspec": {
   "display_name": "Python 3",
   "language": "python",
   "name": "python3"
  },
  "language_info": {
   "codemirror_mode": {
    "name": "ipython",
    "version": 3
   },
   "file_extension": ".py",
   "mimetype": "text/x-python",
   "name": "python",
   "nbconvert_exporter": "python",
   "pygments_lexer": "ipython3",
   "version": "3.6.6"
  }
 },
 "nbformat": 4,
 "nbformat_minor": 2
}
