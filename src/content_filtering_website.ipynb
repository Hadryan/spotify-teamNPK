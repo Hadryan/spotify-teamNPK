{
 "cells": [
  {
   "cell_type": "markdown",
   "metadata": {
    "colab_type": "text",
    "id": "FUwyZjx_YWxQ"
   },
   "source": [
    "# Content filtering using cosine similarity of tracks"
   ]
  },
  {
   "cell_type": "markdown",
   "metadata": {
    "colab_type": "text",
    "id": "FgubJ1aYYWxS"
   },
   "source": [
    "The following notebook illustrates our content filtering approach that uses track similarity (measured by cosine distance) to recommend tracks to playlists."
   ]
  },
  {
   "cell_type": "markdown",
   "metadata": {},
   "source": [
    "## 0. Motivation"
   ]
  },
  {
   "cell_type": "markdown",
   "metadata": {},
   "source": [
    "In order to recommend songs to playlists, we want to recommend songs that share similar features with the existing songs in the playlists. One way to find songs that share similar features with the existing songs is to look at cosine similarity of their audio features. \n",
    "\n",
    "The idea is that if they share similar audio features (thus a short cosine distance), they are similar songs."
   ]
  },
  {
   "cell_type": "markdown",
   "metadata": {
    "colab_type": "text",
    "id": "H5Z_0oi2YWxT"
   },
   "source": [
    "Cosine similarity measures the orientation of two *n*-dimensional sample vectors irrespective to their magnitude. It is calculated by the dot product of two numeric vectors, and it is normalized by the product of the vector lengths. \n",
    "The output value ranges from 0 to 1, with 1 as the highest similarity.\n",
    "\n",
    "We compute a similarity matrix for tracks by using sklearn pairwise distance method, with cosine similairty:"
   ]
  },
  {
   "cell_type": "markdown",
   "metadata": {
    "colab_type": "text",
    "id": "HAGZoApkYWxT"
   },
   "source": [
    "<h><center>$cos(\\pmb track_1, \\pmb track_2) = \\frac{\\pmb track_1 \\cdot \\pmb track_2}{||\\pmb track_1|| \\cdot ||\\pmb track_2||}$ </h>"
   ]
  },
  {
   "cell_type": "markdown",
   "metadata": {
    "colab_type": "text",
    "id": "srwobwJnYYGv"
   },
   "source": [
    "## 0.1 Strategy"
   ]
  },
  {
   "cell_type": "markdown",
   "metadata": {},
   "source": [
    "To compute prediction set per playlist, our model does the following:\n",
    "1. The model looks at individual track of the playlist (from the training set) and find the cosine distance of that track and all other tracks in our training set.\n",
    "2. It recommends the top k similar songs per track until the recommendation list has reached its pre-determined limit (which is test-set size * 15)"
   ]
  },
  {
   "cell_type": "markdown",
   "metadata": {
    "colab_type": "text",
    "id": "T7nN9UGsYWxY"
   },
   "source": [
    "## 1. Data Processing\n",
    "\n",
    "### 1.1 Train-test split \n",
    "We did a stratified splitting of the data (by Playlistid) into training and test set by 80-20. Stratified splitting ensures that we have the right proportion of train and test for playlists of different lengths."
   ]
  },
  {
   "cell_type": "markdown",
   "metadata": {
    "colab_type": "text",
    "id": "iIpq712BYWxc"
   },
   "source": [
    "### 1.2 Data cleaning\n",
    "We drop some non-numeric features in order to calculate the cosine similarity matrix. Below shows the first few rows of our training data (with the audio features of individual tracks)."
   ]
  },
  {
   "cell_type": "code",
   "execution_count": 5,
   "metadata": {
    "colab": {
     "base_uri": "https://localhost:8080/",
     "height": 204
    },
    "colab_type": "code",
    "id": "6gfApogBYWxf",
    "outputId": "9105fb74-3074-47b5-921b-f602502a6793"
   },
   "outputs": [
    {
     "data": {
      "text/html": [
       "<div>\n",
       "<style scoped>\n",
       "    .dataframe tbody tr th:only-of-type {\n",
       "        vertical-align: middle;\n",
       "    }\n",
       "\n",
       "    .dataframe tbody tr th {\n",
       "        vertical-align: top;\n",
       "    }\n",
       "\n",
       "    .dataframe thead th {\n",
       "        text-align: right;\n",
       "    }\n",
       "</style>\n",
       "<table border=\"1\" class=\"dataframe\">\n",
       "  <thead>\n",
       "    <tr style=\"text-align: right;\">\n",
       "      <th></th>\n",
       "      <th>Track_Duration</th>\n",
       "      <th>acousticness</th>\n",
       "      <th>artist_popularity</th>\n",
       "      <th>danceability</th>\n",
       "      <th>energy</th>\n",
       "      <th>instrumentalness</th>\n",
       "      <th>key</th>\n",
       "      <th>liveness</th>\n",
       "      <th>loudness</th>\n",
       "      <th>mode</th>\n",
       "      <th>speechiness</th>\n",
       "      <th>tempo</th>\n",
       "      <th>time_signature</th>\n",
       "      <th>valence</th>\n",
       "    </tr>\n",
       "  </thead>\n",
       "  <tbody>\n",
       "    <tr>\n",
       "      <th>0</th>\n",
       "      <td>221939</td>\n",
       "      <td>0.72300</td>\n",
       "      <td>84</td>\n",
       "      <td>0.714</td>\n",
       "      <td>0.343</td>\n",
       "      <td>0.000005</td>\n",
       "      <td>10</td>\n",
       "      <td>0.1020</td>\n",
       "      <td>-7.641</td>\n",
       "      <td>1</td>\n",
       "      <td>0.3800</td>\n",
       "      <td>72.348</td>\n",
       "      <td>4</td>\n",
       "      <td>0.372</td>\n",
       "    </tr>\n",
       "    <tr>\n",
       "      <th>1</th>\n",
       "      <td>246213</td>\n",
       "      <td>0.02810</td>\n",
       "      <td>71</td>\n",
       "      <td>0.770</td>\n",
       "      <td>0.421</td>\n",
       "      <td>0.000000</td>\n",
       "      <td>0</td>\n",
       "      <td>0.1110</td>\n",
       "      <td>-8.255</td>\n",
       "      <td>0</td>\n",
       "      <td>0.0849</td>\n",
       "      <td>131.935</td>\n",
       "      <td>4</td>\n",
       "      <td>0.214</td>\n",
       "    </tr>\n",
       "    <tr>\n",
       "      <th>2</th>\n",
       "      <td>216120</td>\n",
       "      <td>0.01970</td>\n",
       "      <td>86</td>\n",
       "      <td>0.399</td>\n",
       "      <td>0.787</td>\n",
       "      <td>0.000061</td>\n",
       "      <td>1</td>\n",
       "      <td>0.0685</td>\n",
       "      <td>-2.880</td>\n",
       "      <td>1</td>\n",
       "      <td>0.0499</td>\n",
       "      <td>117.089</td>\n",
       "      <td>5</td>\n",
       "      <td>0.572</td>\n",
       "    </tr>\n",
       "    <tr>\n",
       "      <th>3</th>\n",
       "      <td>304200</td>\n",
       "      <td>0.04070</td>\n",
       "      <td>77</td>\n",
       "      <td>0.681</td>\n",
       "      <td>0.570</td>\n",
       "      <td>0.000000</td>\n",
       "      <td>7</td>\n",
       "      <td>0.1050</td>\n",
       "      <td>-5.829</td>\n",
       "      <td>0</td>\n",
       "      <td>0.1360</td>\n",
       "      <td>135.121</td>\n",
       "      <td>4</td>\n",
       "      <td>0.153</td>\n",
       "    </tr>\n",
       "    <tr>\n",
       "      <th>4</th>\n",
       "      <td>256946</td>\n",
       "      <td>0.00164</td>\n",
       "      <td>60</td>\n",
       "      <td>0.545</td>\n",
       "      <td>0.905</td>\n",
       "      <td>0.000002</td>\n",
       "      <td>7</td>\n",
       "      <td>0.0532</td>\n",
       "      <td>-10.732</td>\n",
       "      <td>1</td>\n",
       "      <td>0.0648</td>\n",
       "      <td>103.574</td>\n",
       "      <td>4</td>\n",
       "      <td>0.826</td>\n",
       "    </tr>\n",
       "  </tbody>\n",
       "</table>\n",
       "</div>"
      ],
      "text/plain": [
       "   Track_Duration  acousticness  artist_popularity  danceability  energy  \\\n",
       "0          221939       0.72300                 84         0.714   0.343   \n",
       "1          246213       0.02810                 71         0.770   0.421   \n",
       "2          216120       0.01970                 86         0.399   0.787   \n",
       "3          304200       0.04070                 77         0.681   0.570   \n",
       "4          256946       0.00164                 60         0.545   0.905   \n",
       "\n",
       "   instrumentalness  key  liveness  loudness  mode  speechiness    tempo  \\\n",
       "0          0.000005   10    0.1020    -7.641     1       0.3800   72.348   \n",
       "1          0.000000    0    0.1110    -8.255     0       0.0849  131.935   \n",
       "2          0.000061    1    0.0685    -2.880     1       0.0499  117.089   \n",
       "3          0.000000    7    0.1050    -5.829     0       0.1360  135.121   \n",
       "4          0.000002    7    0.0532   -10.732     1       0.0648  103.574   \n",
       "\n",
       "   time_signature  valence  \n",
       "0               4    0.372  \n",
       "1               4    0.214  \n",
       "2               5    0.572  \n",
       "3               4    0.153  \n",
       "4               4    0.826  "
      ]
     },
     "execution_count": 5,
     "metadata": {},
     "output_type": "execute_result"
    }
   ],
   "source": [
    "train_cleaned.head()"
   ]
  },
  {
   "cell_type": "markdown",
   "metadata": {
    "colab_type": "text",
    "id": "GCRDPBjoYWxk"
   },
   "source": [
    "### 1.3 Create a cosine-similarity matrix\n",
    "We create a cosine-similarity matrix of the individual tracks in the training set. The shape of the cosine matrix shows 2463 unique tracks (in 100 playlists) in the training set."
   ]
  },
  {
   "cell_type": "code",
   "execution_count": 7,
   "metadata": {
    "colab": {
     "base_uri": "https://localhost:8080/",
     "height": 34
    },
    "colab_type": "code",
    "id": "OnmTCb7KYWxo",
    "outputId": "01b7a362-0191-43d1-8b36-f8d895a40cad"
   },
   "outputs": [
    {
     "data": {
      "text/plain": [
       "(2463, 2463)"
      ]
     },
     "execution_count": 7,
     "metadata": {},
     "output_type": "execute_result"
    }
   ],
   "source": [
    "train_scaled_cos_matrix.shape"
   ]
  },
  {
   "cell_type": "markdown",
   "metadata": {},
   "source": [
    "Here's the cosine similarity of the first 5 tracks in the training set. We expect the diagnoal of the matrix to be 1, because it is referring to the same song."
   ]
  },
  {
   "cell_type": "code",
   "execution_count": 8,
   "metadata": {},
   "outputs": [
    {
     "data": {
      "text/plain": [
       "array([[1.        , 0.70370129, 0.81424758, ..., 0.87263617, 0.79012625,\n",
       "        0.76284813],\n",
       "       [0.70370129, 1.        , 0.82541858, ..., 0.77956107, 0.89152418,\n",
       "        0.82271377],\n",
       "       [0.81424758, 0.82541858, 1.        , ..., 0.93027042, 0.81602446,\n",
       "        0.72451838],\n",
       "       [0.79433301, 0.93252096, 0.80163412, ..., 0.86770269, 0.90692581,\n",
       "        0.89966543],\n",
       "       [0.85392504, 0.74018692, 0.9374127 , ..., 0.96500088, 0.84458619,\n",
       "        0.79398798]])"
      ]
     },
     "execution_count": 8,
     "metadata": {},
     "output_type": "execute_result"
    }
   ],
   "source": [
    "train_scaled_cos_matrix[:5]"
   ]
  },
  {
   "cell_type": "code",
   "execution_count": 17,
   "metadata": {},
   "outputs": [
    {
     "data": {
      "text/html": [
       "<div>\n",
       "<style scoped>\n",
       "    .dataframe tbody tr th:only-of-type {\n",
       "        vertical-align: middle;\n",
       "    }\n",
       "\n",
       "    .dataframe tbody tr th {\n",
       "        vertical-align: top;\n",
       "    }\n",
       "\n",
       "    .dataframe thead th {\n",
       "        text-align: right;\n",
       "    }\n",
       "</style>\n",
       "<table border=\"1\" class=\"dataframe\">\n",
       "  <thead>\n",
       "    <tr style=\"text-align: right;\">\n",
       "      <th></th>\n",
       "      <th>Playlistid</th>\n",
       "      <th>Trackid</th>\n",
       "      <th>Artist_Name</th>\n",
       "      <th>Track_Name</th>\n",
       "      <th>Album_Name</th>\n",
       "      <th>Track_Duration</th>\n",
       "      <th>Artist_uri</th>\n",
       "      <th>Track_uri</th>\n",
       "      <th>Album_uri</th>\n",
       "      <th>acousticness</th>\n",
       "      <th>...</th>\n",
       "      <th>loudness</th>\n",
       "      <th>mode</th>\n",
       "      <th>speechiness</th>\n",
       "      <th>tempo</th>\n",
       "      <th>time_signature</th>\n",
       "      <th>valence</th>\n",
       "      <th>Playlist</th>\n",
       "      <th>Album</th>\n",
       "      <th>Track</th>\n",
       "      <th>Artist</th>\n",
       "    </tr>\n",
       "  </thead>\n",
       "  <tbody>\n",
       "    <tr>\n",
       "      <th>0</th>\n",
       "      <td>231023</td>\n",
       "      <td>4</td>\n",
       "      <td>Chance The Rapper</td>\n",
       "      <td>Blessings</td>\n",
       "      <td>Coloring Book</td>\n",
       "      <td>221939</td>\n",
       "      <td>spotify:artist:1anyVhU62p31KFi8MEzkbf</td>\n",
       "      <td>spotify:track:2VQc9orzwE6a5qFfy54P6e</td>\n",
       "      <td>spotify:album:71QyofYesSsRMwFOTafnhB</td>\n",
       "      <td>0.72300</td>\n",
       "      <td>...</td>\n",
       "      <td>-7.641</td>\n",
       "      <td>1</td>\n",
       "      <td>0.3800</td>\n",
       "      <td>72.348</td>\n",
       "      <td>4</td>\n",
       "      <td>0.372</td>\n",
       "      <td>Chance The Rapper</td>\n",
       "      <td>21</td>\n",
       "      <td>38</td>\n",
       "      <td>16</td>\n",
       "    </tr>\n",
       "    <tr>\n",
       "      <th>1</th>\n",
       "      <td>249966</td>\n",
       "      <td>51</td>\n",
       "      <td>Chief Keef</td>\n",
       "      <td>Love Sosa</td>\n",
       "      <td>Finally Rich</td>\n",
       "      <td>246213</td>\n",
       "      <td>spotify:artist:15iVAtD3s3FsQR4w1v6M0P</td>\n",
       "      <td>spotify:track:4IowQDUOzUvNtp72HMDcKO</td>\n",
       "      <td>spotify:album:6VML3yX1WR5pXtg6fmwdzZ</td>\n",
       "      <td>0.02810</td>\n",
       "      <td>...</td>\n",
       "      <td>-8.255</td>\n",
       "      <td>0</td>\n",
       "      <td>0.0849</td>\n",
       "      <td>131.935</td>\n",
       "      <td>4</td>\n",
       "      <td>0.214</td>\n",
       "      <td>Rap</td>\n",
       "      <td>37</td>\n",
       "      <td>53</td>\n",
       "      <td>28</td>\n",
       "    </tr>\n",
       "    <tr>\n",
       "      <th>2</th>\n",
       "      <td>2535</td>\n",
       "      <td>46</td>\n",
       "      <td>Sia</td>\n",
       "      <td>Chandelier</td>\n",
       "      <td>1000 Forms Of Fear</td>\n",
       "      <td>216120</td>\n",
       "      <td>spotify:artist:5WUlDfRSoLAfcVSX1WnrxN</td>\n",
       "      <td>spotify:track:4VrWlk8IQxevMvERoX08iC</td>\n",
       "      <td>spotify:album:3xFSl9lIRaYXIYkIn3OIl9</td>\n",
       "      <td>0.01970</td>\n",
       "      <td>...</td>\n",
       "      <td>-2.880</td>\n",
       "      <td>1</td>\n",
       "      <td>0.0499</td>\n",
       "      <td>117.089</td>\n",
       "      <td>5</td>\n",
       "      <td>0.572</td>\n",
       "      <td>Feel Good</td>\n",
       "      <td>94</td>\n",
       "      <td>102</td>\n",
       "      <td>85</td>\n",
       "    </tr>\n",
       "    <tr>\n",
       "      <th>3</th>\n",
       "      <td>58121</td>\n",
       "      <td>26</td>\n",
       "      <td>Fetty Wap</td>\n",
       "      <td>No Days Off (feat. Monty)</td>\n",
       "      <td>Fetty Wap</td>\n",
       "      <td>304200</td>\n",
       "      <td>spotify:artist:6PXS4YHDkKvl1wkIl4V8DL</td>\n",
       "      <td>spotify:track:3wr2fJ91iGjZlrcDLJ6bYp</td>\n",
       "      <td>spotify:album:2gKQvajkEEaDtkqJ8FJ4uw</td>\n",
       "      <td>0.04070</td>\n",
       "      <td>...</td>\n",
       "      <td>-5.829</td>\n",
       "      <td>0</td>\n",
       "      <td>0.1360</td>\n",
       "      <td>135.121</td>\n",
       "      <td>4</td>\n",
       "      <td>0.153</td>\n",
       "      <td>Grindin</td>\n",
       "      <td>31</td>\n",
       "      <td>38</td>\n",
       "      <td>23</td>\n",
       "    </tr>\n",
       "    <tr>\n",
       "      <th>4</th>\n",
       "      <td>67941</td>\n",
       "      <td>1</td>\n",
       "      <td>Spin Doctors</td>\n",
       "      <td>Two Princes</td>\n",
       "      <td>Pocket Full Of Kryptonite (Anniversary Edition)</td>\n",
       "      <td>256946</td>\n",
       "      <td>spotify:artist:2PSiyldxmJze7xiqbz658m</td>\n",
       "      <td>spotify:track:0cuq829zRNq4AEdmDJA4aw</td>\n",
       "      <td>spotify:album:3jx5C8Z66FwdjNkqsSDBQh</td>\n",
       "      <td>0.00164</td>\n",
       "      <td>...</td>\n",
       "      <td>-10.732</td>\n",
       "      <td>1</td>\n",
       "      <td>0.0648</td>\n",
       "      <td>103.574</td>\n",
       "      <td>4</td>\n",
       "      <td>0.826</td>\n",
       "      <td>90's</td>\n",
       "      <td>26</td>\n",
       "      <td>28</td>\n",
       "      <td>21</td>\n",
       "    </tr>\n",
       "  </tbody>\n",
       "</table>\n",
       "<p>5 rows × 28 columns</p>\n",
       "</div>"
      ],
      "text/plain": [
       "   Playlistid  Trackid        Artist_Name                 Track_Name  \\\n",
       "0      231023        4  Chance The Rapper                  Blessings   \n",
       "1      249966       51         Chief Keef                  Love Sosa   \n",
       "2        2535       46                Sia                 Chandelier   \n",
       "3       58121       26          Fetty Wap  No Days Off (feat. Monty)   \n",
       "4       67941        1       Spin Doctors                Two Princes   \n",
       "\n",
       "                                        Album_Name  Track_Duration  \\\n",
       "0                                    Coloring Book          221939   \n",
       "1                                     Finally Rich          246213   \n",
       "2                               1000 Forms Of Fear          216120   \n",
       "3                                        Fetty Wap          304200   \n",
       "4  Pocket Full Of Kryptonite (Anniversary Edition)          256946   \n",
       "\n",
       "                              Artist_uri  \\\n",
       "0  spotify:artist:1anyVhU62p31KFi8MEzkbf   \n",
       "1  spotify:artist:15iVAtD3s3FsQR4w1v6M0P   \n",
       "2  spotify:artist:5WUlDfRSoLAfcVSX1WnrxN   \n",
       "3  spotify:artist:6PXS4YHDkKvl1wkIl4V8DL   \n",
       "4  spotify:artist:2PSiyldxmJze7xiqbz658m   \n",
       "\n",
       "                              Track_uri                             Album_uri  \\\n",
       "0  spotify:track:2VQc9orzwE6a5qFfy54P6e  spotify:album:71QyofYesSsRMwFOTafnhB   \n",
       "1  spotify:track:4IowQDUOzUvNtp72HMDcKO  spotify:album:6VML3yX1WR5pXtg6fmwdzZ   \n",
       "2  spotify:track:4VrWlk8IQxevMvERoX08iC  spotify:album:3xFSl9lIRaYXIYkIn3OIl9   \n",
       "3  spotify:track:3wr2fJ91iGjZlrcDLJ6bYp  spotify:album:2gKQvajkEEaDtkqJ8FJ4uw   \n",
       "4  spotify:track:0cuq829zRNq4AEdmDJA4aw  spotify:album:3jx5C8Z66FwdjNkqsSDBQh   \n",
       "\n",
       "   acousticness   ...   loudness  mode  speechiness    tempo  time_signature  \\\n",
       "0       0.72300   ...     -7.641     1       0.3800   72.348               4   \n",
       "1       0.02810   ...     -8.255     0       0.0849  131.935               4   \n",
       "2       0.01970   ...     -2.880     1       0.0499  117.089               5   \n",
       "3       0.04070   ...     -5.829     0       0.1360  135.121               4   \n",
       "4       0.00164   ...    -10.732     1       0.0648  103.574               4   \n",
       "\n",
       "   valence           Playlist  Album  Track  Artist  \n",
       "0    0.372  Chance The Rapper     21     38      16  \n",
       "1    0.214                Rap     37     53      28  \n",
       "2    0.572          Feel Good     94    102      85  \n",
       "3    0.153            Grindin     31     38      23  \n",
       "4    0.826               90's     26     28      21  \n",
       "\n",
       "[5 rows x 28 columns]"
      ]
     },
     "execution_count": 17,
     "metadata": {},
     "output_type": "execute_result"
    }
   ],
   "source": [
    "train.head()"
   ]
  },
  {
   "cell_type": "markdown",
   "metadata": {},
   "source": [
    "Just an example, we can  look at the distribution of cosine distance of an individual track to all other tracks in the training set."
   ]
  },
  {
   "cell_type": "code",
   "execution_count": 25,
   "metadata": {},
   "outputs": [
    {
     "data": {
      "image/png": "[encoded data removed]",
      "text/plain": [
       "<Figure size 576x576 with 1 Axes>"
      ]
     },
     "metadata": {
      "needs_background": "light"
     },
     "output_type": "display_data"
    }
   ],
   "source": [
    "import matplotlib.pyplot as plt\n",
    "plt.figure(figsize=(8,8))\n",
    "plt.hist(train_scaled_cos_matrix[:1][0])\n",
    "plt.xlabel(\"Cosine distance\")\n",
    "plt.ylabel(\"Frequency\")\n",
    "plt.title(\"Distribution of cosine distance of: Blessings by Chance The Rapper\")\n",
    "plt.show()"
   ]
  },
  {
   "cell_type": "markdown",
   "metadata": {},
   "source": [
    "We can see a somewhat normal distribution of cosine distance, that most songs have >= 0.6 cosine distance to 'Blessings', with a peak at 0.80-0.85. "
   ]
  },
  {
   "cell_type": "markdown",
   "metadata": {
    "colab_type": "text",
    "id": "2Oe0UKw3YWxx"
   },
   "source": [
    "## 2. Model Performance \n",
    "### 2.1 Metrics\n",
    "\n",
    "We used the following metrics to evaluate our model, based on Spotify RecSys [rules](https://recsys-challenge.spotify.com/rules)\n",
    "\n",
    "1. **R-precision**: the number of retrieved relevant tracks divided by the number of known relevant tracks (i.e., the number of withheld tracks). This metric rewards total number of retrieved relevant tracks (regardless of order).\n",
    "\n",
    "2. **NDCG**: Discounted cumulative gain (DCG) measures the ranking quality of the recommended tracks, increasing when relevant tracks are placed higher in the list. Normalized DCG (NDCG) is determined by calculating the DCG and dividing it by the ideal DCG in which the recommended tracks are perfectly ranked.\n",
    "\n"
   ]
  },
  {
   "cell_type": "markdown",
   "metadata": {},
   "source": [
    "$$\n",
    "\\text{R-precision} = \\frac{|G \\cap R|}{|G|}\n",
    "$$\n",
    "\n",
    "\n",
    "$$\n",
    "\\begin{align*}\n",
    "\\text{DCG} &= rel_i + \\sum^{|\\text{R}|}_{i=2}\\frac{rel_i}{log_2(i+1)} \\\\\n",
    "\\text{IDCG} &= 1 + \\sum^{|G|}_{i=2}\\frac{1}{log_2(i+1)} \\\\\n",
    "\\text{NDCG} &= \\frac{\\text{DCG}}{\\text{IDCG}}\n",
    "\\end{align*}\n",
    "$$\n"
   ]
  },
  {
   "cell_type": "markdown",
   "metadata": {
    "colab_type": "text",
    "id": "iEMFu7kCYWx8"
   },
   "source": [
    "### 2.2 Model Test-Set Performance"
   ]
  },
  {
   "cell_type": "markdown",
   "metadata": {},
   "source": [
    "| Data | R-Precision | NDCG | Average of the two metrics |\n",
    "|------|------|------|----- |\n",
    "|Test set of 100 playlists | 0.045856|0.051839|0.048847|\n",
    "|Test set of 1000 playlists | 0.033373|0.042258|0.037815|"
   ]
  },
  {
   "cell_type": "markdown",
   "metadata": {},
   "source": [
    "## 3. Conclusion"
   ]
  },
  {
   "cell_type": "markdown",
   "metadata": {},
   "source": [
    "In conclusion, content filtering outperforms our baseline model that uses collaborative filtering on co-occurrence. \n",
    "\n",
    "Interestingly, we did not see an improvement in score when predicting on a larger dataset (with more unique tracks and playlists). "
   ]
  },
  {
   "cell_type": "markdown",
   "metadata": {},
   "source": [
    "Source code: https://github.com/phoebewong/spotify-teamNPK/blob/master/src"
   ]
  }
 ],
 "metadata": {
  "accelerator": "GPU",
  "colab": {
   "collapsed_sections": [],
   "name": "100_playlist_content_filtering_colab.ipynb",
   "provenance": [],
   "version": "0.3.2"
  },
  "kernelspec": {
   "display_name": "Python 3",
   "language": "python",
   "name": "python3"
  },
  "language_info": {
   "codemirror_mode": {
    "name": "ipython",
    "version": 3
   },
   "file_extension": ".py",
   "mimetype": "text/x-python",
   "name": "python",
   "nbconvert_exporter": "python",
   "pygments_lexer": "ipython3",
   "version": "3.6.6"
  }
 },
 "nbformat": 4,
 "nbformat_minor": 1
}
