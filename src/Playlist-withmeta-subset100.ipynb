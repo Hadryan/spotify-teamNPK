{
 "cells": [
  {
   "cell_type": "code",
   "execution_count": 4,
   "metadata": {},
   "outputs": [],
   "source": [
    "import sqlite3\n",
    "import csv\n",
    "import pandas as pd\n",
    "import numpy as np\n",
    "\n",
    "sqlite3.register_adapter(np.int64, lambda val: int(val))\n",
    "sqlite3.register_adapter(np.int32, lambda val: int(val))"
   ]
  },
  {
   "cell_type": "code",
   "execution_count": 5,
   "metadata": {},
   "outputs": [],
   "source": [
    "def viz_tables(cols, query):\n",
    "    q = cursor.execute(query).fetchall()\n",
    "    framelist = dict()\n",
    "    for i, col_name in enumerate(cols):\n",
    "        framelist[col_name] = [col[i] for col in q]\n",
    "    return pd.DataFrame.from_dict(framelist)"
   ]
  },
  {
   "cell_type": "code",
   "execution_count": 6,
   "metadata": {},
   "outputs": [],
   "source": [
    "db = sqlite3.connect('../raw_data/spotify copy.db')\n",
    "cursor = db.cursor()\n",
    "\n",
    "# display(viz_tables(track_cols, query))"
   ]
  },
  {
   "cell_type": "code",
   "execution_count": 10,
   "metadata": {},
   "outputs": [
    {
     "data": {
      "text/plain": [
       "232409"
      ]
     },
     "execution_count": 10,
     "metadata": {},
     "output_type": "execute_result"
    }
   ],
   "source": [
    "q[0][0]"
   ]
  },
  {
   "cell_type": "code",
   "execution_count": 11,
   "metadata": {},
   "outputs": [],
   "source": [
    "# track_meta_cols = [col[1] for col in cursor.execute(\"PRAGMA table_info(track_meta)\")]\n",
    "query = '''SELECT DISTINCT PlaylistID FROM track_meta ORDER BY RANDOM() LIMIT 100'''\n",
    "q_100 = cursor.execute(query).fetchall()"
   ]
  },
  {
   "cell_type": "code",
   "execution_count": null,
   "metadata": {},
   "outputs": [],
   "source": []
  },
  {
   "cell_type": "code",
   "execution_count": 13,
   "metadata": {},
   "outputs": [
    {
     "data": {
      "text/plain": [
       "970799"
      ]
     },
     "execution_count": 13,
     "metadata": {},
     "output_type": "execute_result"
    }
   ],
   "source": [
    "q_100[0][0]"
   ]
  },
  {
   "cell_type": "code",
   "execution_count": 15,
   "metadata": {},
   "outputs": [],
   "source": [
    "q_100 = [x[0] for x in q_100]"
   ]
  },
  {
   "cell_type": "code",
   "execution_count": 16,
   "metadata": {
    "collapsed": true
   },
   "outputs": [
    {
     "data": {
      "text/plain": [
       "[970799,\n",
       " 880034,\n",
       " 932423,\n",
       " 146935,\n",
       " 192029,\n",
       " 892019,\n",
       " 132292,\n",
       " 823195,\n",
       " 576006,\n",
       " 576072,\n",
       " 543275,\n",
       " 22558,\n",
       " 632720,\n",
       " 674150,\n",
       " 372858,\n",
       " 316837,\n",
       " 73912,\n",
       " 827032,\n",
       " 778551,\n",
       " 366739,\n",
       " 235507,\n",
       " 944572,\n",
       " 139137,\n",
       " 263663,\n",
       " 973031,\n",
       " 93823,\n",
       " 279469,\n",
       " 749375,\n",
       " 58173,\n",
       " 387262,\n",
       " 82863,\n",
       " 227426,\n",
       " 898842,\n",
       " 103299,\n",
       " 737936,\n",
       " 577504,\n",
       " 68433,\n",
       " 102420,\n",
       " 899968,\n",
       " 877196,\n",
       " 540970,\n",
       " 660504,\n",
       " 557467,\n",
       " 98089,\n",
       " 24766,\n",
       " 541304,\n",
       " 591428,\n",
       " 909840,\n",
       " 676126,\n",
       " 594458,\n",
       " 484880,\n",
       " 84016,\n",
       " 159081,\n",
       " 860995,\n",
       " 903647,\n",
       " 686737,\n",
       " 399536,\n",
       " 551884,\n",
       " 173121,\n",
       " 305263,\n",
       " 834974,\n",
       " 774974,\n",
       " 924308,\n",
       " 71985,\n",
       " 592888,\n",
       " 642317,\n",
       " 476263,\n",
       " 578712,\n",
       " 409260,\n",
       " 3672,\n",
       " 56736,\n",
       " 39126,\n",
       " 740532,\n",
       " 191071,\n",
       " 840875,\n",
       " 303397,\n",
       " 505604,\n",
       " 321775,\n",
       " 310377,\n",
       " 535286,\n",
       " 775389,\n",
       " 507850,\n",
       " 168389,\n",
       " 419016,\n",
       " 96174,\n",
       " 910292,\n",
       " 920175,\n",
       " 866366,\n",
       " 204276,\n",
       " 537,\n",
       " 449333,\n",
       " 617142,\n",
       " 431432,\n",
       " 114617,\n",
       " 334264,\n",
       " 468866,\n",
       " 32654,\n",
       " 628359,\n",
       " 319935,\n",
       " 603640]"
      ]
     },
     "execution_count": 16,
     "metadata": {},
     "output_type": "execute_result"
    }
   ],
   "source": [
    "q_100"
   ]
  },
  {
   "cell_type": "code",
   "execution_count": 20,
   "metadata": {},
   "outputs": [],
   "source": [
    "query = '''SELECT * FROM track_meta WHERE Playlistid in ({seq})'''.format(seq=','.join(['?']*len(q_100)))\n",
    "q_100_alldata = cursor.execute(query, q_100).fetchall()\n",
    "\n",
    "# cursor.execute(query).fetchall()\n",
    "# q_100 = cursor.execute(query).fetchall()"
   ]
  },
  {
   "cell_type": "code",
   "execution_count": 35,
   "metadata": {},
   "outputs": [],
   "source": [
    "track_cols = [col[1] for col in cursor.execute(\"PRAGMA table_info(track_meta)\")]"
   ]
  },
  {
   "cell_type": "code",
   "execution_count": 22,
   "metadata": {},
   "outputs": [],
   "source": [
    "trial = pd.DataFrame(q_100_alldata)"
   ]
  },
  {
   "cell_type": "code",
   "execution_count": 37,
   "metadata": {},
   "outputs": [],
   "source": [
    "trial.columns = track_cols # rename the columns"
   ]
  },
  {
   "cell_type": "code",
   "execution_count": 38,
   "metadata": {},
   "outputs": [
    {
     "data": {
      "text/plain": [
       "array(['Playlistid', 'Trackid', 'Artist_Name', 'Track_Name', 'Album_Name',\n",
       "       'Track_Duration', 'Artist_uri', 'Track_uri', 'Album_uri',\n",
       "       'acousticness', 'artist_genres', 'artist_popularity',\n",
       "       'danceability', 'energy', 'explicit', 'instrumentalness', 'key',\n",
       "       'liveness', 'loudness', 'mode', 'speechiness', 'tempo',\n",
       "       'time_signature', 'valence'], dtype=object)"
      ]
     },
     "execution_count": 38,
     "metadata": {},
     "output_type": "execute_result"
    }
   ],
   "source": [
    "trial.columns.values"
   ]
  },
  {
   "cell_type": "code",
   "execution_count": 39,
   "metadata": {},
   "outputs": [],
   "source": [
    "trial.to_csv(\"track_meta_100subset.csv\")"
   ]
  },
  {
   "cell_type": "code",
   "execution_count": 40,
   "metadata": {},
   "outputs": [
    {
     "data": {
      "text/plain": [
       "(6231, 24)"
      ]
     },
     "execution_count": 40,
     "metadata": {},
     "output_type": "execute_result"
    }
   ],
   "source": [
    "trial.shape"
   ]
  },
  {
   "cell_type": "code",
   "execution_count": 41,
   "metadata": {},
   "outputs": [
    {
     "data": {
      "text/plain": [
       "243"
      ]
     },
     "execution_count": 41,
     "metadata": {},
     "output_type": "execute_result"
    }
   ],
   "source": [
    "len(trial.Trackid.unique())"
   ]
  },
  {
   "cell_type": "code",
   "execution_count": 27,
   "metadata": {},
   "outputs": [
    {
     "data": {
      "text/plain": [
       "100"
      ]
     },
     "execution_count": 27,
     "metadata": {},
     "output_type": "execute_result"
    }
   ],
   "source": [
    "trial[0].nunique()"
   ]
  },
  {
   "cell_type": "code",
   "execution_count": 18,
   "metadata": {},
   "outputs": [
    {
     "data": {
      "text/plain": [
       "'?,?,?,?,?,?,?,?,?,?,?,?,?,?,?,?,?,?,?,?,?,?,?,?,?,?,?,?,?,?,?,?,?,?,?,?,?,?,?,?,?,?,?,?,?,?,?,?,?,?,?,?,?,?,?,?,?,?,?,?,?,?,?,?,?,?,?,?,?,?,?,?,?,?,?,?,?,?,?,?,?,?,?,?,?,?,?,?,?,?,?,?,?,?,?,?,?,?,?,?'"
      ]
     },
     "execution_count": 18,
     "metadata": {},
     "output_type": "execute_result"
    }
   ],
   "source": [
    "','.join(['?']*len(q_100))"
   ]
  },
  {
   "cell_type": "code",
   "execution_count": null,
   "metadata": {},
   "outputs": [],
   "source": [
    "args=[2,3]\n",
    "sql=\"select * from sqlitetable where rowid in ({seq})\".format(\n",
    "    seq=','.join(['?']*len(args)))\n",
    "\n",
    "cursor.execute(sql, args)"
   ]
  }
 ],
 "metadata": {
  "kernelspec": {
   "display_name": "Python 3",
   "language": "python",
   "name": "python3"
  },
  "language_info": {
   "codemirror_mode": {
    "name": "ipython",
    "version": 3
   },
   "file_extension": ".py",
   "mimetype": "text/x-python",
   "name": "python",
   "nbconvert_exporter": "python",
   "pygments_lexer": "ipython3",
   "version": "3.6.6"
  }
 },
 "nbformat": 4,
 "nbformat_minor": 2
}
