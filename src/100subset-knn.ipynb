{
 "cells": [
  {
   "cell_type": "code",
   "execution_count": 3,
   "metadata": {},
   "outputs": [],
   "source": [
    "# import sqlite3\n",
    "import pandas as pd\n",
    "import numpy as np\n",
    "\n",
    "# sqlite3.register_adapter(np.int64, lambda val: int(val))\n",
    "# sqlite3.register_adapter(np.int32, lambda val: int(val))\n",
    "subset100 = pd.read_csv(\"../raw_data/track_meta_100subset.csv\")"
   ]
  },
  {
   "cell_type": "code",
   "execution_count": 5,
   "metadata": {},
   "outputs": [],
   "source": [
    "from sklearn.model_selection import train_test_split"
   ]
  },
  {
   "cell_type": "code",
   "execution_count": 25,
   "metadata": {},
   "outputs": [],
   "source": [
    "allplaylist = pd.read_csv(\"../raw_data/track_meta_milestone3.csv\")"
   ]
  },
  {
   "cell_type": "code",
   "execution_count": 27,
   "metadata": {},
   "outputs": [
    {
     "data": {
      "text/plain": [
       "array([     0,      1,      2, ..., 271312, 271338, 271339])"
      ]
     },
     "execution_count": 27,
     "metadata": {},
     "output_type": "execute_result"
    }
   ],
   "source": [
    "allplaylist['Playlistid'].unique()"
   ]
  },
  {
   "cell_type": "code",
   "execution_count": 30,
   "metadata": {},
   "outputs": [],
   "source": [
    "inx_100 = np.random.choice(allplaylist['Playlistid'].unique(), 100)"
   ]
  },
  {
   "cell_type": "code",
   "execution_count": 32,
   "metadata": {},
   "outputs": [
    {
     "data": {
      "text/plain": [
       "(926540, 29)"
      ]
     },
     "execution_count": 32,
     "metadata": {},
     "output_type": "execute_result"
    }
   ],
   "source": [
    "allplaylist.shape"
   ]
  },
  {
   "cell_type": "code",
   "execution_count": 31,
   "metadata": {},
   "outputs": [
    {
     "data": {
      "text/plain": [
       "array([256979, 196206, 242823, 186672, 174875, 194212, 216556, 196255,\n",
       "         2259, 107941,  48330,  10254,  89955,   6238, 230183,  20043,\n",
       "       208779, 118724,  68119, 193016,   2535,  81542,  77069, 116737,\n",
       "       241349, 168982, 181874, 219212, 114695,  22204,    622, 193450,\n",
       "       120354, 164819,  51590,  11119, 117841, 175237, 204668, 123429,\n",
       "        62657, 159326,  90187, 217189, 120613, 223534,  56681,  72703,\n",
       "        42049, 195247, 210308, 241546,   4575, 206080,  61388, 271274,\n",
       "       229646, 237553,  97870,  33568, 100221, 190503, 198885,  59745,\n",
       "       118342, 249966, 151474, 201186,  58121, 252197, 190574, 167436,\n",
       "        73524, 107065, 155081, 268318,  37634, 232421,  11136, 153929,\n",
       "       151748,  67941, 266156, 231023, 221044,  38828, 238096,   1990,\n",
       "        79469,  89825, 211406,  46047,  92360, 182533, 161016,  41347,\n",
       "          430, 208692, 155598, 248553])"
      ]
     },
     "execution_count": 31,
     "metadata": {},
     "output_type": "execute_result"
    }
   ],
   "source": [
    "inx_100"
   ]
  },
  {
   "cell_type": "code",
   "execution_count": 33,
   "metadata": {},
   "outputs": [],
   "source": [
    "subset100 = allplaylist[allplaylist['Playlistid'].isin(inx_100)]"
   ]
  },
  {
   "cell_type": "code",
   "execution_count": 37,
   "metadata": {},
   "outputs": [],
   "source": [
    "subset100.to_csv(\"track_meta_100subset_new.csv\")"
   ]
  },
  {
   "cell_type": "code",
   "execution_count": 36,
   "metadata": {},
   "outputs": [
    {
     "data": {
      "text/plain": [
       "100"
      ]
     },
     "execution_count": 36,
     "metadata": {},
     "output_type": "execute_result"
    }
   ],
   "source": [
    "len(subset100.Playlistid.unique())"
   ]
  },
  {
   "cell_type": "code",
   "execution_count": 35,
   "metadata": {
    "scrolled": true
   },
   "outputs": [
    {
     "data": {
      "text/plain": [
       "229646    135\n",
       "241546    122\n",
       "2535      102\n",
       "61388      95\n",
       "153929     83\n",
       "223534     77\n",
       "92360      77\n",
       "208692     68\n",
       "20043      67\n",
       "151748     65\n",
       "38828      63\n",
       "237553     55\n",
       "211406     55\n",
       "193450     55\n",
       "256979     54\n",
       "249966     53\n",
       "6238       47\n",
       "118724     46\n",
       "155598     45\n",
       "206080     44\n",
       "4575       44\n",
       "221044     42\n",
       "164819     40\n",
       "195247     39\n",
       "2259       38\n",
       "51590      38\n",
       "58121      38\n",
       "231023     38\n",
       "120354     36\n",
       "1990       35\n",
       "         ... \n",
       "182533     16\n",
       "190574     16\n",
       "114695     15\n",
       "100221     14\n",
       "175237     14\n",
       "155081     13\n",
       "11119      13\n",
       "159326     13\n",
       "10254      12\n",
       "120613     12\n",
       "208779     11\n",
       "107065     11\n",
       "46047      11\n",
       "89825      10\n",
       "268318     10\n",
       "217189     10\n",
       "48330       9\n",
       "216556      9\n",
       "107941      9\n",
       "41347       9\n",
       "68119       9\n",
       "252197      9\n",
       "73524       8\n",
       "116737      8\n",
       "196255      7\n",
       "89955       6\n",
       "97870       6\n",
       "79469       5\n",
       "161016      5\n",
       "248553      5\n",
       "Name: Playlistid, Length: 100, dtype: int64"
      ]
     },
     "execution_count": 35,
     "metadata": {},
     "output_type": "execute_result"
    }
   ],
   "source": [
    "subset100.Playlistid.value_counts()"
   ]
  },
  {
   "cell_type": "code",
   "execution_count": 28,
   "metadata": {},
   "outputs": [
    {
     "data": {
      "text/plain": [
       "0"
      ]
     },
     "execution_count": 28,
     "metadata": {},
     "output_type": "execute_result"
    }
   ],
   "source": [
    "# allplaylist['Playlistid'].unique()\n",
    "np.sum(allplaylist.acousticness.isnull())"
   ]
  },
  {
   "cell_type": "markdown",
   "metadata": {},
   "source": [
    "### Train-val-test split"
   ]
  },
  {
   "cell_type": "code",
   "execution_count": 7,
   "metadata": {},
   "outputs": [],
   "source": [
    "# Train-val-test split (20%)\n",
    "train, test = train_test_split(subset100, test_size=0.2, random_state=42, stratify = subset100['Playlistid'])\n",
    "train, val = train_test_split(train, test_size=0.2, random_state=42, stratify = train['Playlistid'])"
   ]
  },
  {
   "cell_type": "code",
   "execution_count": 21,
   "metadata": {},
   "outputs": [
    {
     "data": {
      "text/html": [
       "<div>\n",
       "<style scoped>\n",
       "    .dataframe tbody tr th:only-of-type {\n",
       "        vertical-align: middle;\n",
       "    }\n",
       "\n",
       "    .dataframe tbody tr th {\n",
       "        vertical-align: top;\n",
       "    }\n",
       "\n",
       "    .dataframe thead th {\n",
       "        text-align: right;\n",
       "    }\n",
       "</style>\n",
       "<table border=\"1\" class=\"dataframe\">\n",
       "  <thead>\n",
       "    <tr style=\"text-align: right;\">\n",
       "      <th></th>\n",
       "      <th>Playlistid</th>\n",
       "      <th>Trackid</th>\n",
       "      <th>Artist_Name</th>\n",
       "      <th>Track_Name</th>\n",
       "      <th>Album_Name</th>\n",
       "      <th>Track_Duration</th>\n",
       "      <th>Artist_uri</th>\n",
       "      <th>Track_uri</th>\n",
       "      <th>Album_uri</th>\n",
       "      <th>acousticness</th>\n",
       "      <th>...</th>\n",
       "      <th>explicit</th>\n",
       "      <th>instrumentalness</th>\n",
       "      <th>key</th>\n",
       "      <th>liveness</th>\n",
       "      <th>loudness</th>\n",
       "      <th>mode</th>\n",
       "      <th>speechiness</th>\n",
       "      <th>tempo</th>\n",
       "      <th>time_signature</th>\n",
       "      <th>valence</th>\n",
       "    </tr>\n",
       "  </thead>\n",
       "  <tbody>\n",
       "    <tr>\n",
       "      <th>1911</th>\n",
       "      <td>191071</td>\n",
       "      <td>82</td>\n",
       "      <td>Alex Newell</td>\n",
       "      <td>Nobody To Love</td>\n",
       "      <td>Nobody To Love</td>\n",
       "      <td>204321</td>\n",
       "      <td>spotify:artist:2vGaSKEDFsVPBgcnGxqlBN</td>\n",
       "      <td>spotify:track:2CwpR24w47Gusfmv42SKdF</td>\n",
       "      <td>spotify:album:5ZB9CKDTOoN80AwYvwKOy0</td>\n",
       "      <td>0.0680</td>\n",
       "      <td>...</td>\n",
       "      <td>False</td>\n",
       "      <td>0.000007</td>\n",
       "      <td>6.0</td>\n",
       "      <td>0.3630</td>\n",
       "      <td>-2.431</td>\n",
       "      <td>1.0</td>\n",
       "      <td>0.2430</td>\n",
       "      <td>113.918</td>\n",
       "      <td>4.0</td>\n",
       "      <td>0.557</td>\n",
       "    </tr>\n",
       "    <tr>\n",
       "      <th>3710</th>\n",
       "      <td>551884</td>\n",
       "      <td>86</td>\n",
       "      <td>Los Originales De San Juan</td>\n",
       "      <td>La Troca Del Moño Negro</td>\n",
       "      <td>El Tequilero</td>\n",
       "      <td>190506</td>\n",
       "      <td>spotify:artist:3aVB3VLnoAn6bKiHOEzHag</td>\n",
       "      <td>spotify:track:0JeumsWAVXuwYQ2J92A39V</td>\n",
       "      <td>spotify:album:3I9ZxJI6RKfw6l9qq6f8DO</td>\n",
       "      <td>NaN</td>\n",
       "      <td>...</td>\n",
       "      <td>NaN</td>\n",
       "      <td>NaN</td>\n",
       "      <td>NaN</td>\n",
       "      <td>NaN</td>\n",
       "      <td>NaN</td>\n",
       "      <td>NaN</td>\n",
       "      <td>NaN</td>\n",
       "      <td>NaN</td>\n",
       "      <td>NaN</td>\n",
       "      <td>NaN</td>\n",
       "    </tr>\n",
       "    <tr>\n",
       "      <th>2503</th>\n",
       "      <td>305263</td>\n",
       "      <td>131</td>\n",
       "      <td>Zedd</td>\n",
       "      <td>Find You</td>\n",
       "      <td>Clarity</td>\n",
       "      <td>204346</td>\n",
       "      <td>spotify:artist:2qxJFvFYMEDqd7ui6kSAcq</td>\n",
       "      <td>spotify:track:7mazffu6nlIv0rtRyPDMTD</td>\n",
       "      <td>spotify:album:7iC7iQaeRrG33H6VInfl00</td>\n",
       "      <td>0.0227</td>\n",
       "      <td>...</td>\n",
       "      <td>False</td>\n",
       "      <td>0.000002</td>\n",
       "      <td>3.0</td>\n",
       "      <td>0.0987</td>\n",
       "      <td>-4.610</td>\n",
       "      <td>1.0</td>\n",
       "      <td>0.0388</td>\n",
       "      <td>127.971</td>\n",
       "      <td>4.0</td>\n",
       "      <td>0.397</td>\n",
       "    </tr>\n",
       "    <tr>\n",
       "      <th>5101</th>\n",
       "      <td>749375</td>\n",
       "      <td>49</td>\n",
       "      <td>The Jackson 5</td>\n",
       "      <td>Santa Claus Is Coming To Town</td>\n",
       "      <td>Merry Christmas</td>\n",
       "      <td>143773</td>\n",
       "      <td>spotify:artist:2iE18Oxc8YSumAU232n4rW</td>\n",
       "      <td>spotify:track:6a1hzBiTkgqTsDA0Xgfh9z</td>\n",
       "      <td>spotify:album:3w6QeihCf2l0zZMBLagxDj</td>\n",
       "      <td>0.2850</td>\n",
       "      <td>...</td>\n",
       "      <td>False</td>\n",
       "      <td>0.000510</td>\n",
       "      <td>0.0</td>\n",
       "      <td>0.0760</td>\n",
       "      <td>-11.217</td>\n",
       "      <td>1.0</td>\n",
       "      <td>0.0374</td>\n",
       "      <td>147.472</td>\n",
       "      <td>4.0</td>\n",
       "      <td>0.960</td>\n",
       "    </tr>\n",
       "    <tr>\n",
       "      <th>3580</th>\n",
       "      <td>543275</td>\n",
       "      <td>15</td>\n",
       "      <td>Woodkid</td>\n",
       "      <td>Brooklyn</td>\n",
       "      <td>Iron</td>\n",
       "      <td>210440</td>\n",
       "      <td>spotify:artist:44TGR1CzjKBxSHsSEy7bi9</td>\n",
       "      <td>spotify:track:5MaWgjCX6sXKEV0FaJEqeA</td>\n",
       "      <td>spotify:album:4qbIfYXx7DOwpKfyws3GWe</td>\n",
       "      <td>NaN</td>\n",
       "      <td>...</td>\n",
       "      <td>NaN</td>\n",
       "      <td>NaN</td>\n",
       "      <td>NaN</td>\n",
       "      <td>NaN</td>\n",
       "      <td>NaN</td>\n",
       "      <td>NaN</td>\n",
       "      <td>NaN</td>\n",
       "      <td>NaN</td>\n",
       "      <td>NaN</td>\n",
       "      <td>NaN</td>\n",
       "    </tr>\n",
       "  </tbody>\n",
       "</table>\n",
       "<p>5 rows × 24 columns</p>\n",
       "</div>"
      ],
      "text/plain": [
       "      Playlistid  Trackid                 Artist_Name  \\\n",
       "1911      191071       82                 Alex Newell   \n",
       "3710      551884       86  Los Originales De San Juan   \n",
       "2503      305263      131                        Zedd   \n",
       "5101      749375       49               The Jackson 5   \n",
       "3580      543275       15                     Woodkid   \n",
       "\n",
       "                         Track_Name       Album_Name  Track_Duration  \\\n",
       "1911                 Nobody To Love   Nobody To Love          204321   \n",
       "3710        La Troca Del Moño Negro     El Tequilero          190506   \n",
       "2503                       Find You          Clarity          204346   \n",
       "5101  Santa Claus Is Coming To Town  Merry Christmas          143773   \n",
       "3580                       Brooklyn             Iron          210440   \n",
       "\n",
       "                                 Artist_uri  \\\n",
       "1911  spotify:artist:2vGaSKEDFsVPBgcnGxqlBN   \n",
       "3710  spotify:artist:3aVB3VLnoAn6bKiHOEzHag   \n",
       "2503  spotify:artist:2qxJFvFYMEDqd7ui6kSAcq   \n",
       "5101  spotify:artist:2iE18Oxc8YSumAU232n4rW   \n",
       "3580  spotify:artist:44TGR1CzjKBxSHsSEy7bi9   \n",
       "\n",
       "                                 Track_uri  \\\n",
       "1911  spotify:track:2CwpR24w47Gusfmv42SKdF   \n",
       "3710  spotify:track:0JeumsWAVXuwYQ2J92A39V   \n",
       "2503  spotify:track:7mazffu6nlIv0rtRyPDMTD   \n",
       "5101  spotify:track:6a1hzBiTkgqTsDA0Xgfh9z   \n",
       "3580  spotify:track:5MaWgjCX6sXKEV0FaJEqeA   \n",
       "\n",
       "                                 Album_uri  acousticness   ...    explicit  \\\n",
       "1911  spotify:album:5ZB9CKDTOoN80AwYvwKOy0        0.0680   ...       False   \n",
       "3710  spotify:album:3I9ZxJI6RKfw6l9qq6f8DO           NaN   ...         NaN   \n",
       "2503  spotify:album:7iC7iQaeRrG33H6VInfl00        0.0227   ...       False   \n",
       "5101  spotify:album:3w6QeihCf2l0zZMBLagxDj        0.2850   ...       False   \n",
       "3580  spotify:album:4qbIfYXx7DOwpKfyws3GWe           NaN   ...         NaN   \n",
       "\n",
       "      instrumentalness  key  liveness loudness  mode  speechiness    tempo  \\\n",
       "1911          0.000007  6.0    0.3630   -2.431   1.0       0.2430  113.918   \n",
       "3710               NaN  NaN       NaN      NaN   NaN          NaN      NaN   \n",
       "2503          0.000002  3.0    0.0987   -4.610   1.0       0.0388  127.971   \n",
       "5101          0.000510  0.0    0.0760  -11.217   1.0       0.0374  147.472   \n",
       "3580               NaN  NaN       NaN      NaN   NaN          NaN      NaN   \n",
       "\n",
       "      time_signature  valence  \n",
       "1911             4.0    0.557  \n",
       "3710             NaN      NaN  \n",
       "2503             4.0    0.397  \n",
       "5101             4.0    0.960  \n",
       "3580             NaN      NaN  \n",
       "\n",
       "[5 rows x 24 columns]"
      ]
     },
     "execution_count": 21,
     "metadata": {},
     "output_type": "execute_result"
    }
   ],
   "source": [
    "train.head()"
   ]
  },
  {
   "cell_type": "code",
   "execution_count": 24,
   "metadata": {},
   "outputs": [
    {
     "data": {
      "text/plain": [
       "1956"
      ]
     },
     "execution_count": 24,
     "metadata": {},
     "output_type": "execute_result"
    }
   ],
   "source": [
    "np.sum(subset100.acousticness.isnull())"
   ]
  },
  {
   "cell_type": "markdown",
   "metadata": {},
   "source": [
    "### Create a sparse matrix"
   ]
  },
  {
   "cell_type": "code",
   "execution_count": null,
   "metadata": {},
   "outputs": [],
   "source": []
  },
  {
   "cell_type": "code",
   "execution_count": null,
   "metadata": {},
   "outputs": [],
   "source": []
  },
  {
   "cell_type": "code",
   "execution_count": null,
   "metadata": {},
   "outputs": [],
   "source": []
  }
 ],
 "metadata": {
  "kernelspec": {
   "display_name": "Python 3",
   "language": "python",
   "name": "python3"
  },
  "language_info": {
   "codemirror_mode": {
    "name": "ipython",
    "version": 3
   },
   "file_extension": ".py",
   "mimetype": "text/x-python",
   "name": "python",
   "nbconvert_exporter": "python",
   "pygments_lexer": "ipython3",
   "version": "3.6.6"
  }
 },
 "nbformat": 4,
 "nbformat_minor": 2
}
