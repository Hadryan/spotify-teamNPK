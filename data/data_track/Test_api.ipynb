{
 "cells": [
  {
   "cell_type": "code",
   "execution_count": 32,
   "metadata": {},
   "outputs": [],
   "source": [
    "import pandas as pd"
   ]
  },
  {
   "cell_type": "code",
   "execution_count": 33,
   "metadata": {},
   "outputs": [
    {
     "data": {
      "text/html": [
       "<div>\n",
       "<style scoped>\n",
       "    .dataframe tbody tr th:only-of-type {\n",
       "        vertical-align: middle;\n",
       "    }\n",
       "\n",
       "    .dataframe tbody tr th {\n",
       "        vertical-align: top;\n",
       "    }\n",
       "\n",
       "    .dataframe thead th {\n",
       "        text-align: right;\n",
       "    }\n",
       "</style>\n",
       "<table border=\"1\" class=\"dataframe\">\n",
       "  <thead>\n",
       "    <tr style=\"text-align: right;\">\n",
       "      <th></th>\n",
       "      <th>Playlistid</th>\n",
       "      <th>Trackid</th>\n",
       "      <th>Artist_Name</th>\n",
       "      <th>Track_Name</th>\n",
       "      <th>Album_Name</th>\n",
       "      <th>Track_Duration</th>\n",
       "      <th>Artist_uri</th>\n",
       "      <th>Track_uri</th>\n",
       "      <th>Album_uri</th>\n",
       "    </tr>\n",
       "  </thead>\n",
       "  <tbody>\n",
       "    <tr>\n",
       "      <th>0</th>\n",
       "      <td>549000</td>\n",
       "      <td>0</td>\n",
       "      <td>Bob Dylan</td>\n",
       "      <td>Boots of Spanish Leather</td>\n",
       "      <td>The Times They Are A-Changin'</td>\n",
       "      <td>277106</td>\n",
       "      <td>spotify:artist:74ASZWbe4lXaubB36ztrGX</td>\n",
       "      <td>spotify:track:6QHYEZlm9wyfXfEM1vSu1P</td>\n",
       "      <td>spotify:album:7DZeLXvr9eTVpyI1OlqtcS</td>\n",
       "    </tr>\n",
       "    <tr>\n",
       "      <th>1</th>\n",
       "      <td>549000</td>\n",
       "      <td>1</td>\n",
       "      <td>Bob Dylan</td>\n",
       "      <td>Mr. Tambourine Man</td>\n",
       "      <td>Bringing It All Back Home</td>\n",
       "      <td>330533</td>\n",
       "      <td>spotify:artist:74ASZWbe4lXaubB36ztrGX</td>\n",
       "      <td>spotify:track:3RkQ3UwOyPqpIiIvGVewuU</td>\n",
       "      <td>spotify:album:1lPoRKSgZHQAYXxzBsOQ7v</td>\n",
       "    </tr>\n",
       "    <tr>\n",
       "      <th>2</th>\n",
       "      <td>549000</td>\n",
       "      <td>2</td>\n",
       "      <td>Loggins &amp; Messina</td>\n",
       "      <td>Danny's Song</td>\n",
       "      <td>The Best: Loggins &amp; Messina Sittin' In Again</td>\n",
       "      <td>254653</td>\n",
       "      <td>spotify:artist:7emRV8AluG3d4e5T0DZiK9</td>\n",
       "      <td>spotify:track:0ju1jP0cSPJ8tmojYBEI89</td>\n",
       "      <td>spotify:album:5BWgJaesMjpJWCTU9sgUPf</td>\n",
       "    </tr>\n",
       "    <tr>\n",
       "      <th>3</th>\n",
       "      <td>549000</td>\n",
       "      <td>3</td>\n",
       "      <td>Bob Dylan</td>\n",
       "      <td>A Hard Rain's A-Gonna Fall</td>\n",
       "      <td>The Freewheelin' Bob Dylan</td>\n",
       "      <td>412200</td>\n",
       "      <td>spotify:artist:74ASZWbe4lXaubB36ztrGX</td>\n",
       "      <td>spotify:track:7ny2ATvjtKszCpLpfsGnVQ</td>\n",
       "      <td>spotify:album:0o1uFxZ1VTviqvNaYkTJek</td>\n",
       "    </tr>\n",
       "    <tr>\n",
       "      <th>4</th>\n",
       "      <td>549000</td>\n",
       "      <td>4</td>\n",
       "      <td>Bob Dylan</td>\n",
       "      <td>Blowin' In the Wind</td>\n",
       "      <td>The Freewheelin' Bob Dylan</td>\n",
       "      <td>165426</td>\n",
       "      <td>spotify:artist:74ASZWbe4lXaubB36ztrGX</td>\n",
       "      <td>spotify:track:18GiV1BaXzPVYpp9rmOg0E</td>\n",
       "      <td>spotify:album:0o1uFxZ1VTviqvNaYkTJek</td>\n",
       "    </tr>\n",
       "  </tbody>\n",
       "</table>\n",
       "</div>"
      ],
      "text/plain": [
       "   Playlistid  Trackid        Artist_Name                  Track_Name  \\\n",
       "0      549000        0          Bob Dylan    Boots of Spanish Leather   \n",
       "1      549000        1          Bob Dylan          Mr. Tambourine Man   \n",
       "2      549000        2  Loggins & Messina                Danny's Song   \n",
       "3      549000        3          Bob Dylan  A Hard Rain's A-Gonna Fall   \n",
       "4      549000        4          Bob Dylan         Blowin' In the Wind   \n",
       "\n",
       "                                     Album_Name  Track_Duration  \\\n",
       "0                 The Times They Are A-Changin'          277106   \n",
       "1                     Bringing It All Back Home          330533   \n",
       "2  The Best: Loggins & Messina Sittin' In Again          254653   \n",
       "3                    The Freewheelin' Bob Dylan          412200   \n",
       "4                    The Freewheelin' Bob Dylan          165426   \n",
       "\n",
       "                              Artist_uri  \\\n",
       "0  spotify:artist:74ASZWbe4lXaubB36ztrGX   \n",
       "1  spotify:artist:74ASZWbe4lXaubB36ztrGX   \n",
       "2  spotify:artist:7emRV8AluG3d4e5T0DZiK9   \n",
       "3  spotify:artist:74ASZWbe4lXaubB36ztrGX   \n",
       "4  spotify:artist:74ASZWbe4lXaubB36ztrGX   \n",
       "\n",
       "                              Track_uri                             Album_uri  \n",
       "0  spotify:track:6QHYEZlm9wyfXfEM1vSu1P  spotify:album:7DZeLXvr9eTVpyI1OlqtcS  \n",
       "1  spotify:track:3RkQ3UwOyPqpIiIvGVewuU  spotify:album:1lPoRKSgZHQAYXxzBsOQ7v  \n",
       "2  spotify:track:0ju1jP0cSPJ8tmojYBEI89  spotify:album:5BWgJaesMjpJWCTU9sgUPf  \n",
       "3  spotify:track:7ny2ATvjtKszCpLpfsGnVQ  spotify:album:0o1uFxZ1VTviqvNaYkTJek  \n",
       "4  spotify:track:18GiV1BaXzPVYpp9rmOg0E  spotify:album:0o1uFxZ1VTviqvNaYkTJek  "
      ]
     },
     "execution_count": 33,
     "metadata": {},
     "output_type": "execute_result"
    }
   ],
   "source": [
    "test = pd.read_csv('Track1000_1.csv', index_col='Unnamed: 0')\n",
    "test.head()"
   ]
  },
  {
   "cell_type": "code",
   "execution_count": 34,
   "metadata": {},
   "outputs": [
    {
     "data": {
      "text/plain": [
       "68689"
      ]
     },
     "execution_count": 34,
     "metadata": {},
     "output_type": "execute_result"
    }
   ],
   "source": [
    "len(test['Artist_uri'])"
   ]
  },
  {
   "cell_type": "code",
   "execution_count": 35,
   "metadata": {},
   "outputs": [
    {
     "data": {
      "text/plain": [
       "35790"
      ]
     },
     "execution_count": 35,
     "metadata": {},
     "output_type": "execute_result"
    }
   ],
   "source": [
    "len(test['Track_uri'].unique())"
   ]
  },
  {
   "cell_type": "code",
   "execution_count": 5,
   "metadata": {},
   "outputs": [],
   "source": [
    "sample = test.loc[:3,:]"
   ]
  },
  {
   "cell_type": "code",
   "execution_count": 6,
   "metadata": {},
   "outputs": [
    {
     "data": {
      "text/html": [
       "<div>\n",
       "<style scoped>\n",
       "    .dataframe tbody tr th:only-of-type {\n",
       "        vertical-align: middle;\n",
       "    }\n",
       "\n",
       "    .dataframe tbody tr th {\n",
       "        vertical-align: top;\n",
       "    }\n",
       "\n",
       "    .dataframe thead th {\n",
       "        text-align: right;\n",
       "    }\n",
       "</style>\n",
       "<table border=\"1\" class=\"dataframe\">\n",
       "  <thead>\n",
       "    <tr style=\"text-align: right;\">\n",
       "      <th></th>\n",
       "      <th>Playlistid</th>\n",
       "      <th>Trackid</th>\n",
       "      <th>Artist_Name</th>\n",
       "      <th>Track_Name</th>\n",
       "      <th>Album_Name</th>\n",
       "      <th>Track_Duration</th>\n",
       "      <th>Artist_uri</th>\n",
       "      <th>Track_uri</th>\n",
       "      <th>Album_uri</th>\n",
       "    </tr>\n",
       "  </thead>\n",
       "  <tbody>\n",
       "    <tr>\n",
       "      <th>0</th>\n",
       "      <td>549000</td>\n",
       "      <td>0</td>\n",
       "      <td>Bob Dylan</td>\n",
       "      <td>Boots of Spanish Leather</td>\n",
       "      <td>The Times They Are A-Changin'</td>\n",
       "      <td>277106</td>\n",
       "      <td>spotify:artist:74ASZWbe4lXaubB36ztrGX</td>\n",
       "      <td>spotify:track:6QHYEZlm9wyfXfEM1vSu1P</td>\n",
       "      <td>spotify:album:7DZeLXvr9eTVpyI1OlqtcS</td>\n",
       "    </tr>\n",
       "    <tr>\n",
       "      <th>1</th>\n",
       "      <td>549000</td>\n",
       "      <td>1</td>\n",
       "      <td>Bob Dylan</td>\n",
       "      <td>Mr. Tambourine Man</td>\n",
       "      <td>Bringing It All Back Home</td>\n",
       "      <td>330533</td>\n",
       "      <td>spotify:artist:74ASZWbe4lXaubB36ztrGX</td>\n",
       "      <td>spotify:track:3RkQ3UwOyPqpIiIvGVewuU</td>\n",
       "      <td>spotify:album:1lPoRKSgZHQAYXxzBsOQ7v</td>\n",
       "    </tr>\n",
       "    <tr>\n",
       "      <th>2</th>\n",
       "      <td>549000</td>\n",
       "      <td>2</td>\n",
       "      <td>Loggins &amp; Messina</td>\n",
       "      <td>Danny's Song</td>\n",
       "      <td>The Best: Loggins &amp; Messina Sittin' In Again</td>\n",
       "      <td>254653</td>\n",
       "      <td>spotify:artist:7emRV8AluG3d4e5T0DZiK9</td>\n",
       "      <td>spotify:track:0ju1jP0cSPJ8tmojYBEI89</td>\n",
       "      <td>spotify:album:5BWgJaesMjpJWCTU9sgUPf</td>\n",
       "    </tr>\n",
       "    <tr>\n",
       "      <th>3</th>\n",
       "      <td>549000</td>\n",
       "      <td>3</td>\n",
       "      <td>Bob Dylan</td>\n",
       "      <td>A Hard Rain's A-Gonna Fall</td>\n",
       "      <td>The Freewheelin' Bob Dylan</td>\n",
       "      <td>412200</td>\n",
       "      <td>spotify:artist:74ASZWbe4lXaubB36ztrGX</td>\n",
       "      <td>spotify:track:7ny2ATvjtKszCpLpfsGnVQ</td>\n",
       "      <td>spotify:album:0o1uFxZ1VTviqvNaYkTJek</td>\n",
       "    </tr>\n",
       "  </tbody>\n",
       "</table>\n",
       "</div>"
      ],
      "text/plain": [
       "   Playlistid  Trackid        Artist_Name                  Track_Name  \\\n",
       "0      549000        0          Bob Dylan    Boots of Spanish Leather   \n",
       "1      549000        1          Bob Dylan          Mr. Tambourine Man   \n",
       "2      549000        2  Loggins & Messina                Danny's Song   \n",
       "3      549000        3          Bob Dylan  A Hard Rain's A-Gonna Fall   \n",
       "\n",
       "                                     Album_Name  Track_Duration  \\\n",
       "0                 The Times They Are A-Changin'          277106   \n",
       "1                     Bringing It All Back Home          330533   \n",
       "2  The Best: Loggins & Messina Sittin' In Again          254653   \n",
       "3                    The Freewheelin' Bob Dylan          412200   \n",
       "\n",
       "                              Artist_uri  \\\n",
       "0  spotify:artist:74ASZWbe4lXaubB36ztrGX   \n",
       "1  spotify:artist:74ASZWbe4lXaubB36ztrGX   \n",
       "2  spotify:artist:7emRV8AluG3d4e5T0DZiK9   \n",
       "3  spotify:artist:74ASZWbe4lXaubB36ztrGX   \n",
       "\n",
       "                              Track_uri                             Album_uri  \n",
       "0  spotify:track:6QHYEZlm9wyfXfEM1vSu1P  spotify:album:7DZeLXvr9eTVpyI1OlqtcS  \n",
       "1  spotify:track:3RkQ3UwOyPqpIiIvGVewuU  spotify:album:1lPoRKSgZHQAYXxzBsOQ7v  \n",
       "2  spotify:track:0ju1jP0cSPJ8tmojYBEI89  spotify:album:5BWgJaesMjpJWCTU9sgUPf  \n",
       "3  spotify:track:7ny2ATvjtKszCpLpfsGnVQ  spotify:album:0o1uFxZ1VTviqvNaYkTJek  "
      ]
     },
     "execution_count": 6,
     "metadata": {},
     "output_type": "execute_result"
    }
   ],
   "source": [
    "sample"
   ]
  },
  {
   "cell_type": "code",
   "execution_count": 29,
   "metadata": {},
   "outputs": [],
   "source": [
    "import spotipy\n",
    "from spotipy.oauth2 import SpotifyClientCredentials\n",
    "\n",
    "client_credentials_manager = SpotifyClientCredentials(client_id='fc03c036ef2e4552810bcfa717b8c9d6',\n",
    "                                                      client_secret='3f2bc1d385394fdebbfbca47a9b07268')\n",
    "\n",
    "sp = spotipy.Spotify(client_credentials_manager=client_credentials_manager)\n",
    "\n",
    "playlists = sp.audio_features(sample['Track_uri'][0])\n",
    "# while playlists:\n",
    "#     for i, playlist in enumerate(playlists['items']):\n",
    "#         print(\"%4d %s %s\" % (i + 1 + playlists['offset'], playlist['uri'],  playlist['name']))\n",
    "#     if playlists['next']:\n",
    "#         playlists = sp.next(playlists)\n",
    "#     else:\n",
    "#         playlists = None"
   ]
  },
  {
   "cell_type": "code",
   "execution_count": null,
   "metadata": {},
   "outputs": [],
   "source": []
  },
  {
   "cell_type": "code",
   "execution_count": null,
   "metadata": {},
   "outputs": [],
   "source": []
  },
  {
   "cell_type": "code",
   "execution_count": 31,
   "metadata": {},
   "outputs": [
    {
     "data": {
      "text/plain": [
       "8"
      ]
     },
     "execution_count": 31,
     "metadata": {},
     "output_type": "execute_result"
    }
   ],
   "source": [
    "playlists[0]['key']"
   ]
  },
  {
   "cell_type": "code",
   "execution_count": null,
   "metadata": {},
   "outputs": [],
   "source": [
    "import spotipy\n",
    "from spotipy.oauth2 import SpotifyClientCredentials\n",
    "\n",
    "client_credentials_manager = SpotifyClientCredentials(client_id='fc03c036ef2e4552810bcfa717b8c9d6',\n",
    "                                                      client_secret='3f2bc1d385394fdebbfbca47a9b07268')\n",
    "\n",
    "sp = spotipy.Spotify(client_credentials_manager=client_credentials_manager)\n",
    "\n",
    "\n",
    "list_uri = #list of track uri\n",
    "\n",
    "playlists = sp.audio_features(list_uri)"
   ]
  }
 ],
 "metadata": {
  "kernelspec": {
   "display_name": "Python 3",
   "language": "python",
   "name": "python3"
  },
  "language_info": {
   "codemirror_mode": {
    "name": "ipython",
    "version": 3
   },
   "file_extension": ".py",
   "mimetype": "text/x-python",
   "name": "python",
   "nbconvert_exporter": "python",
   "pygments_lexer": "ipython3",
   "version": "3.6.5"
  }
 },
 "nbformat": 4,
 "nbformat_minor": 2
}
